{
 "cells": [
  {
   "cell_type": "markdown",
   "metadata": {},
   "source": [
    "# STAT207 Mini-Project #1 - Video Game Sales\n",
    "\n",
    "\n",
    "Ryan Sponzilli"
   ]
  },
  {
   "cell_type": "code",
   "execution_count": 44,
   "metadata": {},
   "outputs": [],
   "source": [
    "#Imports here\n",
    "import pandas as pd\n",
    "import matplotlib.pyplot as plt\n",
    "import seaborn as sns"
   ]
  },
  {
   "cell_type": "markdown",
   "metadata": {},
   "source": [
    "## 1. Introduction"
   ]
  },
  {
   "cell_type": "markdown",
   "metadata": {},
   "source": [
    "How does the nature of the relationship between `Length.All Playstyles.Average` and `Metrics.Sales` change for different values of `Metadata.Genres` in the dataset? The motivation behind this question is to determine the ideal length of games in different genres. The ideal length is the length which corresponds to the most number of sales. A video game studio creative director might be interested in this metric. Based on the genre of game they are developing, they can determine how long they should make the game in order to generate the most sales."
   ]
  },
  {
   "cell_type": "markdown",
   "metadata": {},
   "source": [
    "## 2. Dataset Discussion"
   ]
  },
  {
   "cell_type": "markdown",
   "metadata": {},
   "source": [
    "### Dataset Display"
   ]
  },
  {
   "cell_type": "markdown",
   "metadata": {},
   "source": [
    "Below, I have loaded the dataset and displayed the first 5 rows. This dataset has 1,212 rows in total. I got this dataset from Dr. Ellison, and she originally downloaded the dataset at https://corgis-edu.github.io/corgis/csv/video_games/ on 9/8/2023. Each row in the dataset represents a distinct video game. This dataset was collected by Dr. Joe Cox, and the playtime information was collected from crowd-sourced data on \"How Long to Beat.\" This dataset is not inclusive of all possible types of observations. For example, it includes total sales in millions of dollars, but does not provide any insight into the price per unit or total units sold. This means that the creative director mentioned earlier will get a sense for how successful their game could be, but offers them no guidance on what price to set their game at. The three variables I intend to expore are `Metrics.Sales`, `Length.All Playstyles.Average`, and `Metadata.Genres`. `Metrics.Sales` is the total sales made on the game measured in millions of dollars. `Length.All Playstyles.Average` is the mean time that players reported completing the game in any way, in hours. `Metadata.Genres` is the list of genres that the game belongs to."
   ]
  },
  {
   "cell_type": "code",
   "execution_count": 18,
   "metadata": {},
   "outputs": [
    {
     "data": {
      "text/html": [
       "<div>\n",
       "<style scoped>\n",
       "    .dataframe tbody tr th:only-of-type {\n",
       "        vertical-align: middle;\n",
       "    }\n",
       "\n",
       "    .dataframe tbody tr th {\n",
       "        vertical-align: top;\n",
       "    }\n",
       "\n",
       "    .dataframe thead th {\n",
       "        text-align: right;\n",
       "    }\n",
       "</style>\n",
       "<table border=\"1\" class=\"dataframe\">\n",
       "  <thead>\n",
       "    <tr style=\"text-align: right;\">\n",
       "      <th></th>\n",
       "      <th>Title</th>\n",
       "      <th>Features.Handheld?</th>\n",
       "      <th>Features.Max Players</th>\n",
       "      <th>Features.Multiplatform?</th>\n",
       "      <th>Features.Online?</th>\n",
       "      <th>Metadata.Genres</th>\n",
       "      <th>Metadata.Licensed?</th>\n",
       "      <th>Metadata.Publishers</th>\n",
       "      <th>Metadata.Sequel?</th>\n",
       "      <th>Metrics.Review Score</th>\n",
       "      <th>...</th>\n",
       "      <th>Length.Main + Extras.Average</th>\n",
       "      <th>Length.Main + Extras.Leisure</th>\n",
       "      <th>Length.Main + Extras.Median</th>\n",
       "      <th>Length.Main + Extras.Polled</th>\n",
       "      <th>Length.Main + Extras.Rushed</th>\n",
       "      <th>Length.Main Story.Average</th>\n",
       "      <th>Length.Main Story.Leisure</th>\n",
       "      <th>Length.Main Story.Median</th>\n",
       "      <th>Length.Main Story.Polled</th>\n",
       "      <th>Length.Main Story.Rushed</th>\n",
       "    </tr>\n",
       "  </thead>\n",
       "  <tbody>\n",
       "    <tr>\n",
       "      <th>0</th>\n",
       "      <td>Super Mario 64 DS</td>\n",
       "      <td>True</td>\n",
       "      <td>1</td>\n",
       "      <td>True</td>\n",
       "      <td>True</td>\n",
       "      <td>Action</td>\n",
       "      <td>True</td>\n",
       "      <td>Nintendo</td>\n",
       "      <td>True</td>\n",
       "      <td>85</td>\n",
       "      <td>...</td>\n",
       "      <td>24.916667</td>\n",
       "      <td>29.966667</td>\n",
       "      <td>25.000000</td>\n",
       "      <td>16</td>\n",
       "      <td>18.333333</td>\n",
       "      <td>14.333333</td>\n",
       "      <td>18.316667</td>\n",
       "      <td>14.500000</td>\n",
       "      <td>21</td>\n",
       "      <td>9.700000</td>\n",
       "    </tr>\n",
       "    <tr>\n",
       "      <th>1</th>\n",
       "      <td>Lumines: Puzzle Fusion</td>\n",
       "      <td>True</td>\n",
       "      <td>1</td>\n",
       "      <td>True</td>\n",
       "      <td>True</td>\n",
       "      <td>Strategy</td>\n",
       "      <td>True</td>\n",
       "      <td>Ubisoft</td>\n",
       "      <td>True</td>\n",
       "      <td>89</td>\n",
       "      <td>...</td>\n",
       "      <td>9.750000</td>\n",
       "      <td>9.866667</td>\n",
       "      <td>9.750000</td>\n",
       "      <td>2</td>\n",
       "      <td>9.616667</td>\n",
       "      <td>10.333333</td>\n",
       "      <td>11.083333</td>\n",
       "      <td>10.000000</td>\n",
       "      <td>3</td>\n",
       "      <td>9.583333</td>\n",
       "    </tr>\n",
       "    <tr>\n",
       "      <th>2</th>\n",
       "      <td>WarioWare Touched!</td>\n",
       "      <td>True</td>\n",
       "      <td>2</td>\n",
       "      <td>True</td>\n",
       "      <td>True</td>\n",
       "      <td>Action,Racing / Driving,Sports</td>\n",
       "      <td>True</td>\n",
       "      <td>Nintendo</td>\n",
       "      <td>True</td>\n",
       "      <td>81</td>\n",
       "      <td>...</td>\n",
       "      <td>3.850000</td>\n",
       "      <td>5.666667</td>\n",
       "      <td>3.333333</td>\n",
       "      <td>11</td>\n",
       "      <td>2.783333</td>\n",
       "      <td>1.916667</td>\n",
       "      <td>2.933333</td>\n",
       "      <td>1.833333</td>\n",
       "      <td>30</td>\n",
       "      <td>1.433333</td>\n",
       "    </tr>\n",
       "    <tr>\n",
       "      <th>3</th>\n",
       "      <td>Hot Shots Golf: Open Tee</td>\n",
       "      <td>True</td>\n",
       "      <td>1</td>\n",
       "      <td>True</td>\n",
       "      <td>True</td>\n",
       "      <td>Sports</td>\n",
       "      <td>True</td>\n",
       "      <td>Sony</td>\n",
       "      <td>True</td>\n",
       "      <td>81</td>\n",
       "      <td>...</td>\n",
       "      <td>0.000000</td>\n",
       "      <td>0.000000</td>\n",
       "      <td>0.000000</td>\n",
       "      <td>0</td>\n",
       "      <td>0.000000</td>\n",
       "      <td>0.000000</td>\n",
       "      <td>0.000000</td>\n",
       "      <td>0.000000</td>\n",
       "      <td>0</td>\n",
       "      <td>0.000000</td>\n",
       "    </tr>\n",
       "    <tr>\n",
       "      <th>4</th>\n",
       "      <td>Spider-Man 2</td>\n",
       "      <td>True</td>\n",
       "      <td>1</td>\n",
       "      <td>True</td>\n",
       "      <td>True</td>\n",
       "      <td>Action</td>\n",
       "      <td>True</td>\n",
       "      <td>Activision</td>\n",
       "      <td>True</td>\n",
       "      <td>61</td>\n",
       "      <td>...</td>\n",
       "      <td>12.766667</td>\n",
       "      <td>17.316667</td>\n",
       "      <td>12.500000</td>\n",
       "      <td>12</td>\n",
       "      <td>10.483333</td>\n",
       "      <td>8.350000</td>\n",
       "      <td>11.083333</td>\n",
       "      <td>8.000000</td>\n",
       "      <td>23</td>\n",
       "      <td>5.333333</td>\n",
       "    </tr>\n",
       "  </tbody>\n",
       "</table>\n",
       "<p>5 rows × 36 columns</p>\n",
       "</div>"
      ],
      "text/plain": [
       "                      Title  Features.Handheld?  Features.Max Players  \\\n",
       "0         Super Mario 64 DS                True                     1   \n",
       "1    Lumines: Puzzle Fusion                True                     1   \n",
       "2        WarioWare Touched!                True                     2   \n",
       "3  Hot Shots Golf: Open Tee                True                     1   \n",
       "4              Spider-Man 2                True                     1   \n",
       "\n",
       "   Features.Multiplatform?  Features.Online?                 Metadata.Genres  \\\n",
       "0                     True              True                          Action   \n",
       "1                     True              True                        Strategy   \n",
       "2                     True              True  Action,Racing / Driving,Sports   \n",
       "3                     True              True                          Sports   \n",
       "4                     True              True                          Action   \n",
       "\n",
       "   Metadata.Licensed? Metadata.Publishers  Metadata.Sequel?  \\\n",
       "0                True            Nintendo              True   \n",
       "1                True             Ubisoft              True   \n",
       "2                True            Nintendo              True   \n",
       "3                True                Sony              True   \n",
       "4                True          Activision              True   \n",
       "\n",
       "   Metrics.Review Score  ...  Length.Main + Extras.Average  \\\n",
       "0                    85  ...                     24.916667   \n",
       "1                    89  ...                      9.750000   \n",
       "2                    81  ...                      3.850000   \n",
       "3                    81  ...                      0.000000   \n",
       "4                    61  ...                     12.766667   \n",
       "\n",
       "   Length.Main + Extras.Leisure Length.Main + Extras.Median  \\\n",
       "0                     29.966667                   25.000000   \n",
       "1                      9.866667                    9.750000   \n",
       "2                      5.666667                    3.333333   \n",
       "3                      0.000000                    0.000000   \n",
       "4                     17.316667                   12.500000   \n",
       "\n",
       "  Length.Main + Extras.Polled  Length.Main + Extras.Rushed  \\\n",
       "0                          16                    18.333333   \n",
       "1                           2                     9.616667   \n",
       "2                          11                     2.783333   \n",
       "3                           0                     0.000000   \n",
       "4                          12                    10.483333   \n",
       "\n",
       "   Length.Main Story.Average  Length.Main Story.Leisure  \\\n",
       "0                  14.333333                  18.316667   \n",
       "1                  10.333333                  11.083333   \n",
       "2                   1.916667                   2.933333   \n",
       "3                   0.000000                   0.000000   \n",
       "4                   8.350000                  11.083333   \n",
       "\n",
       "   Length.Main Story.Median  Length.Main Story.Polled  \\\n",
       "0                 14.500000                        21   \n",
       "1                 10.000000                         3   \n",
       "2                  1.833333                        30   \n",
       "3                  0.000000                         0   \n",
       "4                  8.000000                        23   \n",
       "\n",
       "   Length.Main Story.Rushed  \n",
       "0                  9.700000  \n",
       "1                  9.583333  \n",
       "2                  1.433333  \n",
       "3                  0.000000  \n",
       "4                  5.333333  \n",
       "\n",
       "[5 rows x 36 columns]"
      ]
     },
     "execution_count": 18,
     "metadata": {},
     "output_type": "execute_result"
    }
   ],
   "source": [
    "df = pd.read_csv(\"video_games.csv\")\n",
    "df.head()"
   ]
  },
  {
   "cell_type": "code",
   "execution_count": 19,
   "metadata": {},
   "outputs": [
    {
     "data": {
      "text/plain": [
       "1212"
      ]
     },
     "execution_count": 19,
     "metadata": {},
     "output_type": "execute_result"
    }
   ],
   "source": [
    "# Original Number of Rows\n",
    "df.shape[0]"
   ]
  },
  {
   "cell_type": "markdown",
   "metadata": {},
   "source": [
    "## 3. Dataset Cleaning"
   ]
  },
  {
   "cell_type": "markdown",
   "metadata": {},
   "source": [
    "I am going to only include the relevant columns to this analysis in the dataframe, and remove the rest."
   ]
  },
  {
   "cell_type": "code",
   "execution_count": 20,
   "metadata": {},
   "outputs": [
    {
     "data": {
      "text/html": [
       "<div>\n",
       "<style scoped>\n",
       "    .dataframe tbody tr th:only-of-type {\n",
       "        vertical-align: middle;\n",
       "    }\n",
       "\n",
       "    .dataframe tbody tr th {\n",
       "        vertical-align: top;\n",
       "    }\n",
       "\n",
       "    .dataframe thead th {\n",
       "        text-align: right;\n",
       "    }\n",
       "</style>\n",
       "<table border=\"1\" class=\"dataframe\">\n",
       "  <thead>\n",
       "    <tr style=\"text-align: right;\">\n",
       "      <th></th>\n",
       "      <th>Title</th>\n",
       "      <th>Metrics.Sales</th>\n",
       "      <th>Length.All PlayStyles.Average</th>\n",
       "      <th>Metadata.Genres</th>\n",
       "    </tr>\n",
       "  </thead>\n",
       "  <tbody>\n",
       "    <tr>\n",
       "      <th>0</th>\n",
       "      <td>Super Mario 64 DS</td>\n",
       "      <td>4.69</td>\n",
       "      <td>22.716667</td>\n",
       "      <td>Action</td>\n",
       "    </tr>\n",
       "    <tr>\n",
       "      <th>1</th>\n",
       "      <td>Lumines: Puzzle Fusion</td>\n",
       "      <td>0.56</td>\n",
       "      <td>10.100000</td>\n",
       "      <td>Strategy</td>\n",
       "    </tr>\n",
       "    <tr>\n",
       "      <th>2</th>\n",
       "      <td>WarioWare Touched!</td>\n",
       "      <td>0.54</td>\n",
       "      <td>4.566667</td>\n",
       "      <td>Action,Racing / Driving,Sports</td>\n",
       "    </tr>\n",
       "    <tr>\n",
       "      <th>3</th>\n",
       "      <td>Hot Shots Golf: Open Tee</td>\n",
       "      <td>0.49</td>\n",
       "      <td>0.000000</td>\n",
       "      <td>Sports</td>\n",
       "    </tr>\n",
       "    <tr>\n",
       "      <th>4</th>\n",
       "      <td>Spider-Man 2</td>\n",
       "      <td>0.45</td>\n",
       "      <td>13.250000</td>\n",
       "      <td>Action</td>\n",
       "    </tr>\n",
       "    <tr>\n",
       "      <th>...</th>\n",
       "      <td>...</td>\n",
       "      <td>...</td>\n",
       "      <td>...</td>\n",
       "      <td>...</td>\n",
       "    </tr>\n",
       "    <tr>\n",
       "      <th>1207</th>\n",
       "      <td>Secret Files: Tunguska</td>\n",
       "      <td>0.03</td>\n",
       "      <td>10.083333</td>\n",
       "      <td>Adventure</td>\n",
       "    </tr>\n",
       "    <tr>\n",
       "      <th>1208</th>\n",
       "      <td>Fading Shadows</td>\n",
       "      <td>0.03</td>\n",
       "      <td>0.000000</td>\n",
       "      <td>Action,Adventure</td>\n",
       "    </tr>\n",
       "    <tr>\n",
       "      <th>1209</th>\n",
       "      <td>Hail to the Chimp</td>\n",
       "      <td>0.03</td>\n",
       "      <td>0.000000</td>\n",
       "      <td>Action,Strategy</td>\n",
       "    </tr>\n",
       "    <tr>\n",
       "      <th>1210</th>\n",
       "      <td>Secret Files: Tunguska</td>\n",
       "      <td>0.02</td>\n",
       "      <td>10.083333</td>\n",
       "      <td>Adventure</td>\n",
       "    </tr>\n",
       "    <tr>\n",
       "      <th>1211</th>\n",
       "      <td>Chicken Hunter</td>\n",
       "      <td>0.02</td>\n",
       "      <td>1.500000</td>\n",
       "      <td>Action</td>\n",
       "    </tr>\n",
       "  </tbody>\n",
       "</table>\n",
       "<p>1212 rows × 4 columns</p>\n",
       "</div>"
      ],
      "text/plain": [
       "                         Title  Metrics.Sales  Length.All PlayStyles.Average  \\\n",
       "0            Super Mario 64 DS           4.69                      22.716667   \n",
       "1       Lumines: Puzzle Fusion           0.56                      10.100000   \n",
       "2           WarioWare Touched!           0.54                       4.566667   \n",
       "3     Hot Shots Golf: Open Tee           0.49                       0.000000   \n",
       "4                 Spider-Man 2           0.45                      13.250000   \n",
       "...                        ...            ...                            ...   \n",
       "1207    Secret Files: Tunguska           0.03                      10.083333   \n",
       "1208            Fading Shadows           0.03                       0.000000   \n",
       "1209         Hail to the Chimp           0.03                       0.000000   \n",
       "1210    Secret Files: Tunguska           0.02                      10.083333   \n",
       "1211            Chicken Hunter           0.02                       1.500000   \n",
       "\n",
       "                     Metadata.Genres  \n",
       "0                             Action  \n",
       "1                           Strategy  \n",
       "2     Action,Racing / Driving,Sports  \n",
       "3                             Sports  \n",
       "4                             Action  \n",
       "...                              ...  \n",
       "1207                       Adventure  \n",
       "1208                Action,Adventure  \n",
       "1209                 Action,Strategy  \n",
       "1210                       Adventure  \n",
       "1211                          Action  \n",
       "\n",
       "[1212 rows x 4 columns]"
      ]
     },
     "execution_count": 20,
     "metadata": {},
     "output_type": "execute_result"
    }
   ],
   "source": [
    "df = df[[\"Title\", \"Metrics.Sales\", \"Length.All PlayStyles.Average\", \"Metadata.Genres\"]]\n",
    "df"
   ]
  },
  {
   "cell_type": "markdown",
   "metadata": {},
   "source": [
    "### Missing Value Detection and Cleaning"
   ]
  },
  {
   "cell_type": "markdown",
   "metadata": {},
   "source": [
    "The variables in the reduced dataframe have no explicit missing values, and the datatypes are as expected which implies no implicit missing values."
   ]
  },
  {
   "cell_type": "code",
   "execution_count": 21,
   "metadata": {},
   "outputs": [
    {
     "data": {
      "text/plain": [
       "Title                            0\n",
       "Metrics.Sales                    0\n",
       "Length.All PlayStyles.Average    0\n",
       "Metadata.Genres                  0\n",
       "dtype: int64"
      ]
     },
     "execution_count": 21,
     "metadata": {},
     "output_type": "execute_result"
    }
   ],
   "source": [
    "df.isna().sum()"
   ]
  },
  {
   "cell_type": "code",
   "execution_count": 22,
   "metadata": {},
   "outputs": [
    {
     "data": {
      "text/plain": [
       "Title                             object\n",
       "Metrics.Sales                    float64\n",
       "Length.All PlayStyles.Average    float64\n",
       "Metadata.Genres                   object\n",
       "dtype: object"
      ]
     },
     "execution_count": 22,
     "metadata": {},
     "output_type": "execute_result"
    }
   ],
   "source": [
    "df.dtypes"
   ]
  },
  {
   "cell_type": "markdown",
   "metadata": {},
   "source": [
    "### Sample Size Cleaning"
   ]
  },
  {
   "cell_type": "markdown",
   "metadata": {},
   "source": [
    "The categorical variable being analyzed, `Metadata.Genres`, does not contain one category per row, rather each row can belong to more than one category. Initially, I experimented with converting the `Metadata.Genres` column into indicator variables for the 8 unique genre categories: *\"Action\", \"Sports\", \"Strategy\", \"RPG\", \"Racing\", \"Simulation\", \"Adventure\", \"Educational\"*. However, I realized that doing it this way is probably outside of the scope of this project. Instead, I just took the 5 most common genres/genre combinations, and dropped the rest. This dropped 369 rows, or 30% of the data. If I were to instead keep every unique genre/genre combination with at least 10 entries, that would become confusing as the relationship between single genres becomes hard to decipher among the many combinations of genres represented."
   ]
  },
  {
   "cell_type": "code",
   "execution_count": 23,
   "metadata": {},
   "outputs": [
    {
     "data": {
      "text/plain": [
       "Metadata.Genres\n",
       "Action                                                  476\n",
       "Sports                                                  166\n",
       "Strategy                                                 62\n",
       "Action,Role-Playing (RPG)                                55\n",
       "Racing / Driving                                         53\n",
       "Role-Playing (RPG)                                       52\n",
       "Action,Strategy                                          45\n",
       "Action,Racing / Driving                                  40\n",
       "Simulation                                               30\n",
       "Action,Simulation                                        28\n",
       "Action,Adventure                                         28\n",
       "Adventure                                                21\n",
       "Role-Playing (RPG),Strategy                              20\n",
       "Action,Sports                                            20\n",
       "Racing / Driving,Sports                                  19\n",
       "Simulation,Strategy                                      12\n",
       "Racing / Driving,Simulation,Sports                        9\n",
       "Racing / Driving,Simulation                               6\n",
       "Adventure,Simulation                                      6\n",
       "Action,Racing / Driving,Sports                            6\n",
       "Action,Simulation,Sports                                  6\n",
       "Action,Role-Playing (RPG),Strategy                        5\n",
       "Role-Playing (RPG),Simulation                             5\n",
       "Action,Adventure,Role-Playing (RPG)                       4\n",
       "Adventure,Role-Playing (RPG)                              4\n",
       "Simulation,Sports                                         3\n",
       "Action,Racing / Driving,Role-Playing (RPG)                3\n",
       "Action,Adventure,Racing / Driving                         3\n",
       "Adventure,Role-Playing (RPG),Strategy                     2\n",
       "Educational                                               2\n",
       "Action,Simulation,Strategy                                2\n",
       "Simulation,Sports,Strategy                                2\n",
       "Action,Adventure,Racing / Driving,Sports                  2\n",
       "Adventure,Simulation,Sports                               1\n",
       "Action,Role-Playing (RPG),Simulation                      1\n",
       "Action,Racing / Driving,Sports,Strategy                   1\n",
       "Action,Educational                                        1\n",
       "Racing / Driving,Simulation,Strategy                      1\n",
       "Role-Playing (RPG),Simulation,Strategy                    1\n",
       "Educational,Simulation                                    1\n",
       "Educational,Strategy                                      1\n",
       "Adventure,Educational,Strategy                            1\n",
       "Educational,Sports                                        1\n",
       "Action,Role-Playing (RPG),Simulation,Sports,Strategy      1\n",
       "Action,Racing / Driving,Role-Playing (RPG),Strategy       1\n",
       "Action,Racing / Driving,Simulation                        1\n",
       "Sports,Strategy                                           1\n",
       "Action,Adventure,Strategy                                 1\n",
       "Name: count, dtype: int64"
      ]
     },
     "execution_count": 23,
     "metadata": {},
     "output_type": "execute_result"
    }
   ],
   "source": [
    "df[\"Metadata.Genres\"].value_counts()"
   ]
  },
  {
   "cell_type": "code",
   "execution_count": 24,
   "metadata": {},
   "outputs": [
    {
     "data": {
      "text/plain": [
       "Index(['Action', 'Sports', 'Strategy', 'Action,Role-Playing (RPG)',\n",
       "       'Racing / Driving', 'Role-Playing (RPG)'],\n",
       "      dtype='object', name='Metadata.Genres')"
      ]
     },
     "execution_count": 24,
     "metadata": {},
     "output_type": "execute_result"
    }
   ],
   "source": [
    "top_genres = df[\"Metadata.Genres\"].value_counts().index[0:6]\n",
    "top_genres"
   ]
  },
  {
   "cell_type": "code",
   "execution_count": 45,
   "metadata": {},
   "outputs": [
    {
     "data": {
      "text/plain": [
       "843"
      ]
     },
     "execution_count": 45,
     "metadata": {},
     "output_type": "execute_result"
    }
   ],
   "source": [
    "df = df[df[\"Metadata.Genres\"].isin(top_genres)]\n",
    "df.shape[0]"
   ]
  },
  {
   "cell_type": "markdown",
   "metadata": {},
   "source": [
    "### Outlier Cleaning"
   ]
  },
  {
   "cell_type": "markdown",
   "metadata": {},
   "source": [
    "The boxplot for `Metrics.Sales` has a lot of outliers, and a few super outliers. I decided to drop all rows with sales over 4 million dollars. Only a few games are over that number of sales, and it is likely that something much more important than the genre contributed to the game's success, so no meaningful insight is really lost by dropping the few highest outliers. This dropped 12 rows. The boxplot for `Length.All PlayStyles.Average` also has a lot of outliers, but not as many as `Metrics.Sales`. There is a big gap around 80 hours of playtime, which makes it a good spot to cutoff extreme outliers. This dropped 9 rows."
   ]
  },
  {
   "cell_type": "code",
   "execution_count": 26,
   "metadata": {},
   "outputs": [
    {
     "data": {
      "text/plain": [
       "<Axes: ylabel='Metrics.Sales'>"
      ]
     },
     "execution_count": 26,
     "metadata": {},
     "output_type": "execute_result"
    },
    {
     "data": {
      "image/png": "[encoded data removed]",
      "text/plain": [
       "<Figure size 640x480 with 1 Axes>"
      ]
     },
     "metadata": {},
     "output_type": "display_data"
    }
   ],
   "source": [
    "sns.boxplot(df[\"Metrics.Sales\"])"
   ]
  },
  {
   "cell_type": "code",
   "execution_count": 46,
   "metadata": {},
   "outputs": [
    {
     "data": {
      "text/plain": [
       "843"
      ]
     },
     "execution_count": 46,
     "metadata": {},
     "output_type": "execute_result"
    }
   ],
   "source": [
    "df = df[df[\"Metrics.Sales\"] < 4]\n",
    "df.shape[0]"
   ]
  },
  {
   "cell_type": "code",
   "execution_count": 28,
   "metadata": {},
   "outputs": [
    {
     "data": {
      "text/plain": [
       "<Axes: ylabel='Length.All PlayStyles.Average'>"
      ]
     },
     "execution_count": 28,
     "metadata": {},
     "output_type": "execute_result"
    },
    {
     "data": {
      "image/png": "[encoded data removed]",
      "text/plain": [
       "<Figure size 640x480 with 1 Axes>"
      ]
     },
     "metadata": {},
     "output_type": "display_data"
    }
   ],
   "source": [
    "sns.boxplot(df[\"Length.All PlayStyles.Average\"])"
   ]
  },
  {
   "cell_type": "code",
   "execution_count": 47,
   "metadata": {},
   "outputs": [
    {
     "data": {
      "text/plain": [
       "843"
      ]
     },
     "execution_count": 47,
     "metadata": {},
     "output_type": "execute_result"
    }
   ],
   "source": [
    "df = df[df[\"Length.All PlayStyles.Average\"] < 80]\n",
    "df.shape[0]"
   ]
  },
  {
   "cell_type": "markdown",
   "metadata": {},
   "source": [
    "## Research Question"
   ]
  },
  {
   "cell_type": "markdown",
   "metadata": {},
   "source": [
    "How does the Relationship between `Length.All Playstyles.Average` and `Metrics.Sales` Change based on Different Values of `Metadata.Genres` in the Dataset?"
   ]
  },
  {
   "cell_type": "markdown",
   "metadata": {},
   "source": [
    "### Visualization"
   ]
  },
  {
   "cell_type": "code",
   "execution_count": 37,
   "metadata": {},
   "outputs": [
    {
     "data": {
      "text/plain": [
       "Text(0.5, 1.0, 'Average Length of Game vs Sales for different Genres')"
      ]
     },
     "execution_count": 37,
     "metadata": {},
     "output_type": "execute_result"
    },
    {
     "data": {
      "image/png": "[encoded data removed]",
      "text/plain": [
       "<Figure size 727.25x500 with 1 Axes>"
      ]
     },
     "metadata": {},
     "output_type": "display_data"
    }
   ],
   "source": [
    "sns.lmplot(x=\"Length.All PlayStyles.Average\",y=\"Metrics.Sales\",hue=\"Metadata.Genres\",data=df,ci=False)\n",
    "plt.ylabel(\"Sales (millions of dollars)\")\n",
    "plt.xlabel(\"Average Length of Game (hours)\")\n",
    "plt.title(\"Average Length of Game vs Sales for different Genres\")"
   ]
  },
  {
   "cell_type": "markdown",
   "metadata": {},
   "source": [
    "### Summary Statistics"
   ]
  },
  {
   "cell_type": "markdown",
   "metadata": {},
   "source": [
    "The direction of the relationship between `Length.All PlayStyles` and `Metrics.Sales` is positive for all *genres* except **Sports**. The shape of the relationship between the two variables is consistent for all *genres*; it is linear. The strength of the relationship between the two variables varies considerabily between *genres*. **Action and Role-Playing (RPG)** games and **Racing / Driving** games have moderately strong relationships between the two variables, **Action** games and **Strategy** have a moderately weak relationship between the two variables, and **Role-Playing (RPG)** and **Sports** games have a very weak (non-existent) relationship between the two variables. The number of outliers varies considerably between *genres*. **Strategy** games have very few outliers compared to the other genres. **Action** games by far have the most outliers of any genre. The other 4 genres have about the same number of outliers, about 5-10. The slopes vary between *genres*. **Action and Role-Playing (RPG)** games have the steepest slope. **Action** and **Racing / Driving** games have similar slopes, slightly less steep than **Action and Role-Playing (RPG)** games. The slopes for **Role-Playing (RPG)**, **Sports**, and **Strategy** games are much less steep, they are nearly horizontal."
   ]
  },
  {
   "cell_type": "markdown",
   "metadata": {},
   "source": [
    "* The correlation coefficient between length and sales for **Action** games is 0.145\n",
    "* The correlation coefficient between length and sales for **Action and Role-Playing (RPG)** games is 0.524\n",
    "* The correlation coefficient between length and sales for **Racing / Driving** games is 0.407\n",
    "* The correlation coefficient between length and sales for **Role-Playing (RPG)** games is 0.064\n",
    "* The correlation coefficient between length and sales for **Sports** games is -0.002\n",
    "* The correlation coefficient between length and sales for **Strategy** games is 0.184"
   ]
  },
  {
   "cell_type": "code",
   "execution_count": 41,
   "metadata": {},
   "outputs": [
    {
     "data": {
      "text/html": [
       "<div>\n",
       "<style scoped>\n",
       "    .dataframe tbody tr th:only-of-type {\n",
       "        vertical-align: middle;\n",
       "    }\n",
       "\n",
       "    .dataframe tbody tr th {\n",
       "        vertical-align: top;\n",
       "    }\n",
       "\n",
       "    .dataframe thead th {\n",
       "        text-align: right;\n",
       "    }\n",
       "</style>\n",
       "<table border=\"1\" class=\"dataframe\">\n",
       "  <thead>\n",
       "    <tr style=\"text-align: right;\">\n",
       "      <th></th>\n",
       "      <th></th>\n",
       "      <th>Metrics.Sales</th>\n",
       "      <th>Length.All PlayStyles.Average</th>\n",
       "    </tr>\n",
       "    <tr>\n",
       "      <th>Metadata.Genres</th>\n",
       "      <th></th>\n",
       "      <th></th>\n",
       "      <th></th>\n",
       "    </tr>\n",
       "  </thead>\n",
       "  <tbody>\n",
       "    <tr>\n",
       "      <th rowspan=\"2\" valign=\"top\">Action</th>\n",
       "      <th>Metrics.Sales</th>\n",
       "      <td>1.000000</td>\n",
       "      <td>0.145781</td>\n",
       "    </tr>\n",
       "    <tr>\n",
       "      <th>Length.All PlayStyles.Average</th>\n",
       "      <td>0.145781</td>\n",
       "      <td>1.000000</td>\n",
       "    </tr>\n",
       "    <tr>\n",
       "      <th rowspan=\"2\" valign=\"top\">Action,Role-Playing (RPG)</th>\n",
       "      <th>Metrics.Sales</th>\n",
       "      <td>1.000000</td>\n",
       "      <td>0.524997</td>\n",
       "    </tr>\n",
       "    <tr>\n",
       "      <th>Length.All PlayStyles.Average</th>\n",
       "      <td>0.524997</td>\n",
       "      <td>1.000000</td>\n",
       "    </tr>\n",
       "    <tr>\n",
       "      <th rowspan=\"2\" valign=\"top\">Racing / Driving</th>\n",
       "      <th>Metrics.Sales</th>\n",
       "      <td>1.000000</td>\n",
       "      <td>0.407929</td>\n",
       "    </tr>\n",
       "    <tr>\n",
       "      <th>Length.All PlayStyles.Average</th>\n",
       "      <td>0.407929</td>\n",
       "      <td>1.000000</td>\n",
       "    </tr>\n",
       "    <tr>\n",
       "      <th rowspan=\"2\" valign=\"top\">Role-Playing (RPG)</th>\n",
       "      <th>Metrics.Sales</th>\n",
       "      <td>1.000000</td>\n",
       "      <td>0.064455</td>\n",
       "    </tr>\n",
       "    <tr>\n",
       "      <th>Length.All PlayStyles.Average</th>\n",
       "      <td>0.064455</td>\n",
       "      <td>1.000000</td>\n",
       "    </tr>\n",
       "    <tr>\n",
       "      <th rowspan=\"2\" valign=\"top\">Sports</th>\n",
       "      <th>Metrics.Sales</th>\n",
       "      <td>1.000000</td>\n",
       "      <td>-0.002649</td>\n",
       "    </tr>\n",
       "    <tr>\n",
       "      <th>Length.All PlayStyles.Average</th>\n",
       "      <td>-0.002649</td>\n",
       "      <td>1.000000</td>\n",
       "    </tr>\n",
       "    <tr>\n",
       "      <th rowspan=\"2\" valign=\"top\">Strategy</th>\n",
       "      <th>Metrics.Sales</th>\n",
       "      <td>1.000000</td>\n",
       "      <td>0.184008</td>\n",
       "    </tr>\n",
       "    <tr>\n",
       "      <th>Length.All PlayStyles.Average</th>\n",
       "      <td>0.184008</td>\n",
       "      <td>1.000000</td>\n",
       "    </tr>\n",
       "  </tbody>\n",
       "</table>\n",
       "</div>"
      ],
      "text/plain": [
       "                                                         Metrics.Sales  \\\n",
       "Metadata.Genres                                                          \n",
       "Action                    Metrics.Sales                       1.000000   \n",
       "                          Length.All PlayStyles.Average       0.145781   \n",
       "Action,Role-Playing (RPG) Metrics.Sales                       1.000000   \n",
       "                          Length.All PlayStyles.Average       0.524997   \n",
       "Racing / Driving          Metrics.Sales                       1.000000   \n",
       "                          Length.All PlayStyles.Average       0.407929   \n",
       "Role-Playing (RPG)        Metrics.Sales                       1.000000   \n",
       "                          Length.All PlayStyles.Average       0.064455   \n",
       "Sports                    Metrics.Sales                       1.000000   \n",
       "                          Length.All PlayStyles.Average      -0.002649   \n",
       "Strategy                  Metrics.Sales                       1.000000   \n",
       "                          Length.All PlayStyles.Average       0.184008   \n",
       "\n",
       "                                                         Length.All PlayStyles.Average  \n",
       "Metadata.Genres                                                                         \n",
       "Action                    Metrics.Sales                                       0.145781  \n",
       "                          Length.All PlayStyles.Average                       1.000000  \n",
       "Action,Role-Playing (RPG) Metrics.Sales                                       0.524997  \n",
       "                          Length.All PlayStyles.Average                       1.000000  \n",
       "Racing / Driving          Metrics.Sales                                       0.407929  \n",
       "                          Length.All PlayStyles.Average                       1.000000  \n",
       "Role-Playing (RPG)        Metrics.Sales                                       0.064455  \n",
       "                          Length.All PlayStyles.Average                       1.000000  \n",
       "Sports                    Metrics.Sales                                      -0.002649  \n",
       "                          Length.All PlayStyles.Average                       1.000000  \n",
       "Strategy                  Metrics.Sales                                       0.184008  \n",
       "                          Length.All PlayStyles.Average                       1.000000  "
      ]
     },
     "execution_count": 41,
     "metadata": {},
     "output_type": "execute_result"
    }
   ],
   "source": [
    "df.groupby(\"Metadata.Genres\").corr(numeric_only=True)"
   ]
  },
  {
   "cell_type": "markdown",
   "metadata": {},
   "source": [
    "### Research Question Answer"
   ]
  },
  {
   "cell_type": "markdown",
   "metadata": {},
   "source": [
    "The Relationship between `Length.All Playstyles.Average` and `Metrics.Sales` is seen to change for different values of `Metadata.Genres` in the dataset. On average, increasing the length of the game for games of **Action and Role-Playing (RPG)** and **Racing / Driving** genres leads to a higher amount of sales. On average, increasing the length of the game for games of **Action** and **Strategy** genres sometimes leads to a higher amount of sales. On average, increasing the length of the game for games of **Sports** and **Role-Playing (RPG)** does not lead to a higher amount of sales. For our video game studio creative director, this means that when developing a new game, the genre of the game should be kept in mind when deciding how long to make the game. This can help prevent **Action and Role-Playing (RPG)** and **Racing / Driving** games from flopping because they are too short, ultimately losing the company money. On the flip side, the company can also not waste time and money making **Sports** and **Role-Playing (RPG)** games longer than they need to be."
   ]
  },
  {
   "cell_type": "markdown",
   "metadata": {},
   "source": [
    "## 5. Conclusion"
   ]
  },
  {
   "cell_type": "markdown",
   "metadata": {},
   "source": [
    "To summarize, on average, videogames in this dataset that are **Action and Role-Playing (RPG)** and **Racing / Driving** games see increased sales with increased length of the game, while **Sports** and **Role-Playing (RPG)** games see no increased sales with increased length of the game. A shortcoming of this analysis is that games can belong to more than one genre, but this analysis does consider that (for the most part).\n",
    "For our video game studio creative director, this means that the relationship between `Length.All Playstyles.Average` and `Metrics.Sales` for, say, a game that is both an **Action** game and a **Strategy** game is unknown; he cannot make an informed decision about how much time and money should be poured into the game (in order to make it longer) for it to be successful. In terms of future work, the analysis should consider the impact on sales by singular genre, and provide insights into how combinations of genres affect sales. This dataset contains all the necessary information to do this since the `Metadata.Genres` column contains a string, within which is a list of genres separated by a comma. This would provide even more specific insights that would be of use to our video game studio creative director."
   ]
  }
 ],
 "metadata": {
  "kernelspec": {
   "display_name": "Python 3 (ipykernel)",
   "language": "python",
   "name": "python3"
  },
  "language_info": {
   "codemirror_mode": {
    "name": "ipython",
    "version": 3
   },
   "file_extension": ".py",
   "mimetype": "text/x-python",
   "name": "python",
   "nbconvert_exporter": "python",
   "pygments_lexer": "ipython3",
   "version": "3.11.1"
  }
 },
 "nbformat": 4,
 "nbformat_minor": 4
}
