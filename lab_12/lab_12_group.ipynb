{
 "cells": [
  {
   "cell_type": "markdown",
   "metadata": {},
   "source": [
    "# STAT 207 Lab Assignment 12 - Group Part - [9 Points]\n",
    "\n",
    "\n",
    "\n",
    "## <u>Case Study</u>: Predicting Airbnb Superhost Status\n",
    "\n",
    "Suppose that you have a spare room in your house (in Seattle) and you are considering advertising this room to guests on Airbnb. Airbnb superhosts are considered to be experienced hosts who provide a shining example for other hosts, and extraordinary experiences for their guests. Once a host reaches Superhost status, a superhost badge will automatically appear on their listing and profile to help guests identify them. You would like to assess your chances of being named a superhost with your property.\n",
    "\n",
    "The following dataset is a sample (assume random) of available Airbnb listings in Seattle, WA. These listings were collected in January 2016, and filtered to just contain listings from the five most popular Seattlbe neighborhoods (for Airbnb listings) and just contain listings that are either in a house or apartment property.\n",
    "\n",
    "This dataset contains the following variables.\n",
    "\n",
    "**Listing Information**\n",
    "The dataset contains the following information about the Airbnb *listing*:\n",
    "* <u>price</u>: price of the listing (per night)(in US dollars)\n",
    "* <u>review_scores_rating</u>: the average rating of the listing [0,100] (100 is the best)\n",
    "* <u>number_of_reviews</u>: the number of reviews for the listing\n",
    "* <u>security_deposit</u>: the security deposit required for the listing (in US dollars)\n",
    "* <u>cleaning_fee</u>: the cleaning fee required for the listing (in US dollars)\n",
    "* <u>neighborhood</u>: the neighborhood of Seattle the listing is located in\n",
    "* <u>property_type</u>: is the listing in a 'House' or 'Apartment'\n",
    "* <u>room_type</u>: is the listing a 'Entire home/apt', 'Private room', or 'Shared room'\n",
    "* <u>accommodates</u>: how many guests will the listing accommodate\n",
    "* <u>bathrooms</u>:how many bathrooms does the listing have\n",
    "* <u>beds</u>: how many beds does the listing have\n",
    "\n",
    "**Host Information**\n",
    "The dataset also contains the following information about the *host* of the given Airbnb listing:\n",
    "* <u>host_is_superhost</u>: is the host a \"superhost\": t=True, f=False\n",
    "* <u>host_has_profile_pic</u>: does the host have a profile pic in their bio: t=True, f=False\n",
    "* <u>host_response_time</u>: how fast will the host respond to requests (on average)\n",
    "\n",
    "## Research Goals\n",
    "\n",
    "The primary research goal that we will pursue in this group lab will be to build a predictive model that effectively predicts the `probability a Seattle Airbnb host is a **superhost**` for ***LISTINGS IN THIS DATASET*** given some combination of the available explanatory variables.\n",
    "\n",
    "\n",
    "\n",
    "## Points\n",
    "\n",
    "<p>&nbsp;</p>\n",
    "<table style=\"border: none;border-collapse: collapse;width:102pt;\">\n",
    "    <tbody>\n",
    "        <tr>\n",
    "            <td style=\"padding:0px;color:black;font-size:15px;font-weight:700;font-style:normal;text-decoration:none;font-family:Calibri, sans-serif;text-align:right;vertical-align:bottom;border:.5pt solid windowtext;height:14.25pt;width:51pt;\">Problem</td>\n",
    "            <td style=\"padding:0px;color:black;font-size:15px;font-weight:700;font-style:normal;text-decoration:none;font-family:Calibri, sans-serif;text-align:general;vertical-align:bottom;border:.5pt solid windowtext;border-left:none;width:51pt;\">Points</td>\n",
    "        </tr>\n",
    "        <tr>\n",
    "            <td style=\"padding:0px;color:black;font-size:15px;font-weight:400;font-style:normal;text-decoration:none;font-family:Calibri, sans-serif;text-align:right;vertical-align:bottom;border:.5pt solid windowtext;height:14.25pt;border-top:none;\">1.1</td>\n",
    "            <td style=\"padding:0px;color:black;font-size:15px;font-weight:400;font-style:normal;text-decoration:none;font-family:Calibri, sans-serif;text-align:right;vertical-align:bottom;border:.5pt solid windowtext;border-top:none;border-left:none;\">0.25</td>\n",
    "        </tr>\n",
    "        <tr>\n",
    "            <td style=\"padding:0px;color:black;font-size:15px;font-weight:400;font-style:normal;text-decoration:none;font-family:Calibri, sans-serif;text-align:right;vertical-align:bottom;border:.5pt solid windowtext;height:14.25pt;border-top:none;\">1.2</td>\n",
    "            <td style=\"padding:0px;color:black;font-size:15px;font-weight:400;font-style:normal;text-decoration:none;font-family:Calibri, sans-serif;text-align:right;vertical-align:bottom;border:.5pt solid windowtext;border-top:none;border-left:none;\">0.25</td>\n",
    "        </tr>\n",
    "        <tr>\n",
    "            <td style=\"padding:0px;color:black;font-size:15px;font-weight:400;font-style:normal;text-decoration:none;font-family:Calibri, sans-serif;text-align:right;vertical-align:bottom;border:.5pt solid windowtext;height:14.25pt;border-top:none;\">2.1.1</td>\n",
    "            <td style=\"padding:0px;color:black;font-size:15px;font-weight:400;font-style:normal;text-decoration:none;font-family:Calibri, sans-serif;text-align:right;vertical-align:bottom;border:.5pt solid windowtext;border-top:none;border-left:none;\">0.75</td>\n",
    "        </tr>\n",
    "        <tr>\n",
    "            <td style=\"padding:0px;color:black;font-size:15px;font-weight:400;font-style:normal;text-decoration:none;font-family:Calibri, sans-serif;text-align:right;vertical-align:bottom;border:.5pt solid windowtext;height:14.25pt;border-top:none;\">2.1.2</td>\n",
    "            <td style=\"padding:0px;color:black;font-size:15px;font-weight:400;font-style:normal;text-decoration:none;font-family:Calibri, sans-serif;text-align:right;vertical-align:bottom;border:.5pt solid windowtext;border-top:none;border-left:none;\">0.75</td>\n",
    "        </tr>\n",
    "        <tr>\n",
    "            <td style=\"padding:0px;color:black;font-size:15px;font-weight:400;font-style:normal;text-decoration:none;font-family:Calibri, sans-serif;text-align:right;vertical-align:bottom;border:.5pt solid windowtext;height:14.25pt;border-top:none;\">2.1.3</td>\n",
    "            <td style=\"padding:0px;color:black;font-size:15px;font-weight:400;font-style:normal;text-decoration:none;font-family:Calibri, sans-serif;text-align:right;vertical-align:bottom;border:.5pt solid windowtext;border-top:none;border-left:none;\">0.25</td>\n",
    "        </tr>\n",
    "        <tr>\n",
    "            <td style=\"padding:0px;color:black;font-size:15px;font-weight:400;font-style:normal;text-decoration:none;font-family:Calibri, sans-serif;text-align:right;vertical-align:bottom;border:.5pt solid windowtext;height:14.25pt;border-top:none;\">2.1.4</td>\n",
    "            <td style=\"padding:0px;color:black;font-size:15px;font-weight:400;font-style:normal;text-decoration:none;font-family:Calibri, sans-serif;text-align:right;vertical-align:bottom;border:.5pt solid windowtext;border-top:none;border-left:none;\">0.25</td>\n",
    "        </tr>\n",
    "        <tr>\n",
    "            <td style=\"padding:0px;color:black;font-size:15px;font-weight:400;font-style:normal;text-decoration:none;font-family:Calibri, sans-serif;text-align:right;vertical-align:bottom;border:.5pt solid windowtext;height:14.25pt;border-top:none;\">2.1.5</td>\n",
    "            <td style=\"padding:0px;color:black;font-size:15px;font-weight:400;font-style:normal;text-decoration:none;font-family:Calibri, sans-serif;text-align:right;vertical-align:bottom;border:.5pt solid windowtext;border-top:none;border-left:none;\">0.25</td>\n",
    "        </tr>\n",
    "        <tr>\n",
    "            <td style=\"padding:0px;color:black;font-size:15px;font-weight:400;font-style:normal;text-decoration:none;font-family:Calibri, sans-serif;text-align:right;vertical-align:bottom;border:.5pt solid windowtext;height:14.25pt;border-top:none;\">3.1</td>\n",
    "            <td style=\"padding:0px;color:black;font-size:15px;font-weight:400;font-style:normal;text-decoration:none;font-family:Calibri, sans-serif;text-align:right;vertical-align:bottom;border:.5pt solid windowtext;border-top:none;border-left:none;\">0.5</td>\n",
    "        </tr>\n",
    "        <tr>\n",
    "            <td style=\"padding:0px;color:black;font-size:15px;font-weight:400;font-style:normal;text-decoration:none;font-family:Calibri, sans-serif;text-align:right;vertical-align:bottom;border:.5pt solid windowtext;height:14.25pt;border-top:none;\">3.2</td>\n",
    "            <td style=\"padding:0px;color:black;font-size:15px;font-weight:400;font-style:normal;text-decoration:none;font-family:Calibri, sans-serif;text-align:right;vertical-align:bottom;border:.5pt solid windowtext;border-top:none;border-left:none;\">0.75</td>\n",
    "        </tr>\n",
    "        <tr>\n",
    "            <td style=\"padding:0px;color:black;font-size:15px;font-weight:400;font-style:normal;text-decoration:none;font-family:Calibri, sans-serif;text-align:right;vertical-align:bottom;border:.5pt solid windowtext;height:14.25pt;border-top:none;\">3.3</td>\n",
    "            <td style=\"padding:0px;color:black;font-size:15px;font-weight:400;font-style:normal;text-decoration:none;font-family:Calibri, sans-serif;text-align:right;vertical-align:bottom;border:.5pt solid windowtext;border-top:none;border-left:none;\">1</td>\n",
    "        </tr>\n",
    "        <tr>\n",
    "            <td style=\"padding:0px;color:black;font-size:15px;font-weight:400;font-style:normal;text-decoration:none;font-family:Calibri, sans-serif;text-align:right;vertical-align:bottom;border:.5pt solid windowtext;height:14.25pt;border-top:none;\">4.1</td>\n",
    "            <td style=\"padding:0px;color:black;font-size:15px;font-weight:400;font-style:normal;text-decoration:none;font-family:Calibri, sans-serif;text-align:right;vertical-align:bottom;border:.5pt solid windowtext;border-top:none;border-left:none;\">0.75</td>\n",
    "        </tr>\n",
    "        <tr>\n",
    "            <td style=\"padding:0px;color:black;font-size:15px;font-weight:400;font-style:normal;text-decoration:none;font-family:Calibri, sans-serif;text-align:right;vertical-align:bottom;border:.5pt solid windowtext;height:14.25pt;border-top:none;\">4.2</td>\n",
    "            <td style=\"padding:0px;color:black;font-size:15px;font-weight:400;font-style:normal;text-decoration:none;font-family:Calibri, sans-serif;text-align:right;vertical-align:bottom;border:.5pt solid windowtext;border-top:none;border-left:none;\">1</td>\n",
    "        </tr>\n",
    "        <tr>\n",
    "            <td style=\"padding:0px;color:black;font-size:15px;font-weight:400;font-style:normal;text-decoration:none;font-family:Calibri, sans-serif;text-align:right;vertical-align:bottom;border:.5pt solid windowtext;height:14.25pt;border-top:none;\">5.1</td>\n",
    "            <td style=\"padding:0px;color:black;font-size:15px;font-weight:400;font-style:normal;text-decoration:none;font-family:Calibri, sans-serif;text-align:right;vertical-align:bottom;border:.5pt solid windowtext;border-top:none;border-left:none;\">1</td>\n",
    "        </tr>\n",
    "        <tr>\n",
    "            <td style=\"padding:0px;color:black;font-size:15px;font-weight:400;font-style:normal;text-decoration:none;font-family:Calibri, sans-serif;text-align:right;vertical-align:bottom;border:.5pt solid windowtext;height:14.25pt;border-top:none;\">5.2</td>\n",
    "            <td style=\"padding:0px;color:black;font-size:15px;font-weight:400;font-style:normal;text-decoration:none;font-family:Calibri, sans-serif;text-align:right;vertical-align:bottom;border:.5pt solid windowtext;border-top:none;border-left:none;\">0.5</td>\n",
    "        </tr>\n",
    "        <tr>\n",
    "            <td style=\"padding:0px;color:black;font-size:15px;font-weight:400;font-style:normal;text-decoration:none;font-family:Calibri, sans-serif;text-align:right;vertical-align:bottom;border:.5pt solid windowtext;height:14.25pt;border-top:none;\">5.3</td>\n",
    "            <td style=\"padding:0px;color:black;font-size:15px;font-weight:400;font-style:normal;text-decoration:none;font-family:Calibri, sans-serif;text-align:right;vertical-align:bottom;border:.5pt solid windowtext;border-top:none;border-left:none;\">0.75</td>\n",
    "        </tr>\n",
    "    </tbody>\n",
    "</table>"
   ]
  },
  {
   "cell_type": "code",
   "execution_count": 25,
   "metadata": {},
   "outputs": [],
   "source": [
    "import pandas as pd\n",
    "import numpy as np\n",
    "import seaborn as sns\n",
    "import matplotlib.pyplot as plt\n",
    "\n",
    "from sklearn.model_selection import cross_val_score\n",
    "from sklearn.model_selection import KFold\n",
    "from sklearn.model_selection import train_test_split\n",
    "\n",
    "import statsmodels.formula.api as smf\n",
    "\n",
    "from sklearn.linear_model import Ridge, Lasso, ElasticNet, LinearRegression\n",
    "from sklearn.linear_model import LogisticRegression\n",
    "from sklearn.metrics import r2_score\n",
    "\n",
    "from sklearn.preprocessing import StandardScaler\n",
    "\n",
    "import warnings\n",
    "from sklearn.exceptions import ConvergenceWarning\n",
    "\n",
    "# Ignore scikit-learn ConvergenceWarnings\n",
    "warnings.filterwarnings(\"ignore\", category=ConvergenceWarning)\n",
    "warnings.filterwarnings(\"ignore\", category=UserWarning)"
   ]
  },
  {
   "cell_type": "markdown",
   "metadata": {},
   "source": [
    "## 1. Basic Data Examination and Manipulation\n",
    "\n",
    "### 1.1. Basics\n",
    "1. Read the `seattle_airbnb_listings.csv` file into a dataframe.\n",
    "\n",
    "2. Display your dataframe.\n",
    "\n",
    "3. Show how many rows your dataframe has.\n",
    "\n"
   ]
  },
  {
   "cell_type": "code",
   "execution_count": 26,
   "metadata": {},
   "outputs": [
    {
     "data": {
      "text/html": [
       "<div>\n",
       "<style scoped>\n",
       "    .dataframe tbody tr th:only-of-type {\n",
       "        vertical-align: middle;\n",
       "    }\n",
       "\n",
       "    .dataframe tbody tr th {\n",
       "        vertical-align: top;\n",
       "    }\n",
       "\n",
       "    .dataframe thead th {\n",
       "        text-align: right;\n",
       "    }\n",
       "</style>\n",
       "<table border=\"1\" class=\"dataframe\">\n",
       "  <thead>\n",
       "    <tr style=\"text-align: right;\">\n",
       "      <th></th>\n",
       "      <th>price</th>\n",
       "      <th>review_scores_rating</th>\n",
       "      <th>number_of_reviews</th>\n",
       "      <th>security_deposit</th>\n",
       "      <th>cleaning_fee</th>\n",
       "      <th>neighborhood</th>\n",
       "      <th>property_type</th>\n",
       "      <th>room_type</th>\n",
       "      <th>accommodates</th>\n",
       "      <th>bathrooms</th>\n",
       "      <th>beds</th>\n",
       "      <th>host_response_time</th>\n",
       "      <th>host_response_rate</th>\n",
       "      <th>host_is_superhost</th>\n",
       "      <th>host_has_profile_pic</th>\n",
       "      <th>host_identity_verified</th>\n",
       "    </tr>\n",
       "  </thead>\n",
       "  <tbody>\n",
       "    <tr>\n",
       "      <th>0</th>\n",
       "      <td>300</td>\n",
       "      <td>100</td>\n",
       "      <td>24</td>\n",
       "      <td>500</td>\n",
       "      <td>95</td>\n",
       "      <td>Wallingford</td>\n",
       "      <td>House</td>\n",
       "      <td>Entire home/apt</td>\n",
       "      <td>5</td>\n",
       "      <td>1.5</td>\n",
       "      <td>3</td>\n",
       "      <td>within a few hours</td>\n",
       "      <td>1.0</td>\n",
       "      <td>t</td>\n",
       "      <td>t</td>\n",
       "      <td>t</td>\n",
       "    </tr>\n",
       "    <tr>\n",
       "      <th>1</th>\n",
       "      <td>149</td>\n",
       "      <td>96</td>\n",
       "      <td>11</td>\n",
       "      <td>300</td>\n",
       "      <td>105</td>\n",
       "      <td>Wallingford</td>\n",
       "      <td>Apartment</td>\n",
       "      <td>Entire home/apt</td>\n",
       "      <td>6</td>\n",
       "      <td>1.0</td>\n",
       "      <td>3</td>\n",
       "      <td>within an hour</td>\n",
       "      <td>1.0</td>\n",
       "      <td>f</td>\n",
       "      <td>t</td>\n",
       "      <td>t</td>\n",
       "    </tr>\n",
       "    <tr>\n",
       "      <th>2</th>\n",
       "      <td>95</td>\n",
       "      <td>95</td>\n",
       "      <td>79</td>\n",
       "      <td>150</td>\n",
       "      <td>40</td>\n",
       "      <td>Wallingford</td>\n",
       "      <td>Apartment</td>\n",
       "      <td>Entire home/apt</td>\n",
       "      <td>3</td>\n",
       "      <td>1.0</td>\n",
       "      <td>2</td>\n",
       "      <td>within an hour</td>\n",
       "      <td>1.0</td>\n",
       "      <td>f</td>\n",
       "      <td>t</td>\n",
       "      <td>t</td>\n",
       "    </tr>\n",
       "    <tr>\n",
       "      <th>3</th>\n",
       "      <td>105</td>\n",
       "      <td>100</td>\n",
       "      <td>13</td>\n",
       "      <td>500</td>\n",
       "      <td>50</td>\n",
       "      <td>Wallingford</td>\n",
       "      <td>House</td>\n",
       "      <td>Private room</td>\n",
       "      <td>2</td>\n",
       "      <td>2.0</td>\n",
       "      <td>1</td>\n",
       "      <td>within a few hours</td>\n",
       "      <td>1.0</td>\n",
       "      <td>t</td>\n",
       "      <td>t</td>\n",
       "      <td>t</td>\n",
       "    </tr>\n",
       "    <tr>\n",
       "      <th>4</th>\n",
       "      <td>140</td>\n",
       "      <td>99</td>\n",
       "      <td>30</td>\n",
       "      <td>250</td>\n",
       "      <td>65</td>\n",
       "      <td>Wallingford</td>\n",
       "      <td>House</td>\n",
       "      <td>Entire home/apt</td>\n",
       "      <td>2</td>\n",
       "      <td>1.0</td>\n",
       "      <td>1</td>\n",
       "      <td>within an hour</td>\n",
       "      <td>1.0</td>\n",
       "      <td>t</td>\n",
       "      <td>t</td>\n",
       "      <td>t</td>\n",
       "    </tr>\n",
       "  </tbody>\n",
       "</table>\n",
       "</div>"
      ],
      "text/plain": [
       "   price  review_scores_rating  number_of_reviews  security_deposit  \\\n",
       "0    300                   100                 24               500   \n",
       "1    149                    96                 11               300   \n",
       "2     95                    95                 79               150   \n",
       "3    105                   100                 13               500   \n",
       "4    140                    99                 30               250   \n",
       "\n",
       "   cleaning_fee neighborhood property_type        room_type  accommodates  \\\n",
       "0            95  Wallingford         House  Entire home/apt             5   \n",
       "1           105  Wallingford     Apartment  Entire home/apt             6   \n",
       "2            40  Wallingford     Apartment  Entire home/apt             3   \n",
       "3            50  Wallingford         House     Private room             2   \n",
       "4            65  Wallingford         House  Entire home/apt             2   \n",
       "\n",
       "   bathrooms  beds  host_response_time  host_response_rate host_is_superhost  \\\n",
       "0        1.5     3  within a few hours                 1.0                 t   \n",
       "1        1.0     3      within an hour                 1.0                 f   \n",
       "2        1.0     2      within an hour                 1.0                 f   \n",
       "3        2.0     1  within a few hours                 1.0                 t   \n",
       "4        1.0     1      within an hour                 1.0                 t   \n",
       "\n",
       "  host_has_profile_pic host_identity_verified  \n",
       "0                    t                      t  \n",
       "1                    t                      t  \n",
       "2                    t                      t  \n",
       "3                    t                      t  \n",
       "4                    t                      t  "
      ]
     },
     "execution_count": 26,
     "metadata": {},
     "output_type": "execute_result"
    }
   ],
   "source": [
    "df = pd.read_csv(\"seattle_airbnb_listings.csv\")\n",
    "df.head()"
   ]
  },
  {
   "cell_type": "code",
   "execution_count": 27,
   "metadata": {},
   "outputs": [
    {
     "data": {
      "text/plain": [
       "325"
      ]
     },
     "execution_count": 27,
     "metadata": {},
     "output_type": "execute_result"
    }
   ],
   "source": [
    "df.shape[0]"
   ]
  },
  {
   "cell_type": "markdown",
   "metadata": {},
   "source": [
    "### 1.2. 0/1 Response Variable\n",
    "\n",
    "Create a new 0/1 variable in your dataset in which `superhosts=1` and `nonsuperhosts=0`. "
   ]
  },
  {
   "cell_type": "code",
   "execution_count": 28,
   "metadata": {},
   "outputs": [],
   "source": [
    "df[\"host_is_superhost\"].replace({\"t\":1,\"f\":0}, inplace=True)"
   ]
  },
  {
   "cell_type": "markdown",
   "metadata": {},
   "source": [
    "## 2. Full Model Logistic Regression with Scikit Learn\n",
    "\n",
    "Next, rather than use the `smf.logit()` function to fit a logistic regression model as we've discussed in class, let's learn how to use the `LogisticRegression()` function from scikit learn to fit a logistic regression model instead.\n",
    "\n",
    "\n"
   ]
  },
  {
   "cell_type": "code",
   "execution_count": 29,
   "metadata": {},
   "outputs": [],
   "source": [
    "from sklearn.linear_model import LogisticRegression"
   ]
  },
  {
   "cell_type": "markdown",
   "metadata": {},
   "source": [
    "### 2.1. Full Logistic Regression Model\n",
    "\n",
    "In the interest of time, we'll call our \"full\" model the one that predicts the `probability that a host is a superhost` given the four explanatory variables below:\n",
    "* `review_scores_rating`\n",
    "* `number_of_reviews`\n",
    "* `neighborhood`\n",
    "* `room_type`\n",
    "\n",
    "\n",
    "#### 2.1.1. Features Matrix and Target Array\n",
    "\n",
    "Just like the `LinearRegression()` function, the `LogisticRegression()` requires us to create a features matrix (of just the explanatory variables we intend to use) and a target array (ie. our 0/1 response variable).\n",
    "\n",
    "Create your features matrix and target array below for this full model."
   ]
  },
  {
   "cell_type": "code",
   "execution_count": 30,
   "metadata": {},
   "outputs": [],
   "source": [
    "features = df[[\"review_scores_rating\", \"number_of_reviews\", \"neighborhood\", \"room_type\"]]"
   ]
  },
  {
   "cell_type": "code",
   "execution_count": 31,
   "metadata": {},
   "outputs": [],
   "source": [
    "target = df[\"host_is_superhost\"]"
   ]
  },
  {
   "cell_type": "markdown",
   "metadata": {},
   "source": [
    "#### 2.1.2. Indicator Variables\n",
    "\n",
    "Furthermore, we need to translate our categorical explanatory variables into indicator variables in this features matrix. Do so below."
   ]
  },
  {
   "cell_type": "code",
   "execution_count": 32,
   "metadata": {},
   "outputs": [],
   "source": [
    "features = pd.get_dummies(features)"
   ]
  },
  {
   "cell_type": "markdown",
   "metadata": {},
   "source": [
    "#### 2.1.3. Instantiating a Logistic Regression Model\n",
    "\n",
    "Now, instantiate a logistic regression model using the code below. In the code below we happen to call this instantiated model `full_mod`.\n",
    "\n",
    "`full_mod = LogisticRegression()`"
   ]
  },
  {
   "cell_type": "code",
   "execution_count": 33,
   "metadata": {},
   "outputs": [],
   "source": [
    "full_mod = LogisticRegression()"
   ]
  },
  {
   "cell_type": "markdown",
   "metadata": {},
   "source": [
    "#### 2.1.4. Fitting the Instantiated Logistic Regression Model\n",
    "\n",
    "Much like what we did with an instantiated LinearRegression() object, we can fit an instantiated LogisticRegression() object with the following code below.\n",
    "\n",
    "`full_mod.fit(YOUR_FEATURES_MATRIX,YOUR_TARGET_ARRAY)`\n",
    "\n",
    "Fit your logistic regression model with your features matrix and target array below."
   ]
  },
  {
   "cell_type": "code",
   "execution_count": 34,
   "metadata": {},
   "outputs": [
    {
     "data": {
      "text/html": [
       "<style>#sk-container-id-2 {color: black;}#sk-container-id-2 pre{padding: 0;}#sk-container-id-2 div.sk-toggleable {background-color: white;}#sk-container-id-2 label.sk-toggleable__label {cursor: pointer;display: block;width: 100%;margin-bottom: 0;padding: 0.3em;box-sizing: border-box;text-align: center;}#sk-container-id-2 label.sk-toggleable__label-arrow:before {content: \"▸\";float: left;margin-right: 0.25em;color: #696969;}#sk-container-id-2 label.sk-toggleable__label-arrow:hover:before {color: black;}#sk-container-id-2 div.sk-estimator:hover label.sk-toggleable__label-arrow:before {color: black;}#sk-container-id-2 div.sk-toggleable__content {max-height: 0;max-width: 0;overflow: hidden;text-align: left;background-color: #f0f8ff;}#sk-container-id-2 div.sk-toggleable__content pre {margin: 0.2em;color: black;border-radius: 0.25em;background-color: #f0f8ff;}#sk-container-id-2 input.sk-toggleable__control:checked~div.sk-toggleable__content {max-height: 200px;max-width: 100%;overflow: auto;}#sk-container-id-2 input.sk-toggleable__control:checked~label.sk-toggleable__label-arrow:before {content: \"▾\";}#sk-container-id-2 div.sk-estimator input.sk-toggleable__control:checked~label.sk-toggleable__label {background-color: #d4ebff;}#sk-container-id-2 div.sk-label input.sk-toggleable__control:checked~label.sk-toggleable__label {background-color: #d4ebff;}#sk-container-id-2 input.sk-hidden--visually {border: 0;clip: rect(1px 1px 1px 1px);clip: rect(1px, 1px, 1px, 1px);height: 1px;margin: -1px;overflow: hidden;padding: 0;position: absolute;width: 1px;}#sk-container-id-2 div.sk-estimator {font-family: monospace;background-color: #f0f8ff;border: 1px dotted black;border-radius: 0.25em;box-sizing: border-box;margin-bottom: 0.5em;}#sk-container-id-2 div.sk-estimator:hover {background-color: #d4ebff;}#sk-container-id-2 div.sk-parallel-item::after {content: \"\";width: 100%;border-bottom: 1px solid gray;flex-grow: 1;}#sk-container-id-2 div.sk-label:hover label.sk-toggleable__label {background-color: #d4ebff;}#sk-container-id-2 div.sk-serial::before {content: \"\";position: absolute;border-left: 1px solid gray;box-sizing: border-box;top: 0;bottom: 0;left: 50%;z-index: 0;}#sk-container-id-2 div.sk-serial {display: flex;flex-direction: column;align-items: center;background-color: white;padding-right: 0.2em;padding-left: 0.2em;position: relative;}#sk-container-id-2 div.sk-item {position: relative;z-index: 1;}#sk-container-id-2 div.sk-parallel {display: flex;align-items: stretch;justify-content: center;background-color: white;position: relative;}#sk-container-id-2 div.sk-item::before, #sk-container-id-2 div.sk-parallel-item::before {content: \"\";position: absolute;border-left: 1px solid gray;box-sizing: border-box;top: 0;bottom: 0;left: 50%;z-index: -1;}#sk-container-id-2 div.sk-parallel-item {display: flex;flex-direction: column;z-index: 1;position: relative;background-color: white;}#sk-container-id-2 div.sk-parallel-item:first-child::after {align-self: flex-end;width: 50%;}#sk-container-id-2 div.sk-parallel-item:last-child::after {align-self: flex-start;width: 50%;}#sk-container-id-2 div.sk-parallel-item:only-child::after {width: 0;}#sk-container-id-2 div.sk-dashed-wrapped {border: 1px dashed gray;margin: 0 0.4em 0.5em 0.4em;box-sizing: border-box;padding-bottom: 0.4em;background-color: white;}#sk-container-id-2 div.sk-label label {font-family: monospace;font-weight: bold;display: inline-block;line-height: 1.2em;}#sk-container-id-2 div.sk-label-container {text-align: center;}#sk-container-id-2 div.sk-container {/* jupyter's `normalize.less` sets `[hidden] { display: none; }` but bootstrap.min.css set `[hidden] { display: none !important; }` so we also need the `!important` here to be able to override the default hidden behavior on the sphinx rendered scikit-learn.org. See: https://github.com/scikit-learn/scikit-learn/issues/21755 */display: inline-block !important;position: relative;}#sk-container-id-2 div.sk-text-repr-fallback {display: none;}</style><div id=\"sk-container-id-2\" class=\"sk-top-container\"><div class=\"sk-text-repr-fallback\"><pre>LogisticRegression()</pre><b>In a Jupyter environment, please rerun this cell to show the HTML representation or trust the notebook. <br />On GitHub, the HTML representation is unable to render, please try loading this page with nbviewer.org.</b></div><div class=\"sk-container\" hidden><div class=\"sk-item\"><div class=\"sk-estimator sk-toggleable\"><input class=\"sk-toggleable__control sk-hidden--visually\" id=\"sk-estimator-id-2\" type=\"checkbox\" checked><label for=\"sk-estimator-id-2\" class=\"sk-toggleable__label sk-toggleable__label-arrow\">LogisticRegression</label><div class=\"sk-toggleable__content\"><pre>LogisticRegression()</pre></div></div></div></div></div>"
      ],
      "text/plain": [
       "LogisticRegression()"
      ]
     },
     "execution_count": 34,
     "metadata": {},
     "output_type": "execute_result"
    }
   ],
   "source": [
    "full_mod.fit(features, target)"
   ]
  },
  {
   "cell_type": "markdown",
   "metadata": {},
   "source": [
    "#### 2.1.5. Predictive Probabilities\n",
    "\n",
    "Now that we've fit our model, let's predict the probability that each of our hosts in the features matrix is a superhost. You can do so with the code below.\n",
    "\n",
    "`full_mod.predict_proba(YOUR_FEATURES_MATRIX)[:,1]`\n",
    "\n",
    "Calculate these model predictive probabilities for the observations in your features matrix."
   ]
  },
  {
   "cell_type": "code",
   "execution_count": 35,
   "metadata": {
    "scrolled": true
   },
   "outputs": [
    {
     "data": {
      "text/plain": [
       "array([4.17077560e-01, 2.93943936e-01, 4.48878522e-01, 4.32741916e-01,\n",
       "       4.09638141e-01, 3.22183696e-01, 1.06467084e-01, 2.80048712e-01,\n",
       "       3.57716849e-01, 5.24264475e-01, 3.03427470e-01, 4.75378030e-01,\n",
       "       2.89267611e-01, 7.12927224e-02, 2.38527700e-01, 4.94215393e-01,\n",
       "       3.44485389e-01, 2.91600258e-01, 2.76161899e-01, 5.01197517e-01,\n",
       "       1.35420739e-01, 2.27884679e-01, 1.48812734e-01, 3.94613290e-02,\n",
       "       2.93635609e-01, 1.00208093e-01, 3.02735152e-01, 1.35420739e-01,\n",
       "       3.65900551e-01, 1.32792029e-01, 2.76161899e-01, 3.02735152e-01,\n",
       "       1.50207883e-01, 1.72253339e-01, 3.58058356e-01, 7.12927224e-02,\n",
       "       6.05854581e-02, 3.30039667e-01, 4.26157230e-01, 8.64205183e-02,\n",
       "       2.58432241e-01, 4.45270243e-01, 3.38989938e-01, 1.48812734e-01,\n",
       "       3.86024207e-01, 2.83559493e-01, 2.48958814e-01, 7.12927224e-02,\n",
       "       1.57187292e-01, 2.22471571e-01, 3.76888434e-01, 4.72555942e-01,\n",
       "       4.72794830e-01, 5.66701609e-01, 3.67300201e-01, 4.15123816e-01,\n",
       "       3.79128512e-01, 3.61833951e-01, 7.73166110e-02, 3.38657024e-01,\n",
       "       4.24191904e-01, 1.93510873e-01, 4.02470319e-01, 2.27884679e-01,\n",
       "       5.70152986e-01, 3.45561910e-01, 4.41357587e-01, 4.41357587e-01,\n",
       "       4.45035045e-01, 6.02190816e-01, 4.08561911e-01, 4.44150252e-01,\n",
       "       3.13901586e-01, 3.96810400e-01, 4.88243328e-01, 6.86931355e-01,\n",
       "       4.29497262e-01, 6.65678568e-01, 4.91071877e-01, 2.95417371e-01,\n",
       "       5.65222434e-01, 3.02534182e-01, 4.41357587e-01, 4.41357587e-01,\n",
       "       6.24243442e-01, 5.02389977e-01, 6.83074563e-01, 5.02389977e-01,\n",
       "       5.62879656e-01, 4.44150252e-01, 4.41357587e-01, 5.29956478e-02,\n",
       "       4.92842164e-01, 3.27986755e-01, 4.35783542e-01, 2.85001886e-01,\n",
       "       4.10432519e-01, 4.66918737e-01, 4.35783542e-01, 4.35783542e-01,\n",
       "       3.26937634e-01, 5.92678139e-01, 3.27986755e-01, 4.47258895e-01,\n",
       "       4.41357587e-01, 4.38568627e-01, 4.05883208e-01, 2.25672047e-01,\n",
       "       7.37326817e-02, 4.89194175e-01, 4.96490915e-01, 4.35783542e-01,\n",
       "       5.02969772e-01, 5.09819013e-01, 4.49746009e-01, 5.25439153e-01,\n",
       "       4.75811543e-01, 4.76552896e-01, 4.50855446e-01, 3.37809106e-04,\n",
       "       5.09300879e-01, 3.86436257e-01, 4.55653220e-01, 5.31896712e-01,\n",
       "       4.76552896e-01, 4.23815928e-01, 6.14048029e-01, 3.19059124e-01,\n",
       "       4.87485848e-01, 5.35529288e-01, 5.28260752e-01, 4.36885883e-01,\n",
       "       4.59275977e-01, 4.62088238e-01, 4.72172250e-01, 4.76182206e-01,\n",
       "       4.80642445e-01, 3.10706162e-01, 5.48763198e-01, 4.82202741e-01,\n",
       "       4.73730131e-01, 4.85029462e-01, 4.78188369e-01, 4.73730131e-01,\n",
       "       4.55653220e-01, 5.23433606e-01, 3.83755943e-01, 4.72542634e-01,\n",
       "       5.01632062e-01, 4.85029462e-01, 5.32712707e-01, 3.83755943e-01,\n",
       "       4.73730131e-01, 4.27384296e-01, 5.71949731e-01, 5.22615928e-01,\n",
       "       4.32128847e-01, 5.66763516e-01, 4.04235579e-01, 4.64902914e-01,\n",
       "       3.30424119e-01, 4.88676106e-01, 3.27606404e-01, 2.75557513e-01,\n",
       "       6.66462293e-01, 3.62578799e-01, 4.34908579e-01, 4.74994111e-01,\n",
       "       5.15404506e-01, 4.73730131e-01, 3.25117918e-01, 5.26256379e-01,\n",
       "       1.49168327e-01, 1.25889842e-01, 4.53717133e-01, 2.79891697e-01,\n",
       "       1.36793983e-01, 1.44975115e-01, 2.32806343e-01, 6.41091117e-01,\n",
       "       1.88555107e-01, 2.57939927e-01, 2.91746361e-01, 1.80312765e-01,\n",
       "       3.09895877e-02, 2.84904175e-01, 1.08678860e-01, 1.04231292e-01,\n",
       "       1.88555107e-01, 1.67314261e-01, 5.96670087e-01, 4.46491579e-01,\n",
       "       1.90293056e-01, 1.64184021e-01, 9.90642620e-02, 7.97781155e-02,\n",
       "       1.46383842e-01, 2.37047408e-01, 1.90293056e-01, 3.90083813e-01,\n",
       "       1.90606393e-02, 4.27441296e-01, 1.93805653e-01, 3.30952672e-02,\n",
       "       2.03332316e-01, 1.95580333e-01, 1.05742484e-01, 1.72098777e-01,\n",
       "       1.09494110e-01, 1.95862355e-01, 8.40597622e-02, 5.52321395e-02,\n",
       "       1.68270422e-02, 6.56262708e-03, 2.01947756e-01, 1.31874969e-01,\n",
       "       1.94879877e-01, 1.69566926e-01, 1.39452504e-01, 1.19235522e-02,\n",
       "       2.33979224e-01, 1.43981167e-01, 1.53172571e-01, 1.52911550e-01,\n",
       "       1.21932289e-02, 1.90293056e-01, 2.08642949e-01, 2.39522817e-01,\n",
       "       1.88555107e-01, 9.90642620e-02, 2.02801889e-01, 4.81355830e-01,\n",
       "       8.14559514e-02, 1.86829368e-01, 1.42591699e-01, 5.53052356e-03,\n",
       "       1.97367285e-01, 2.17188478e-01, 1.87600732e-01, 2.51674347e-01,\n",
       "       5.26347064e-02, 1.65217717e-01, 1.64111624e-01, 1.11162695e-01,\n",
       "       3.28698830e-01, 8.13448309e-02, 1.40816406e-01, 2.71505536e-01,\n",
       "       8.14559514e-02, 1.72023608e-01, 1.32627262e-01, 3.09895877e-02,\n",
       "       8.75842960e-02, 1.08996767e-01, 6.80752930e-02, 1.71421095e-01,\n",
       "       1.00079089e-01, 5.25150181e-02, 2.61274128e-01, 2.07024065e-01,\n",
       "       4.35113573e-02, 2.60296897e-01, 1.76514093e-01, 2.25556769e-01,\n",
       "       2.27018155e-01, 1.66196926e-01, 2.25389396e-01, 1.80312765e-01,\n",
       "       3.09895877e-02, 2.19119079e-01, 5.13999516e-02, 6.25707670e-02,\n",
       "       1.71421095e-01, 8.66839647e-02, 2.00978053e-01, 2.24246969e-01,\n",
       "       1.84444250e-01, 1.76082485e-01, 2.30960978e-01, 1.54646546e-01,\n",
       "       1.15135623e-01, 2.38830358e-01, 1.88601855e-01, 3.09895877e-02,\n",
       "       4.83382371e-02, 1.67314261e-01, 2.05707057e-01, 1.73981418e-02,\n",
       "       3.69876020e-01, 2.17836146e-01, 5.82417569e-02, 1.88555107e-01,\n",
       "       2.68056510e-01, 2.72460852e-01, 2.89120016e-01, 3.53117003e-01,\n",
       "       3.16602457e-01, 5.06938134e-02, 1.95122713e-01, 2.21125092e-01,\n",
       "       3.64163222e-01, 3.28317054e-01, 1.29286640e-01, 1.93862907e-01,\n",
       "       2.36253041e-01, 2.91082123e-01, 2.04164603e-01, 1.95122713e-01,\n",
       "       2.12964452e-01, 1.36801173e-01, 2.69284514e-01, 3.98563108e-01,\n",
       "       1.36801173e-01, 2.77628217e-01, 1.95122713e-01, 2.17898581e-01,\n",
       "       2.84124966e-01, 2.77269056e-01, 3.01202055e-01, 2.82191088e-01,\n",
       "       2.84124966e-01, 2.02331622e-01, 2.08407732e-01, 1.12851209e-01,\n",
       "       2.75363893e-01])"
      ]
     },
     "execution_count": 35,
     "metadata": {},
     "output_type": "execute_result"
    }
   ],
   "source": [
    "full_mod.predict_proba(features)[:,1]"
   ]
  },
  {
   "cell_type": "markdown",
   "metadata": {},
   "source": [
    "## 3. k-Fold Cross-Validation with the Full Logistic Regression Model\n",
    "\n",
    "Next, let's learn how to perform k-fold cross-validation on our full logistic regression model.\n",
    "\n",
    "### 3.1. Instantiate a Logistic Regression Model\n",
    "\n",
    "First, instantiate (but don't fit) another logistic regression model object like we did in #2.1.3."
   ]
  },
  {
   "cell_type": "code",
   "execution_count": 36,
   "metadata": {},
   "outputs": [],
   "source": [
    "model_2 = LogisticRegression()"
   ]
  },
  {
   "cell_type": "markdown",
   "metadata": {},
   "source": [
    "### 3.2. k=5 Fold Cross-Validation\n",
    "\n",
    "Next, instantiate a k=5 fold object that *will* randomly split the dataset up into k=5 test folds. Your dataset should be randomly shuffled first before creating the test folds. Use a random state of 100."
   ]
  },
  {
   "cell_type": "code",
   "execution_count": 37,
   "metadata": {},
   "outputs": [],
   "source": [
    "cross_fold = KFold(n_splits=5, shuffle=True, random_state=100)"
   ]
  },
  {
   "cell_type": "markdown",
   "metadata": {},
   "source": [
    "### 3.3. k-Fold Cross-Validation\n",
    "\n",
    "1. Finally, use these two objects that you created in 3.1 and 3.2 to perform k=5 fold cross-validation on your **full features matrix** and your target array. You should use the **AUC of the test ROC curve** to evaluate each of your 5 training dataset model's corresponding test datasets.\n",
    "2. Display each of the 5 test AUC values.\n",
    "3. Display the mean of these 5 test AUC values.\n",
    "4. Display the standard deviation of these 5 test AUC values.\n",
    "\n",
    "**Hint:** *You can use the `cross_val_score()` function to perform k-fold cross-validation on a logistic regression model in the same way that we used it to perform k-fold cross-validation on a linear regression model. The only thing that you would want to change is the parameter `scoring=\"roc_auc\"` in the function. This will calculate the AUC of each of the test dataset ROC curves.*"
   ]
  },
  {
   "cell_type": "code",
   "execution_count": 41,
   "metadata": {},
   "outputs": [
    {
     "name": "stdout",
     "output_type": "stream",
     "text": [
      "AUC Scores: [0.84566596 0.76601831 0.65675057 0.70098039 0.7597254 ]\n",
      "Mean AUC Score: 0.7458281266556192\n",
      "STD of AUC Scores: 0.06405388506635759\n"
     ]
    }
   ],
   "source": [
    "scores = cross_val_score(model_2, features, target, cv=cross_fold, scoring=\"roc_auc\")\n",
    "print(f\"AUC Scores: {scores}\")\n",
    "print(f\"Mean AUC Score: {scores.mean()}\")\n",
    "print(f\"STD of AUC Scores: {scores.std()}\")"
   ]
  },
  {
   "cell_type": "markdown",
   "metadata": {},
   "source": [
    "## 4. Cross-Validation for a Reduced Model\n",
    "\n",
    "Now, we would like to perform k=5 fold cross-validation on a *reduced* logistic regression model. This reduced model will predict the `probability that a host is a superhost` given the three explanatory variables below:\n",
    "* `review_scores_rating`\n",
    "* `number_of_reviews`\n",
    "* `neighborhood`\n",
    "* <strike>`room_type`<strike>"
   ]
  },
  {
   "cell_type": "markdown",
   "metadata": {},
   "source": [
    "### 4.1. Reduced Features Matrix\n",
    "\n",
    "First create another features matrix that only corresponds to the three explanatory variables that we will use in the reduced model (ie. `review_scores_rating`, `number_of_reviews`, and `neighborhood`.) This features matrix should still use the nessary indicator variables."
   ]
  },
  {
   "cell_type": "code",
   "execution_count": 44,
   "metadata": {},
   "outputs": [],
   "source": [
    "features_reduced = df[[\"review_scores_rating\", \"number_of_reviews\", \"neighborhood\"]]\n",
    "features_reduced = pd.get_dummies(features_reduced)"
   ]
  },
  {
   "cell_type": "markdown",
   "metadata": {},
   "source": [
    "### 4.2. k-Fold Cross-Validation\n",
    "\n",
    "1. Finally, use these two objects that you created in 3.1 and 3.2 to perform k=5 fold cross-validation on your **reduced features matrix** (that you created in #4.1) and your target array. You should use the **AUC of the test ROC curve** to evaluate each of your 5 training dataset model's corresponding test datasets.\n",
    "2. Display each of the 5 test AUC values.\n",
    "3. Display the mean of these 5 test AUC values.\n",
    "4. Display the standard deviation of these 5 test AUC values."
   ]
  },
  {
   "cell_type": "code",
   "execution_count": 45,
   "metadata": {},
   "outputs": [
    {
     "name": "stdout",
     "output_type": "stream",
     "text": [
      "AUC Scores: [0.86205074 0.7402746  0.65217391 0.73039216 0.81121281]\n",
      "Mean AUC Score: 0.7592208448103166\n",
      "STD of AUC Scores: 0.0720086818690291\n"
     ]
    }
   ],
   "source": [
    "scores2 = cross_val_score(model_2, features_reduced, target, cv=cross_fold, scoring=\"roc_auc\")\n",
    "print(f\"AUC Scores: {scores2}\")\n",
    "print(f\"Mean AUC Score: {scores2.mean()}\")\n",
    "print(f\"STD of AUC Scores: {scores2.std()}\")"
   ]
  },
  {
   "cell_type": "markdown",
   "metadata": {},
   "source": [
    "## 5. Model Evaluation\n",
    "\n",
    "### 5.1. Overall Best Cross-Validation Performance\n",
    "\n",
    "Which of these two logistic regression models that we fitted above had the best k-fold cross-validation performance?"
   ]
  },
  {
   "cell_type": "markdown",
   "metadata": {},
   "source": [
    "The reduced model has a better cross-validation performance. It has a higher mean AUC score, and the standard deviations are similar."
   ]
  },
  {
   "cell_type": "markdown",
   "metadata": {},
   "source": [
    "### 5.2. Relative Cross-Validation Performance\n",
    "\n",
    "Would you say that the model that you selected in 5.1 has *comparatively* (or significantly) better performance than the other model? Explain."
   ]
  },
  {
   "cell_type": "markdown",
   "metadata": {},
   "source": [
    "No. If you were to add and subtract the test AUC standard deviation to the test AUC mean for both models, you'd see a STRONG amount of overlap between the ranges of these two models. Thus, the mean of test AUCs for the full model is comparatively not that much larger than the mean of the test AUC for the reduced model."
   ]
  },
  {
   "cell_type": "markdown",
   "metadata": {},
   "source": [
    "### 5.3. Overfitting\n",
    "\n",
    "Does your analysis above suggest that the `room_type` variable was overfitting the logistic regression model? Explain."
   ]
  },
  {
   "cell_type": "markdown",
   "metadata": {},
   "source": [
    "No, there is not enough evidence to suggest that room_type is overfitting the model since the difference in model performance is not significant enough."
   ]
  }
 ],
 "metadata": {
  "kernelspec": {
   "display_name": "Python 3 (ipykernel)",
   "language": "python",
   "name": "python3"
  },
  "language_info": {
   "codemirror_mode": {
    "name": "ipython",
    "version": 3
   },
   "file_extension": ".py",
   "mimetype": "text/x-python",
   "name": "python",
   "nbconvert_exporter": "python",
   "pygments_lexer": "ipython3",
   "version": "3.11.1"
  }
 },
 "nbformat": 4,
 "nbformat_minor": 2
}
