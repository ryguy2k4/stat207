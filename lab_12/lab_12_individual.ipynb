{
 "cells": [
  {
   "cell_type": "markdown",
   "metadata": {},
   "source": [
    "# STAT 207 Lab Assignment 12 - Individual Part - [21 Points]\n",
    "\n",
    "\n",
    "\n",
    "## <u>Case Study</u>: Classifying Airbnb Superhost Status\n",
    "\n",
    "Suppose that you have a spare room in your house (in Seattle) and you are considering advertising this room to guests on Airbnb. Airbnb superhosts are considered to be experienced hosts who provide a shining example for other hosts, and extraordinary experiences for their guests. Once a host reaches Superhost status, a superhost badge will automatically appear on their listing and profile to help guests identify them. You would like to assess your chances of being named a superhost with your property.\n",
    "\n",
    "The following dataset is a sample (assume random) of available Airbnb listings in Seattle, WA. These listings were collected in January 2016, and filtered to just contain listings from the five most popular Seattlbe neighborhoods (for Airbnb listings) and just contain listings that are either in a house or apartment property.\n",
    "\n",
    "This dataset contains the following variables.\n",
    "\n",
    "**Listing Information**\n",
    "The dataset contains the following information about the Airbnb *listing*:\n",
    "* <u>price</u>: price of the listing (per night)(in US dollars)\n",
    "* <u>review_scores_rating</u>: the average rating of the listing [0,100] (100 is the best)\n",
    "* <u>number_of_reviews</u>: the number of reviews for the listing\n",
    "* <u>security_deposit</u>: the security deposit required for the listing (in US dollars)\n",
    "* <u>cleaning_fee</u>: the cleaning fee required for the listing (in US dollars)\n",
    "* <u>neighborhood</u>: the neighborhood of Seattle the listing is located in\n",
    "* <u>property_type</u>: is the listing in a 'House' or 'Apartment'\n",
    "* <u>room_type</u>: is the listing a 'Entire home/apt', 'Private room', or 'Shared room'\n",
    "* <u>accommodates</u>: how many guests will the listing accommodate\n",
    "* <u>bathrooms</u>:how many bathrooms does the listing have\n",
    "* <u>beds</u>: how many beds does the listing have\n",
    "\n",
    "**Host Information**\n",
    "The dataset also contains the following information about the *host* of the given Airbnb listing:\n",
    "* <u>host_is_superhost</u>: is the host a \"superhost\": t=True, f=False\n",
    "* <u>host_has_profile_pic</u>: does the host have a profile pic in their bio: t=True, f=False\n",
    "* <u>host_response_time</u>: how fast will the host respond to requests (on average)\n",
    "\n",
    "## Research Goals\n",
    "\n",
    "### Primary Research Goal\n",
    "The primary research goal that we will pursue in this lab will be to build a predictive model that effectively predicts the `probability a Seattle Airbnb host is a **superhost**` for *new Seattle Airbnb listings/hosts* given some combination of the `remaining explanatory variables`.\n",
    "\n",
    "### Secondary Research Goal\n",
    "\n",
    "Ideally, we would also like to interpret our final model.\n",
    "\n",
    "\n",
    "\n",
    "## Points\n",
    "\n",
    "<p>&nbsp;</p>\n",
    "<table style=\"border: none;border-collapse: collapse;width:102pt;\">\n",
    "    <tbody>\n",
    "        <tr>\n",
    "            <td style=\"padding:0px;color:black;font-size:15px;font-weight:700;font-style:normal;text-decoration:none;font-family:Calibri, sans-serif;text-align:right;vertical-align:bottom;border:.5pt solid windowtext;height:14.25pt;width:51pt;\">Problem</td>\n",
    "            <td style=\"padding:0px;color:black;font-size:15px;font-weight:700;font-style:normal;text-decoration:none;font-family:Calibri, sans-serif;text-align:general;vertical-align:bottom;border:.5pt solid windowtext;border-left:none;width:51pt;\">Points</td>\n",
    "        </tr>\n",
    "        <tr>\n",
    "            <td style=\"padding:0px;color:black;font-size:15px;font-weight:400;font-style:normal;text-decoration:none;font-family:Calibri, sans-serif;text-align:right;vertical-align:bottom;border:.5pt solid windowtext;height:14.25pt;border-top:none;\">1.1</td>\n",
    "            <td style=\"padding:0px;color:black;font-size:15px;font-weight:400;font-style:normal;text-decoration:none;font-family:Calibri, sans-serif;text-align:right;vertical-align:bottom;border:.5pt solid windowtext;border-top:none;border-left:none;\">0.25</td>\n",
    "        </tr>\n",
    "        <tr>\n",
    "            <td style=\"padding:0px;color:black;font-size:15px;font-weight:400;font-style:normal;text-decoration:none;font-family:Calibri, sans-serif;text-align:right;vertical-align:bottom;border:.5pt solid windowtext;height:14.25pt;border-top:none;\">1.2</td>\n",
    "            <td style=\"padding:0px;color:black;font-size:15px;font-weight:400;font-style:normal;text-decoration:none;font-family:Calibri, sans-serif;text-align:right;vertical-align:bottom;border:.5pt solid windowtext;border-top:none;border-left:none;\">0.25</td>\n",
    "        </tr>\n",
    "        <tr>\n",
    "            <td style=\"padding:0px;color:black;font-size:15px;font-weight:400;font-style:normal;text-decoration:none;font-family:Calibri, sans-serif;text-align:right;vertical-align:bottom;border:.5pt solid windowtext;height:14.25pt;border-top:none;\">1.3</td>\n",
    "            <td style=\"padding:0px;color:black;font-size:15px;font-weight:400;font-style:normal;text-decoration:none;font-family:Calibri, sans-serif;text-align:right;vertical-align:bottom;border:.5pt solid windowtext;border-top:none;border-left:none;\">0.5</td>\n",
    "        </tr>\n",
    "        <tr>\n",
    "            <td style=\"padding:0px;color:black;font-size:15px;font-weight:400;font-style:normal;text-decoration:none;font-family:Calibri, sans-serif;text-align:right;vertical-align:bottom;border:.5pt solid windowtext;height:14.25pt;border-top:none;\">1.4.1</td>\n",
    "            <td style=\"padding:0px;color:black;font-size:15px;font-weight:400;font-style:normal;text-decoration:none;font-family:Calibri, sans-serif;text-align:right;vertical-align:bottom;border:.5pt solid windowtext;border-top:none;border-left:none;\">0.5</td>\n",
    "        </tr>\n",
    "        <tr>\n",
    "            <td style=\"padding:0px;color:black;font-size:15px;font-weight:400;font-style:normal;text-decoration:none;font-family:Calibri, sans-serif;text-align:right;vertical-align:bottom;border:.5pt solid windowtext;height:14.25pt;border-top:none;\">1.4.2</td>\n",
    "            <td style=\"padding:0px;color:black;font-size:15px;font-weight:400;font-style:normal;text-decoration:none;font-family:Calibri, sans-serif;text-align:right;vertical-align:bottom;border:.5pt solid windowtext;border-top:none;border-left:none;\">1</td>\n",
    "        </tr>\n",
    "        <tr>\n",
    "            <td style=\"padding:0px;color:black;font-size:15px;font-weight:400;font-style:normal;text-decoration:none;font-family:Calibri, sans-serif;text-align:right;vertical-align:bottom;border:.5pt solid windowtext;height:14.25pt;border-top:none;\">1.4.3</td>\n",
    "            <td style=\"padding:0px;color:black;font-size:15px;font-weight:400;font-style:normal;text-decoration:none;font-family:Calibri, sans-serif;text-align:right;vertical-align:bottom;border:.5pt solid windowtext;border-top:none;border-left:none;\">1</td>\n",
    "        </tr>\n",
    "        <tr>\n",
    "            <td style=\"padding:0px;color:black;font-size:15px;font-weight:400;font-style:normal;text-decoration:none;font-family:Calibri, sans-serif;text-align:right;vertical-align:bottom;border:.5pt solid windowtext;height:14.25pt;border-top:none;\">2.1</td>\n",
    "            <td style=\"padding:0px;color:black;font-size:15px;font-weight:400;font-style:normal;text-decoration:none;font-family:Calibri, sans-serif;text-align:right;vertical-align:bottom;border:.5pt solid windowtext;border-top:none;border-left:none;\">1</td>\n",
    "        </tr>\n",
    "        <tr>\n",
    "            <td style=\"padding:0px;color:black;font-size:15px;font-weight:400;font-style:normal;text-decoration:none;font-family:Calibri, sans-serif;text-align:right;vertical-align:bottom;border:.5pt solid windowtext;height:14.25pt;border-top:none;\">2.2</td>\n",
    "            <td style=\"padding:0px;color:black;font-size:15px;font-weight:400;font-style:normal;text-decoration:none;font-family:Calibri, sans-serif;text-align:right;vertical-align:bottom;border:.5pt solid windowtext;border-top:none;border-left:none;\">2</td>\n",
    "        </tr>\n",
    "        <tr>\n",
    "            <td style=\"padding:0px;color:black;font-size:15px;font-weight:400;font-style:normal;text-decoration:none;font-family:Calibri, sans-serif;text-align:right;vertical-align:bottom;border:.5pt solid windowtext;height:14.25pt;border-top:none;\">2.3</td>\n",
    "            <td style=\"padding:0px;color:black;font-size:15px;font-weight:400;font-style:normal;text-decoration:none;font-family:Calibri, sans-serif;text-align:right;vertical-align:bottom;border:.5pt solid windowtext;border-top:none;border-left:none;\">1</td>\n",
    "        </tr>\n",
    "        <tr>\n",
    "            <td style=\"padding:0px;color:black;font-size:15px;font-weight:400;font-style:normal;text-decoration:none;font-family:Calibri, sans-serif;text-align:right;vertical-align:bottom;border:.5pt solid windowtext;height:14.25pt;border-top:none;\">2.4</td>\n",
    "            <td style=\"padding:0px;color:black;font-size:15px;font-weight:400;font-style:normal;text-decoration:none;font-family:Calibri, sans-serif;text-align:right;vertical-align:bottom;border:.5pt solid windowtext;border-top:none;border-left:none;\">1</td>\n",
    "        </tr>\n",
    "        <tr>\n",
    "            <td style=\"padding:0px;color:black;font-size:15px;font-weight:400;font-style:normal;text-decoration:none;font-family:Calibri, sans-serif;text-align:right;vertical-align:bottom;border:.5pt solid windowtext;height:14.25pt;border-top:none;\">3</td>\n",
    "            <td style=\"padding:0px;color:black;font-size:15px;font-weight:400;font-style:normal;text-decoration:none;font-family:Calibri, sans-serif;text-align:right;vertical-align:bottom;border:.5pt solid windowtext;border-top:none;border-left:none;\">3.5</td>\n",
    "        </tr>\n",
    "        <tr>\n",
    "            <td style=\"padding:0px;color:black;font-size:15px;font-weight:400;font-style:normal;text-decoration:none;font-family:Calibri, sans-serif;text-align:right;vertical-align:bottom;border:.5pt solid windowtext;height:14.25pt;border-top:none;\">4.1</td>\n",
    "            <td style=\"padding:0px;color:black;font-size:15px;font-weight:400;font-style:normal;text-decoration:none;font-family:Calibri, sans-serif;text-align:right;vertical-align:bottom;border:.5pt solid windowtext;border-top:none;border-left:none;\">2</td>\n",
    "        </tr>\n",
    "        <tr>\n",
    "            <td style=\"padding:0px;color:black;font-size:15px;font-weight:400;font-style:normal;text-decoration:none;font-family:Calibri, sans-serif;text-align:right;vertical-align:bottom;border:.5pt solid windowtext;height:14.25pt;border-top:none;\">4.2</td>\n",
    "            <td style=\"padding:0px;color:black;font-size:15px;font-weight:400;font-style:normal;text-decoration:none;font-family:Calibri, sans-serif;text-align:right;vertical-align:bottom;border:.5pt solid windowtext;border-top:none;border-left:none;\">2</td>\n",
    "        </tr>\n",
    "        <tr>\n",
    "            <td style=\"padding:0px;color:black;font-size:15px;font-weight:400;font-style:normal;text-decoration:none;font-family:Calibri, sans-serif;text-align:right;vertical-align:bottom;border:.5pt solid windowtext;height:14.25pt;border-top:none;\">4.3</td>\n",
    "            <td style=\"padding:0px;color:black;font-size:15px;font-weight:400;font-style:normal;text-decoration:none;font-family:Calibri, sans-serif;text-align:right;vertical-align:bottom;border:.5pt solid windowtext;border-top:none;border-left:none;\">1</td>\n",
    "        </tr>\n",
    "        <tr>\n",
    "            <td style=\"padding:0px;color:black;font-size:15px;font-weight:400;font-style:normal;text-decoration:none;font-family:Calibri, sans-serif;text-align:right;vertical-align:bottom;border:.5pt solid windowtext;height:14.25pt;border-top:none;\">5.1</td>\n",
    "            <td style=\"padding:0px;color:black;font-size:15px;font-weight:400;font-style:normal;text-decoration:none;font-family:Calibri, sans-serif;text-align:right;vertical-align:bottom;border:.5pt solid windowtext;border-top:none;border-left:none;\">1</td>\n",
    "        </tr>\n",
    "        <tr>\n",
    "            <td style=\"padding:0px;color:black;font-size:15px;font-weight:400;font-style:normal;text-decoration:none;font-family:Calibri, sans-serif;text-align:right;vertical-align:bottom;border:.5pt solid windowtext;height:14.25pt;border-top:none;\">5.2</td>\n",
    "            <td style=\"padding:0px;color:black;font-size:15px;font-weight:400;font-style:normal;text-decoration:none;font-family:Calibri, sans-serif;text-align:right;vertical-align:bottom;border:.5pt solid windowtext;border-top:none;border-left:none;\">1</td>\n",
    "        </tr>\n",
    "        <tr>\n",
    "            <td style=\"padding:0px;color:black;font-size:15px;font-weight:400;font-style:normal;text-decoration:none;font-family:Calibri, sans-serif;text-align:right;vertical-align:bottom;border:.5pt solid windowtext;height:14.25pt;border-top:none;\">5.3</td>\n",
    "            <td style=\"padding:0px;color:black;font-size:15px;font-weight:400;font-style:normal;text-decoration:none;font-family:Calibri, sans-serif;text-align:right;vertical-align:bottom;border:.5pt solid windowtext;border-top:none;border-left:none;\">1</td>\n",
    "        </tr>\n",
    "        <tr>\n",
    "            <td style=\"padding:0px;color:black;font-size:15px;font-weight:400;font-style:normal;text-decoration:none;font-family:Calibri, sans-serif;text-align:right;vertical-align:bottom;border:.5pt solid windowtext;height:14.25pt;border-top:none;\">5.4</td>\n",
    "            <td style=\"padding:0px;color:black;font-size:15px;font-weight:400;font-style:normal;text-decoration:none;font-family:Calibri, sans-serif;text-align:right;vertical-align:bottom;border:.5pt solid windowtext;border-top:none;border-left:none;\">1</td>\n",
    "        </tr>\n",
    "    </tbody>\n",
    "</table>"
   ]
  },
  {
   "cell_type": "code",
   "execution_count": 91,
   "metadata": {},
   "outputs": [],
   "source": [
    "import pandas as pd\n",
    "import numpy as np\n",
    "import seaborn as sns\n",
    "import matplotlib.pyplot as plt\n",
    "\n",
    "from sklearn.model_selection import cross_val_score\n",
    "from sklearn.model_selection import KFold\n",
    "from sklearn.model_selection import train_test_split\n",
    "from sklearn.preprocessing import StandardScaler\n",
    "\n",
    "import statsmodels.formula.api as smf\n",
    "\n",
    "# sklearn Linear\n",
    "from sklearn.linear_model import Ridge, Lasso, ElasticNet, LinearRegression\n",
    "from sklearn.metrics import r2_score\n",
    "\n",
    "# sklearn Logistic\n",
    "from sklearn.linear_model import LogisticRegression\n",
    "from sklearn.metrics import roc_curve\n",
    "from sklearn.metrics import roc_auc_score\n",
    "from sklearn.metrics import confusion_matrix\n",
    "\n",
    "# Ignore scikit-learn ConvergenceWarnings\n",
    "import warnings\n",
    "from sklearn.exceptions import ConvergenceWarning\n",
    "warnings.filterwarnings(\"ignore\", category=ConvergenceWarning)\n",
    "warnings.filterwarnings(\"ignore\", category=UserWarning)"
   ]
  },
  {
   "cell_type": "markdown",
   "metadata": {},
   "source": [
    "## 1. Basic Data Examination and Cleaning\n",
    "\n",
    "### 1.1. Reading the Dataset\n",
    "\n",
    "1. Read the `seattle_airbnb_listings.csv` file into a dataframe.\n",
    "\n",
    "2. Display your dataframe.\n",
    "\n",
    "3. Show how many rows your dataframe has.\n",
    "\n"
   ]
  },
  {
   "cell_type": "code",
   "execution_count": 92,
   "metadata": {},
   "outputs": [],
   "source": [
    "df = pd.read_csv(\"seattle_airbnb_listings.csv\")"
   ]
  },
  {
   "cell_type": "code",
   "execution_count": 93,
   "metadata": {},
   "outputs": [
    {
     "data": {
      "text/html": [
       "<div>\n",
       "<style scoped>\n",
       "    .dataframe tbody tr th:only-of-type {\n",
       "        vertical-align: middle;\n",
       "    }\n",
       "\n",
       "    .dataframe tbody tr th {\n",
       "        vertical-align: top;\n",
       "    }\n",
       "\n",
       "    .dataframe thead th {\n",
       "        text-align: right;\n",
       "    }\n",
       "</style>\n",
       "<table border=\"1\" class=\"dataframe\">\n",
       "  <thead>\n",
       "    <tr style=\"text-align: right;\">\n",
       "      <th></th>\n",
       "      <th>price</th>\n",
       "      <th>review_scores_rating</th>\n",
       "      <th>number_of_reviews</th>\n",
       "      <th>security_deposit</th>\n",
       "      <th>cleaning_fee</th>\n",
       "      <th>neighborhood</th>\n",
       "      <th>property_type</th>\n",
       "      <th>room_type</th>\n",
       "      <th>accommodates</th>\n",
       "      <th>bathrooms</th>\n",
       "      <th>beds</th>\n",
       "      <th>host_response_time</th>\n",
       "      <th>host_response_rate</th>\n",
       "      <th>host_is_superhost</th>\n",
       "      <th>host_has_profile_pic</th>\n",
       "      <th>host_identity_verified</th>\n",
       "    </tr>\n",
       "  </thead>\n",
       "  <tbody>\n",
       "    <tr>\n",
       "      <th>0</th>\n",
       "      <td>300</td>\n",
       "      <td>100</td>\n",
       "      <td>24</td>\n",
       "      <td>500</td>\n",
       "      <td>95</td>\n",
       "      <td>Wallingford</td>\n",
       "      <td>House</td>\n",
       "      <td>Entire home/apt</td>\n",
       "      <td>5</td>\n",
       "      <td>1.5</td>\n",
       "      <td>3</td>\n",
       "      <td>within a few hours</td>\n",
       "      <td>1.0</td>\n",
       "      <td>t</td>\n",
       "      <td>t</td>\n",
       "      <td>t</td>\n",
       "    </tr>\n",
       "    <tr>\n",
       "      <th>1</th>\n",
       "      <td>149</td>\n",
       "      <td>96</td>\n",
       "      <td>11</td>\n",
       "      <td>300</td>\n",
       "      <td>105</td>\n",
       "      <td>Wallingford</td>\n",
       "      <td>Apartment</td>\n",
       "      <td>Entire home/apt</td>\n",
       "      <td>6</td>\n",
       "      <td>1.0</td>\n",
       "      <td>3</td>\n",
       "      <td>within an hour</td>\n",
       "      <td>1.0</td>\n",
       "      <td>f</td>\n",
       "      <td>t</td>\n",
       "      <td>t</td>\n",
       "    </tr>\n",
       "    <tr>\n",
       "      <th>2</th>\n",
       "      <td>95</td>\n",
       "      <td>95</td>\n",
       "      <td>79</td>\n",
       "      <td>150</td>\n",
       "      <td>40</td>\n",
       "      <td>Wallingford</td>\n",
       "      <td>Apartment</td>\n",
       "      <td>Entire home/apt</td>\n",
       "      <td>3</td>\n",
       "      <td>1.0</td>\n",
       "      <td>2</td>\n",
       "      <td>within an hour</td>\n",
       "      <td>1.0</td>\n",
       "      <td>f</td>\n",
       "      <td>t</td>\n",
       "      <td>t</td>\n",
       "    </tr>\n",
       "    <tr>\n",
       "      <th>3</th>\n",
       "      <td>105</td>\n",
       "      <td>100</td>\n",
       "      <td>13</td>\n",
       "      <td>500</td>\n",
       "      <td>50</td>\n",
       "      <td>Wallingford</td>\n",
       "      <td>House</td>\n",
       "      <td>Private room</td>\n",
       "      <td>2</td>\n",
       "      <td>2.0</td>\n",
       "      <td>1</td>\n",
       "      <td>within a few hours</td>\n",
       "      <td>1.0</td>\n",
       "      <td>t</td>\n",
       "      <td>t</td>\n",
       "      <td>t</td>\n",
       "    </tr>\n",
       "    <tr>\n",
       "      <th>4</th>\n",
       "      <td>140</td>\n",
       "      <td>99</td>\n",
       "      <td>30</td>\n",
       "      <td>250</td>\n",
       "      <td>65</td>\n",
       "      <td>Wallingford</td>\n",
       "      <td>House</td>\n",
       "      <td>Entire home/apt</td>\n",
       "      <td>2</td>\n",
       "      <td>1.0</td>\n",
       "      <td>1</td>\n",
       "      <td>within an hour</td>\n",
       "      <td>1.0</td>\n",
       "      <td>t</td>\n",
       "      <td>t</td>\n",
       "      <td>t</td>\n",
       "    </tr>\n",
       "  </tbody>\n",
       "</table>\n",
       "</div>"
      ],
      "text/plain": [
       "   price  review_scores_rating  number_of_reviews  security_deposit  \\\n",
       "0    300                   100                 24               500   \n",
       "1    149                    96                 11               300   \n",
       "2     95                    95                 79               150   \n",
       "3    105                   100                 13               500   \n",
       "4    140                    99                 30               250   \n",
       "\n",
       "   cleaning_fee neighborhood property_type        room_type  accommodates  \\\n",
       "0            95  Wallingford         House  Entire home/apt             5   \n",
       "1           105  Wallingford     Apartment  Entire home/apt             6   \n",
       "2            40  Wallingford     Apartment  Entire home/apt             3   \n",
       "3            50  Wallingford         House     Private room             2   \n",
       "4            65  Wallingford         House  Entire home/apt             2   \n",
       "\n",
       "   bathrooms  beds  host_response_time  host_response_rate host_is_superhost  \\\n",
       "0        1.5     3  within a few hours                 1.0                 t   \n",
       "1        1.0     3      within an hour                 1.0                 f   \n",
       "2        1.0     2      within an hour                 1.0                 f   \n",
       "3        2.0     1  within a few hours                 1.0                 t   \n",
       "4        1.0     1      within an hour                 1.0                 t   \n",
       "\n",
       "  host_has_profile_pic host_identity_verified  \n",
       "0                    t                      t  \n",
       "1                    t                      t  \n",
       "2                    t                      t  \n",
       "3                    t                      t  \n",
       "4                    t                      t  "
      ]
     },
     "execution_count": 93,
     "metadata": {},
     "output_type": "execute_result"
    }
   ],
   "source": [
    "df.head()"
   ]
  },
  {
   "cell_type": "code",
   "execution_count": 94,
   "metadata": {},
   "outputs": [
    {
     "data": {
      "text/plain": [
       "325"
      ]
     },
     "execution_count": 94,
     "metadata": {},
     "output_type": "execute_result"
    }
   ],
   "source": [
    "df.shape[0]"
   ]
  },
  {
   "cell_type": "markdown",
   "metadata": {},
   "source": [
    "### 1.2. 0/1 Response Variable\n",
    "\n",
    "Create a new 0/1 variable in your dataset in which `superhosts=1` and `nonsuperhosts=0`. "
   ]
  },
  {
   "cell_type": "code",
   "execution_count": 95,
   "metadata": {},
   "outputs": [],
   "source": [
    "df[\"host_is_superhost\"].replace({\"t\":1,\"f\":0}, inplace=True)"
   ]
  },
  {
   "cell_type": "markdown",
   "metadata": {},
   "source": [
    "### 1.3. Train-Test-Split \n",
    "\n",
    "Create a training dataset and a test dataset from your dataframe using a random state of `101` and a test dataset size that is a random sample of about 20% of the observations from the original dataset."
   ]
  },
  {
   "cell_type": "code",
   "execution_count": 96,
   "metadata": {},
   "outputs": [],
   "source": [
    "df = df[[\"review_scores_rating\", \"number_of_reviews\", \"neighborhood\", \"room_type\", \"host_is_superhost\"]]\n",
    "df_train, df_test = train_test_split(df, test_size=0.2, random_state=101)"
   ]
  },
  {
   "cell_type": "markdown",
   "metadata": {},
   "source": [
    "### 1.4. Numerical Explanatory Variable Scaling\n",
    "\n",
    "#### 1.4.1. Numerical Explanatory Variable Standard Deviations\n",
    "\n",
    "First, calculate the standard deviation of each of your numerical explanatory variables in your training dataset."
   ]
  },
  {
   "cell_type": "code",
   "execution_count": 97,
   "metadata": {},
   "outputs": [
    {
     "data": {
      "text/plain": [
       "review_scores_rating     7.588386\n",
       "number_of_reviews       37.481854\n",
       "host_is_superhost        0.455700\n",
       "dtype: float64"
      ]
     },
     "execution_count": 97,
     "metadata": {},
     "output_type": "execute_result"
    }
   ],
   "source": [
    "df_train.std(numeric_only=True)"
   ]
  },
  {
   "cell_type": "markdown",
   "metadata": {},
   "source": [
    "#### 1.4.2. Scaling the Numerical Explanatory Variables in the Training Dataset\n",
    "\n",
    "Just like we saw in a linear regression model, if the standard deviations of the numerical explanatory variables in a logistic regression model are not all roughly equal, then we cannot interpret the magnitude of the slopes as reflecting the predictive power that the corresponding variable brings to the model.\n",
    "\n",
    "Because we'd now like to (ideally) interpret the slope magnitudes of our model in this way, z-score scale the numerical explanatory variables in your training dataset (using the TRAINING dataset means and standard deviations.)"
   ]
  },
  {
   "cell_type": "code",
   "execution_count": 98,
   "metadata": {},
   "outputs": [],
   "source": [
    "scaler = StandardScaler()\n",
    "scaled_vars = scaler.fit_transform(df_train[[\"review_scores_rating\", \"number_of_reviews\"]])\n",
    "df_train[[\"review_scores_rating\", \"number_of_reviews\"]] = scaled_vars"
   ]
  },
  {
   "cell_type": "markdown",
   "metadata": {},
   "source": [
    "#### 1.4.3. Scaling the Numerical Explanatory Variables in the Test Dataset\n",
    "\n",
    "Then, z-score scale the numerical explanatory variables in your TEST dataset (using the means and standard deviations from the TRAINING dataset)."
   ]
  },
  {
   "cell_type": "code",
   "execution_count": 99,
   "metadata": {},
   "outputs": [],
   "source": [
    "scaled_vars = scaler.transform(df_test[[\"review_scores_rating\", \"number_of_reviews\"]])\n",
    "df_test[[\"review_scores_rating\", \"number_of_reviews\"]] = scaled_vars"
   ]
  },
  {
   "cell_type": "markdown",
   "metadata": {},
   "source": [
    "## 2. Full Model Classification\n",
    "\n",
    "### 2.1. Full Logistic Regression Model\n",
    "\n",
    "First, let's fit the \"full\" model logistic regression model with our training dataset. In the interest of time, we'll call our \"full\" model the one that predicts the `probability that a host is a superhost` given the four explanatory variables below:\n",
    "* `review_scores_rating`\n",
    "* `number_of_reviews`\n",
    "* `neighborhood`\n",
    "* `room_type`\n",
    "\n",
    "\n",
    "Show the summary output table for this logistic regression model."
   ]
  },
  {
   "cell_type": "code",
   "execution_count": 100,
   "metadata": {},
   "outputs": [
    {
     "name": "stdout",
     "output_type": "stream",
     "text": [
      "Warning: Maximum number of iterations has been exceeded.\n",
      "         Current function value: 0.478540\n",
      "         Iterations: 35\n"
     ]
    },
    {
     "data": {
      "text/html": [
       "<table class=\"simpletable\">\n",
       "<caption>Logit Regression Results</caption>\n",
       "<tr>\n",
       "  <th>Dep. Variable:</th>   <td>host_is_superhost</td> <th>  No. Observations:  </th>  <td>   260</td>  \n",
       "</tr>\n",
       "<tr>\n",
       "  <th>Model:</th>                 <td>Logit</td>       <th>  Df Residuals:      </th>  <td>   251</td>  \n",
       "</tr>\n",
       "<tr>\n",
       "  <th>Method:</th>                 <td>MLE</td>        <th>  Df Model:          </th>  <td>     8</td>  \n",
       "</tr>\n",
       "<tr>\n",
       "  <th>Date:</th>            <td>Tue, 16 Apr 2024</td>  <th>  Pseudo R-squ.:     </th>  <td>0.2080</td>  \n",
       "</tr>\n",
       "<tr>\n",
       "  <th>Time:</th>                <td>13:00:27</td>      <th>  Log-Likelihood:    </th> <td> -124.42</td> \n",
       "</tr>\n",
       "<tr>\n",
       "  <th>converged:</th>             <td>False</td>       <th>  LL-Null:           </th> <td> -157.09</td> \n",
       "</tr>\n",
       "<tr>\n",
       "  <th>Covariance Type:</th>     <td>nonrobust</td>     <th>  LLR p-value:       </th> <td>4.122e-11</td>\n",
       "</tr>\n",
       "</table>\n",
       "<table class=\"simpletable\">\n",
       "<tr>\n",
       "               <td></td>                  <th>coef</th>     <th>std err</th>      <th>z</th>      <th>P>|z|</th>  <th>[0.025</th>    <th>0.975]</th>  \n",
       "</tr>\n",
       "<tr>\n",
       "  <th>Intercept</th>                   <td>   -0.7371</td> <td>    0.352</td> <td>   -2.093</td> <td> 0.036</td> <td>   -1.427</td> <td>   -0.047</td>\n",
       "</tr>\n",
       "<tr>\n",
       "  <th>neighborhood[T.Broadway]</th>    <td>   -1.1219</td> <td>    0.446</td> <td>   -2.516</td> <td> 0.012</td> <td>   -1.996</td> <td>   -0.248</td>\n",
       "</tr>\n",
       "<tr>\n",
       "  <th>neighborhood[T.Fremont]</th>     <td>   -0.8328</td> <td>    0.588</td> <td>   -1.417</td> <td> 0.157</td> <td>   -1.985</td> <td>    0.319</td>\n",
       "</tr>\n",
       "<tr>\n",
       "  <th>neighborhood[T.Minor]</th>       <td>   -0.1591</td> <td>    0.484</td> <td>   -0.329</td> <td> 0.742</td> <td>   -1.108</td> <td>    0.789</td>\n",
       "</tr>\n",
       "<tr>\n",
       "  <th>neighborhood[T.Wallingford]</th> <td>   -0.7314</td> <td>    0.501</td> <td>   -1.461</td> <td> 0.144</td> <td>   -1.712</td> <td>    0.250</td>\n",
       "</tr>\n",
       "<tr>\n",
       "  <th>room_type[T.Private room]</th>   <td>    0.0568</td> <td>    0.428</td> <td>    0.133</td> <td> 0.895</td> <td>   -0.783</td> <td>    0.897</td>\n",
       "</tr>\n",
       "<tr>\n",
       "  <th>room_type[T.Shared room]</th>    <td>  -24.3619</td> <td> 9.11e+04</td> <td>   -0.000</td> <td> 1.000</td> <td>-1.78e+05</td> <td> 1.78e+05</td>\n",
       "</tr>\n",
       "<tr>\n",
       "  <th>review_scores_rating</th>        <td>    1.9947</td> <td>    0.470</td> <td>    4.247</td> <td> 0.000</td> <td>    1.074</td> <td>    2.915</td>\n",
       "</tr>\n",
       "<tr>\n",
       "  <th>number_of_reviews</th>           <td>    0.5528</td> <td>    0.172</td> <td>    3.209</td> <td> 0.001</td> <td>    0.215</td> <td>    0.890</td>\n",
       "</tr>\n",
       "</table>"
      ],
      "text/latex": [
       "\\begin{center}\n",
       "\\begin{tabular}{lclc}\n",
       "\\toprule\n",
       "\\textbf{Dep. Variable:}              & host\\_is\\_superhost & \\textbf{  No. Observations:  } &      260    \\\\\n",
       "\\textbf{Model:}                      &        Logit        & \\textbf{  Df Residuals:      } &      251    \\\\\n",
       "\\textbf{Method:}                     &         MLE         & \\textbf{  Df Model:          } &        8    \\\\\n",
       "\\textbf{Date:}                       &   Tue, 16 Apr 2024  & \\textbf{  Pseudo R-squ.:     } &   0.2080    \\\\\n",
       "\\textbf{Time:}                       &       13:00:27      & \\textbf{  Log-Likelihood:    } &   -124.42   \\\\\n",
       "\\textbf{converged:}                  &        False        & \\textbf{  LL-Null:           } &   -157.09   \\\\\n",
       "\\textbf{Covariance Type:}            &      nonrobust      & \\textbf{  LLR p-value:       } & 4.122e-11   \\\\\n",
       "\\bottomrule\n",
       "\\end{tabular}\n",
       "\\begin{tabular}{lcccccc}\n",
       "                                     & \\textbf{coef} & \\textbf{std err} & \\textbf{z} & \\textbf{P$> |$z$|$} & \\textbf{[0.025} & \\textbf{0.975]}  \\\\\n",
       "\\midrule\n",
       "\\textbf{Intercept}                   &      -0.7371  &        0.352     &    -2.093  &         0.036        &       -1.427    &       -0.047     \\\\\n",
       "\\textbf{neighborhood[T.Broadway]}    &      -1.1219  &        0.446     &    -2.516  &         0.012        &       -1.996    &       -0.248     \\\\\n",
       "\\textbf{neighborhood[T.Fremont]}     &      -0.8328  &        0.588     &    -1.417  &         0.157        &       -1.985    &        0.319     \\\\\n",
       "\\textbf{neighborhood[T.Minor]}       &      -0.1591  &        0.484     &    -0.329  &         0.742        &       -1.108    &        0.789     \\\\\n",
       "\\textbf{neighborhood[T.Wallingford]} &      -0.7314  &        0.501     &    -1.461  &         0.144        &       -1.712    &        0.250     \\\\\n",
       "\\textbf{room\\_type[T.Private room]}  &       0.0568  &        0.428     &     0.133  &         0.895        &       -0.783    &        0.897     \\\\\n",
       "\\textbf{room\\_type[T.Shared room]}   &     -24.3619  &     9.11e+04     &    -0.000  &         1.000        &    -1.78e+05    &     1.78e+05     \\\\\n",
       "\\textbf{review\\_scores\\_rating}      &       1.9947  &        0.470     &     4.247  &         0.000        &        1.074    &        2.915     \\\\\n",
       "\\textbf{number\\_of\\_reviews}         &       0.5528  &        0.172     &     3.209  &         0.001        &        0.215    &        0.890     \\\\\n",
       "\\bottomrule\n",
       "\\end{tabular}\n",
       "%\\caption{Logit Regression Results}\n",
       "\\end{center}"
      ],
      "text/plain": [
       "<class 'statsmodels.iolib.summary.Summary'>\n",
       "\"\"\"\n",
       "                           Logit Regression Results                           \n",
       "==============================================================================\n",
       "Dep. Variable:      host_is_superhost   No. Observations:                  260\n",
       "Model:                          Logit   Df Residuals:                      251\n",
       "Method:                           MLE   Df Model:                            8\n",
       "Date:                Tue, 16 Apr 2024   Pseudo R-squ.:                  0.2080\n",
       "Time:                        13:00:27   Log-Likelihood:                -124.42\n",
       "converged:                      False   LL-Null:                       -157.09\n",
       "Covariance Type:            nonrobust   LLR p-value:                 4.122e-11\n",
       "===============================================================================================\n",
       "                                  coef    std err          z      P>|z|      [0.025      0.975]\n",
       "-----------------------------------------------------------------------------------------------\n",
       "Intercept                      -0.7371      0.352     -2.093      0.036      -1.427      -0.047\n",
       "neighborhood[T.Broadway]       -1.1219      0.446     -2.516      0.012      -1.996      -0.248\n",
       "neighborhood[T.Fremont]        -0.8328      0.588     -1.417      0.157      -1.985       0.319\n",
       "neighborhood[T.Minor]          -0.1591      0.484     -0.329      0.742      -1.108       0.789\n",
       "neighborhood[T.Wallingford]    -0.7314      0.501     -1.461      0.144      -1.712       0.250\n",
       "room_type[T.Private room]       0.0568      0.428      0.133      0.895      -0.783       0.897\n",
       "room_type[T.Shared room]      -24.3619   9.11e+04     -0.000      1.000   -1.78e+05    1.78e+05\n",
       "review_scores_rating            1.9947      0.470      4.247      0.000       1.074       2.915\n",
       "number_of_reviews               0.5528      0.172      3.209      0.001       0.215       0.890\n",
       "===============================================================================================\n",
       "\"\"\""
      ]
     },
     "execution_count": 100,
     "metadata": {},
     "output_type": "execute_result"
    }
   ],
   "source": [
    "full_model = smf.logit(formula=\"host_is_superhost~review_scores_rating+number_of_reviews+neighborhood+room_type\",data=df_train).fit()\n",
    "full_model.summary()"
   ]
  },
  {
   "cell_type": "markdown",
   "metadata": {},
   "source": [
    "### 2.2. Test Dataset ROC Curve\n",
    "\n",
    "Now, create an ROC curve for this logistic regression model and the **test dataset**. Also calculate the AUC of this ROC curve."
   ]
  },
  {
   "cell_type": "code",
   "execution_count": 101,
   "metadata": {},
   "outputs": [],
   "source": [
    "from sklearn.metrics import roc_curve\n",
    "from sklearn.metrics import roc_auc_score"
   ]
  },
  {
   "cell_type": "code",
   "execution_count": 102,
   "metadata": {},
   "outputs": [],
   "source": [
    "df_test[\"predictive_prob\"] = full_model.predict(df_test)"
   ]
  },
  {
   "cell_type": "code",
   "execution_count": 103,
   "metadata": {},
   "outputs": [],
   "source": [
    "fprs, tprs, thresholds = roc_curve(y_true=df_test[\"host_is_superhost\"], y_score=df_test[\"predictive_prob\"])"
   ]
  },
  {
   "cell_type": "code",
   "execution_count": 104,
   "metadata": {},
   "outputs": [
    {
     "data": {
      "text/plain": [
       "0.76"
      ]
     },
     "execution_count": 104,
     "metadata": {},
     "output_type": "execute_result"
    }
   ],
   "source": [
    "auc = roc_auc_score(y_true=df_test[\"host_is_superhost\"], y_score=df_test[\"predictive_prob\"])\n",
    "auc"
   ]
  },
  {
   "cell_type": "code",
   "execution_count": 105,
   "metadata": {},
   "outputs": [],
   "source": [
    "def plot_roc(fpr, tpr, auc, lw=2):\n",
    "    plt.plot(fpr, tpr, color=\"darkorange\",lw=lw,label=\"ROC curve (area = \"+str(round(auc,3))+\")\")\n",
    "    plt.plot([0,1], [0,1], color=\"navy\",lw=lw, linestyle=\"--\")\n",
    "    plt.xlabel(\"False Positive Rate\")\n",
    "    plt.ylabel(\"True Positive Rate\")\n",
    "    plt.title(\"ROC Curve\")\n",
    "    plt.legend(loc=\"lower right\")\n",
    "    plt.show()"
   ]
  },
  {
   "cell_type": "code",
   "execution_count": 106,
   "metadata": {},
   "outputs": [
    {
     "data": {
      "image/png": "[encoded data removed]",
      "text/plain": [
       "<Figure size 640x480 with 1 Axes>"
      ]
     },
     "metadata": {},
     "output_type": "display_data"
    }
   ],
   "source": [
    "plot_roc(fprs, tprs, auc)"
   ]
  },
  {
   "cell_type": "markdown",
   "metadata": {},
   "source": [
    "### 2.3. Interpreting the Test ROC and AUC\n",
    "\n",
    "1. Suppose we were to use the full logistic regression model to classify the observations in the test dataset. Does there exist a predictive probability threshold that we could use that would create a classification of the test dataset with close to perfect FPR and TPR? Explain.\n",
    "2. Evaluate how well the full logistic regression model would do in general when it comes to classifying the test dataset."
   ]
  },
  {
   "cell_type": "markdown",
   "metadata": {},
   "source": [
    "No, there does not exist a predictive probability threshold that has close to perfect FPR and TPR. According to the ROC curve, the best threshold would probably yield a TPR around 0.6 and a FPR around 0.2, neither of which are perfect. The full model will not do very well when it comes to classifying new datasets since the AUC score is not very great. Considering a perfect score to be 1, and the worse case scenario score to be 0.5, our AUC score is right between the two. This is like (but not really like) an $R^2$ of 0.5 for a linear regression model which isn't that great of a score."
   ]
  },
  {
   "cell_type": "markdown",
   "metadata": {},
   "source": [
    "### 2.4. Evaluating the Full Logistic Regression Model with Respect to the Primary Research Goal\n",
    "\n",
    "Based on our analysis above, how well might the full logistic regression model do when it comes to classifying *new Airbnb hosts* as either a super host or not a superhost? Explain."
   ]
  },
  {
   "cell_type": "markdown",
   "metadata": {},
   "source": [
    "The model would not be very great at classifying new Airbnb hosts as superhosts since the AUC score is 0.76."
   ]
  },
  {
   "cell_type": "markdown",
   "metadata": {},
   "source": [
    "## 3. Backwards Elimination\n",
    "\n",
    "Now let's suppose we would like to try to find the logistic regression model that will yield the **highest test dataset AUC**. Use a backwards elimination algorithm to search for the logistic regression model that will yield the **highest test dataset AUC**."
   ]
  },
  {
   "cell_type": "code",
   "execution_count": 107,
   "metadata": {},
   "outputs": [
    {
     "name": "stdout",
     "output_type": "stream",
     "text": [
      "Optimization terminated successfully.\n",
      "         Current function value: 0.491302\n",
      "         Iterations 7\n"
     ]
    },
    {
     "data": {
      "text/plain": [
       "0.7955555555555556"
      ]
     },
     "execution_count": 107,
     "metadata": {},
     "output_type": "execute_result"
    }
   ],
   "source": [
    "reduced_model1 = smf.logit(formula=\"host_is_superhost~review_scores_rating+number_of_reviews+neighborhood\",data=df_train).fit()\n",
    "df_test[\"predictive_prob\"] = reduced_model1.predict(df_test)\n",
    "auc = roc_auc_score(y_true=df_test[\"host_is_superhost\"], y_score=df_test[\"predictive_prob\"])\n",
    "auc"
   ]
  },
  {
   "cell_type": "code",
   "execution_count": 108,
   "metadata": {},
   "outputs": [
    {
     "name": "stdout",
     "output_type": "stream",
     "text": [
      "Warning: Maximum number of iterations has been exceeded.\n",
      "         Current function value: 0.495466\n",
      "         Iterations: 35\n"
     ]
    },
    {
     "data": {
      "text/plain": [
       "0.7327777777777778"
      ]
     },
     "execution_count": 108,
     "metadata": {},
     "output_type": "execute_result"
    }
   ],
   "source": [
    "reduced_model2 = smf.logit(formula=\"host_is_superhost~review_scores_rating+number_of_reviews+room_type\",data=df_train).fit()\n",
    "df_test[\"predictive_prob\"] = reduced_model2.predict(df_test)\n",
    "auc = roc_auc_score(y_true=df_test[\"host_is_superhost\"], y_score=df_test[\"predictive_prob\"])\n",
    "auc"
   ]
  },
  {
   "cell_type": "code",
   "execution_count": 109,
   "metadata": {},
   "outputs": [
    {
     "name": "stdout",
     "output_type": "stream",
     "text": [
      "Warning: Maximum number of iterations has been exceeded.\n",
      "         Current function value: 0.498659\n",
      "         Iterations: 35\n"
     ]
    },
    {
     "data": {
      "text/plain": [
       "0.7316666666666667"
      ]
     },
     "execution_count": 109,
     "metadata": {},
     "output_type": "execute_result"
    }
   ],
   "source": [
    "reduced_model3 = smf.logit(formula=\"host_is_superhost~review_scores_rating+neighborhood+room_type\",data=df_train).fit()\n",
    "df_test[\"predictive_prob\"] = reduced_model3.predict(df_test)\n",
    "auc = roc_auc_score(y_true=df_test[\"host_is_superhost\"], y_score=df_test[\"predictive_prob\"])\n",
    "auc"
   ]
  },
  {
   "cell_type": "code",
   "execution_count": 110,
   "metadata": {},
   "outputs": [
    {
     "name": "stdout",
     "output_type": "stream",
     "text": [
      "Warning: Maximum number of iterations has been exceeded.\n",
      "         Current function value: 0.534945\n",
      "         Iterations: 35\n"
     ]
    },
    {
     "data": {
      "text/plain": [
       "0.6361111111111112"
      ]
     },
     "execution_count": 110,
     "metadata": {},
     "output_type": "execute_result"
    }
   ],
   "source": [
    "reduced_model4 = smf.logit(formula=\"host_is_superhost~number_of_reviews+neighborhood+room_type\",data=df_train).fit()\n",
    "df_test[\"predictive_prob\"] = reduced_model4.predict(df_test)\n",
    "auc = roc_auc_score(y_true=df_test[\"host_is_superhost\"], y_score=df_test[\"predictive_prob\"])\n",
    "auc"
   ]
  },
  {
   "cell_type": "code",
   "execution_count": 111,
   "metadata": {},
   "outputs": [
    {
     "name": "stdout",
     "output_type": "stream",
     "text": [
      "Optimization terminated successfully.\n",
      "         Current function value: 0.510512\n",
      "         Iterations 7\n"
     ]
    },
    {
     "data": {
      "text/plain": [
       "0.7522222222222221"
      ]
     },
     "execution_count": 111,
     "metadata": {},
     "output_type": "execute_result"
    }
   ],
   "source": [
    "reduced_model5 = smf.logit(formula=\"host_is_superhost~review_scores_rating+number_of_reviews\",data=df_train).fit()\n",
    "df_test[\"predictive_prob\"] = reduced_model5.predict(df_test)\n",
    "auc = roc_auc_score(y_true=df_test[\"host_is_superhost\"], y_score=df_test[\"predictive_prob\"])\n",
    "auc"
   ]
  },
  {
   "cell_type": "code",
   "execution_count": 112,
   "metadata": {},
   "outputs": [
    {
     "name": "stdout",
     "output_type": "stream",
     "text": [
      "Optimization terminated successfully.\n",
      "         Current function value: 0.516803\n",
      "         Iterations 7\n"
     ]
    },
    {
     "data": {
      "text/plain": [
       "0.7466666666666666"
      ]
     },
     "execution_count": 112,
     "metadata": {},
     "output_type": "execute_result"
    }
   ],
   "source": [
    "reduced_model6 = smf.logit(formula=\"host_is_superhost~review_scores_rating+neighborhood\",data=df_train).fit()\n",
    "df_test[\"predictive_prob\"] = reduced_model6.predict(df_test)\n",
    "auc = roc_auc_score(y_true=df_test[\"host_is_superhost\"], y_score=df_test[\"predictive_prob\"])\n",
    "auc"
   ]
  },
  {
   "cell_type": "code",
   "execution_count": 113,
   "metadata": {},
   "outputs": [
    {
     "name": "stdout",
     "output_type": "stream",
     "text": [
      "Optimization terminated successfully.\n",
      "         Current function value: 0.555231\n",
      "         Iterations 5\n"
     ]
    },
    {
     "data": {
      "text/plain": [
       "0.6527777777777778"
      ]
     },
     "execution_count": 113,
     "metadata": {},
     "output_type": "execute_result"
    }
   ],
   "source": [
    "reduced_model7 = smf.logit(formula=\"host_is_superhost~number_of_reviews+neighborhood\",data=df_train).fit()\n",
    "df_test[\"predictive_prob\"] = reduced_model7.predict(df_test)\n",
    "auc = roc_auc_score(y_true=df_test[\"host_is_superhost\"], y_score=df_test[\"predictive_prob\"])\n",
    "auc"
   ]
  },
  {
   "cell_type": "markdown",
   "metadata": {},
   "source": [
    "## 4. Selecting the Best Final Model Classification\n",
    "\n",
    "Now, we would like to use our final logistic regression model that we selected in #3 to create a classification that best meets our research goals.\n",
    "\n",
    "### 4.1. Test ROC and AUC\n",
    "\n",
    "Plot the ROC curve for this final logistic regression model and the test dataset."
   ]
  },
  {
   "cell_type": "code",
   "execution_count": 114,
   "metadata": {},
   "outputs": [
    {
     "name": "stdout",
     "output_type": "stream",
     "text": [
      "Optimization terminated successfully.\n",
      "         Current function value: 0.491302\n",
      "         Iterations 7\n"
     ]
    }
   ],
   "source": [
    "best_model = smf.logit(formula=\"host_is_superhost~review_scores_rating+number_of_reviews+neighborhood\",data=df_train).fit()\n",
    "\n",
    "df_test[\"predictive_prob\"] = reduced_model1.predict(df_test)\n",
    "\n",
    "fprs, tprs, thresholds = roc_curve(y_true=df_test[\"host_is_superhost\"], y_score=df_test[\"predictive_prob\"])\n",
    "\n",
    "auc = roc_auc_score(y_true=df_test[\"host_is_superhost\"], y_score=df_test[\"predictive_prob\"])"
   ]
  },
  {
   "cell_type": "code",
   "execution_count": 115,
   "metadata": {},
   "outputs": [
    {
     "data": {
      "image/png": "[encoded data removed]",
      "text/plain": [
       "<Figure size 640x480 with 1 Axes>"
      ]
     },
     "metadata": {},
     "output_type": "display_data"
    }
   ],
   "source": [
    "plot_roc(fprs, tprs, auc)"
   ]
  },
  {
   "cell_type": "markdown",
   "metadata": {},
   "source": [
    "### 4.2. Specific Classifier Use Case\n",
    "\n",
    "Suppose that you work as a data scientist at Airbnb and you would like to design a new automated algorithm which predicts whether or not an Airbnb listing host is deserving of an Superhost status (based on the observations in this dataset). To keep existing superhosts happy, you would **ideally like for as many of the people in this dataset who are already superhosts to be awarded (ie. predicted) to be a superhost**. On the other hand, suppose that your boss has decided that **at most 20% of nonsuperhosts should be expected to be misclassified as a superhost in new datasets.**\n",
    "\n",
    "Practically speaking you'd be classifying hosts as superhosts vs. nonsuperhosts for *new datasets*.\n",
    "\n",
    "1. If we were to use the final logistic regression from #3, what predictive probability threshold should we use to create a classification that best meets these specific research goals and specifications? \n",
    "2. What false positive rate and true positive rate would the test dataset classification have if we were to use this predictive probability threshold?\n",
    "\n"
   ]
  },
  {
   "cell_type": "code",
   "execution_count": 116,
   "metadata": {},
   "outputs": [
    {
     "data": {
      "text/html": [
       "<div>\n",
       "<style scoped>\n",
       "    .dataframe tbody tr th:only-of-type {\n",
       "        vertical-align: middle;\n",
       "    }\n",
       "\n",
       "    .dataframe tbody tr th {\n",
       "        vertical-align: top;\n",
       "    }\n",
       "\n",
       "    .dataframe thead th {\n",
       "        text-align: right;\n",
       "    }\n",
       "</style>\n",
       "<table border=\"1\" class=\"dataframe\">\n",
       "  <thead>\n",
       "    <tr style=\"text-align: right;\">\n",
       "      <th></th>\n",
       "      <th>thresh</th>\n",
       "      <th>fpr</th>\n",
       "      <th>tpr</th>\n",
       "    </tr>\n",
       "  </thead>\n",
       "  <tbody>\n",
       "    <tr>\n",
       "      <th>33</th>\n",
       "      <td>0.33</td>\n",
       "      <td>0.200000</td>\n",
       "      <td>0.75</td>\n",
       "    </tr>\n",
       "    <tr>\n",
       "      <th>34</th>\n",
       "      <td>0.34</td>\n",
       "      <td>0.200000</td>\n",
       "      <td>0.70</td>\n",
       "    </tr>\n",
       "    <tr>\n",
       "      <th>35</th>\n",
       "      <td>0.35</td>\n",
       "      <td>0.200000</td>\n",
       "      <td>0.70</td>\n",
       "    </tr>\n",
       "    <tr>\n",
       "      <th>36</th>\n",
       "      <td>0.36</td>\n",
       "      <td>0.200000</td>\n",
       "      <td>0.70</td>\n",
       "    </tr>\n",
       "    <tr>\n",
       "      <th>37</th>\n",
       "      <td>0.37</td>\n",
       "      <td>0.177778</td>\n",
       "      <td>0.70</td>\n",
       "    </tr>\n",
       "    <tr>\n",
       "      <th>...</th>\n",
       "      <td>...</td>\n",
       "      <td>...</td>\n",
       "      <td>...</td>\n",
       "    </tr>\n",
       "    <tr>\n",
       "      <th>96</th>\n",
       "      <td>0.96</td>\n",
       "      <td>0.000000</td>\n",
       "      <td>0.00</td>\n",
       "    </tr>\n",
       "    <tr>\n",
       "      <th>97</th>\n",
       "      <td>0.97</td>\n",
       "      <td>0.000000</td>\n",
       "      <td>0.00</td>\n",
       "    </tr>\n",
       "    <tr>\n",
       "      <th>98</th>\n",
       "      <td>0.98</td>\n",
       "      <td>0.000000</td>\n",
       "      <td>0.00</td>\n",
       "    </tr>\n",
       "    <tr>\n",
       "      <th>99</th>\n",
       "      <td>0.99</td>\n",
       "      <td>0.000000</td>\n",
       "      <td>0.00</td>\n",
       "    </tr>\n",
       "    <tr>\n",
       "      <th>100</th>\n",
       "      <td>1.00</td>\n",
       "      <td>0.000000</td>\n",
       "      <td>0.00</td>\n",
       "    </tr>\n",
       "  </tbody>\n",
       "</table>\n",
       "<p>68 rows × 3 columns</p>\n",
       "</div>"
      ],
      "text/plain": [
       "     thresh       fpr   tpr\n",
       "33     0.33  0.200000  0.75\n",
       "34     0.34  0.200000  0.70\n",
       "35     0.35  0.200000  0.70\n",
       "36     0.36  0.200000  0.70\n",
       "37     0.37  0.177778  0.70\n",
       "..      ...       ...   ...\n",
       "96     0.96  0.000000  0.00\n",
       "97     0.97  0.000000  0.00\n",
       "98     0.98  0.000000  0.00\n",
       "99     0.99  0.000000  0.00\n",
       "100    1.00  0.000000  0.00\n",
       "\n",
       "[68 rows x 3 columns]"
      ]
     },
     "execution_count": 116,
     "metadata": {},
     "output_type": "execute_result"
    }
   ],
   "source": [
    "def fpr_tpr_thresh(y, pred_prob, thresh):\n",
    "    yhat = 1 * (pred_prob >= thresh)\n",
    "    tn, fp, fn, tp = confusion_matrix(y_true=y, y_pred=yhat).ravel()\n",
    "    tpr = tp / (fn + tp)\n",
    "    fpr = fp / (fp + tn)\n",
    "    return {\"thresh\": thresh, \"fpr\": fpr, \"tpr\": tpr}\n",
    "\n",
    "data = []\n",
    "for i in range(0,101,1):\n",
    "    threshold = i / 100.0\n",
    "    data.append(fpr_tpr_thresh(df_test[\"host_is_superhost\"], df_test[\"predictive_prob\"], threshold))\n",
    "df_scores = pd.DataFrame(data)\n",
    "\n",
    "df_scores[df_scores[\"fpr\"] <= 0.2]"
   ]
  },
  {
   "cell_type": "markdown",
   "metadata": {},
   "source": [
    "A threshold of 0.33 will maximize the true positive rate while having a false positive rate of at most 20%. This predictive probability threshold would yield a fpr of 0.2 and a tpr of 0.75."
   ]
  },
  {
   "cell_type": "markdown",
   "metadata": {},
   "source": [
    "### 4.3. Specificity and Sensitivity\n",
    "\n",
    "What is the specificity and sensitivity of the test dataset classification that you selected in #4.2?"
   ]
  },
  {
   "cell_type": "code",
   "execution_count": 122,
   "metadata": {},
   "outputs": [
    {
     "name": "stdout",
     "output_type": "stream",
     "text": [
      "0.75\n",
      "0.8\n"
     ]
    }
   ],
   "source": [
    "yhat = yhat = 1 * (df_test[\"predictive_prob\"] >= 0.33)\n",
    "tn, fp, fn, tp = confusion_matrix(y_true=df_test[\"host_is_superhost\"], y_pred=yhat).ravel()\n",
    "\n",
    "# sensitivity\n",
    "tpr = tp/(tp+fn)\n",
    "print(tpr)\n",
    "\n",
    "# specificity\n",
    "tnr = tn/(tn+fp)\n",
    "print(tnr)"
   ]
  },
  {
   "cell_type": "markdown",
   "metadata": {},
   "source": [
    "The sensitivity is 75% and the specificity is 80%."
   ]
  },
  {
   "cell_type": "markdown",
   "metadata": {},
   "source": [
    "## 5. Interpreting the Final Logistic Regression Model\n",
    "\n",
    "Finally, let's interpret the final logistic regression model selected in #3.\n",
    "\n",
    "### 5.1. Logistic Regression Equation\n",
    "\n",
    "First, put this final model into a logistic regression equation. Your equation should have the predictive probability on the left hand side. Make sure to use appropriate notation discussed in class."
   ]
  },
  {
   "cell_type": "markdown",
   "metadata": {},
   "source": [
    "$\\widehat{p} = \\dfrac{\n",
    "1\n",
    "}{\n",
    "1 + e^{\\begin{aligned}\n",
    "    &- 0.8159 \\\\\n",
    "    &- 1.1255*neighborhood[T.Broadway]\\\\\n",
    "    &- 0.7605*neighborhood[T.Fremont]\\\\\n",
    "    &- 0.0800*neighborhood[T.Minor]\\\\\n",
    "    &- 0.8508*neighborhood[T.Wallingford]\\\\\n",
    "    &+ 2.0390*review\\_scores\\_rating\\\\\n",
    "    &+ 0.6084*number\\_of\\_reviews\\\\\n",
    "    \\end{aligned}\n",
    "}\n",
    "}$"
   ]
  },
  {
   "cell_type": "markdown",
   "metadata": {},
   "source": [
    "### 5.2. Final Model Multicollinearity\n",
    "\n",
    "Does your final model have an issue with multicollinearity? Explain."
   ]
  },
  {
   "cell_type": "code",
   "execution_count": 124,
   "metadata": {},
   "outputs": [
    {
     "data": {
      "text/html": [
       "<div>\n",
       "<style scoped>\n",
       "    .dataframe tbody tr th:only-of-type {\n",
       "        vertical-align: middle;\n",
       "    }\n",
       "\n",
       "    .dataframe tbody tr th {\n",
       "        vertical-align: top;\n",
       "    }\n",
       "\n",
       "    .dataframe thead th {\n",
       "        text-align: right;\n",
       "    }\n",
       "</style>\n",
       "<table border=\"1\" class=\"dataframe\">\n",
       "  <thead>\n",
       "    <tr style=\"text-align: right;\">\n",
       "      <th></th>\n",
       "      <th>review_scores_rating</th>\n",
       "      <th>number_of_reviews</th>\n",
       "    </tr>\n",
       "  </thead>\n",
       "  <tbody>\n",
       "    <tr>\n",
       "      <th>review_scores_rating</th>\n",
       "      <td>1.000000</td>\n",
       "      <td>0.011342</td>\n",
       "    </tr>\n",
       "    <tr>\n",
       "      <th>number_of_reviews</th>\n",
       "      <td>0.011342</td>\n",
       "      <td>1.000000</td>\n",
       "    </tr>\n",
       "  </tbody>\n",
       "</table>\n",
       "</div>"
      ],
      "text/plain": [
       "                      review_scores_rating  number_of_reviews\n",
       "review_scores_rating              1.000000           0.011342\n",
       "number_of_reviews                 0.011342           1.000000"
      ]
     },
     "execution_count": 124,
     "metadata": {},
     "output_type": "execute_result"
    }
   ],
   "source": [
    "df[[\"review_scores_rating\", \"number_of_reviews\"]].corr()"
   ]
  },
  {
   "cell_type": "markdown",
   "metadata": {},
   "source": [
    "No, there is no multicollinearity between the two numerical explanatory variables."
   ]
  },
  {
   "cell_type": "markdown",
   "metadata": {},
   "source": [
    "### 5.3. Predictive Power\n",
    "\n",
    "Finally, what two explanatory (or indicator) variables are suggested to bring the most predictive power to the final model? Do you have any concerns about making this interpretation?"
   ]
  },
  {
   "cell_type": "markdown",
   "metadata": {},
   "source": [
    "`review_scores_rating`, and `neighborhood[T.Broadway]` bring the most and second most predictive power respectively. I have no concerns making this interpretation because the standard deviations of both are equal, and there is no multicollinearity, so the slope magnitudes can be interpreted literally."
   ]
  },
  {
   "cell_type": "markdown",
   "metadata": {},
   "source": [
    "### 5.4. Overfitting Variables\n",
    "\n",
    "Based on the results of our backwards elimination algorithm, do you have any reason to believe that any of the explanatory variables in the full model were overfitting the model? If so, which one(s)?"
   ]
  },
  {
   "cell_type": "markdown",
   "metadata": {},
   "source": [
    "During the backwards elimination algorithm, `room_type` was eliminated from the final model because it resulted in a lower auc score. This suggests that it was overfitting the model."
   ]
  },
  {
   "cell_type": "markdown",
   "metadata": {},
   "source": [
    "## 💃🥳🕺🎉 Way to go on finishing the last lab!   💃🥳🕺🎉"
   ]
  }
 ],
 "metadata": {
  "kernelspec": {
   "display_name": "Python 3 (ipykernel)",
   "language": "python",
   "name": "python3"
  },
  "language_info": {
   "codemirror_mode": {
    "name": "ipython",
    "version": 3
   },
   "file_extension": ".py",
   "mimetype": "text/x-python",
   "name": "python",
   "nbconvert_exporter": "python",
   "pygments_lexer": "ipython3",
   "version": "3.11.1"
  }
 },
 "nbformat": 4,
 "nbformat_minor": 2
}
