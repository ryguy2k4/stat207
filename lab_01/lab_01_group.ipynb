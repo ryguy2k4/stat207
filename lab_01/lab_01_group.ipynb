{
 "cells": [
  {
   "cell_type": "markdown",
   "metadata": {},
   "source": [
    "# STAT 207 Lab Assignment 1 - Group Part - [5 total points]\n",
    "\n",
    "## Exploring your own dataset!"
   ]
  },
  {
   "cell_type": "markdown",
   "metadata": {},
   "source": [
    "Due: Tuesday, January 23, 11:59pm CST\n",
    "\n",
    "<hr>\n"
   ]
  },
  {
   "cell_type": "markdown",
   "metadata": {},
   "source": [
    "## <u>Purpose</u>:\n",
    "You should try to work in groups of 2-3 on this report. The purpose of this group lab assignment is to download your own dataset that you find interesting and perform some preliminary descriptive analytics on this dataset. Also, you can take this opportunity to get to know some of your classmates! \n",
    "<hr>"
   ]
  },
  {
   "cell_type": "markdown",
   "metadata": {},
   "source": [
    "## <u>Instructions</u>:\n"
   ]
  },
  {
   "cell_type": "code",
   "execution_count": 1,
   "metadata": {},
   "outputs": [],
   "source": [
    "#Run this\n",
    "import pandas as pd                    # imports pandas and calls the imported version 'pd'\n",
    "import matplotlib.pyplot as plt        # imports the package and calls it 'plt'\n",
    "import seaborn as sns                  # imports the seaborn package with the imported name 'sns'\n",
    "sns.set()  "
   ]
  },
  {
   "cell_type": "markdown",
   "metadata": {},
   "source": [
    "### Contribution Report [0.5 pt]\n",
    "These contribution reports should be included in all group lab assignments. In this contribution report below you should list of the following:\n",
    "1. Names of each team member.\n",
    "2. Contributions of each team member to report.\n",
    "\n",
    "*For example:*\n",
    "\n",
    "*<u>Teammates:</u>*\n",
    "\n",
    "*1. Jessica Micklin*\n",
    "\n",
    "*2. Kaylee Cheu*\n",
    "\n",
    "*3. Ryan Sponzilli*"
   ]
  },
  {
   "cell_type": "markdown",
   "metadata": {},
   "source": []
  },
  {
   "cell_type": "markdown",
   "metadata": {},
   "source": [
    "### 1. Load an Interesting Dataset [1.5 pt]\n",
    "\n",
    "1. Go to https://www.kaggle.com/datasets?fileType=csv&sizeStart=0%2CKB&sizeEnd=100%2CKB. Browse through the available datasets and find one that you think is interesting *that has at least one categorical variable*.\n",
    "2. Once you have found and clicked on a dataset you'd like to explore, select \"Download\" to download the csv file.\n",
    "3. On your desktop, move this csv into the same folder that this Jupyter notebook is located in.\n",
    "4. Finally, read this csv file into a pandas dataframe and display the first five rows."
   ]
  },
  {
   "cell_type": "code",
   "execution_count": 5,
   "metadata": {},
   "outputs": [
    {
     "data": {
      "text/html": [
       "<div>\n",
       "<style scoped>\n",
       "    .dataframe tbody tr th:only-of-type {\n",
       "        vertical-align: middle;\n",
       "    }\n",
       "\n",
       "    .dataframe tbody tr th {\n",
       "        vertical-align: top;\n",
       "    }\n",
       "\n",
       "    .dataframe thead th {\n",
       "        text-align: right;\n",
       "    }\n",
       "</style>\n",
       "<table border=\"1\" class=\"dataframe\">\n",
       "  <thead>\n",
       "    <tr style=\"text-align: right;\">\n",
       "      <th></th>\n",
       "      <th>population_2024</th>\n",
       "      <th>population_growthRate</th>\n",
       "      <th>land_area</th>\n",
       "      <th>country</th>\n",
       "      <th>region</th>\n",
       "      <th>unMember</th>\n",
       "      <th>population_density</th>\n",
       "      <th>population_densityMi</th>\n",
       "      <th>share_borders</th>\n",
       "      <th>Hdi2021</th>\n",
       "      <th>Hdi2020</th>\n",
       "      <th>WorldHappiness2022</th>\n",
       "    </tr>\n",
       "  </thead>\n",
       "  <tbody>\n",
       "    <tr>\n",
       "      <th>0</th>\n",
       "      <td>1441719852</td>\n",
       "      <td>0.00916</td>\n",
       "      <td>3287590</td>\n",
       "      <td>India</td>\n",
       "      <td>Asia</td>\n",
       "      <td>True</td>\n",
       "      <td>484.9067</td>\n",
       "      <td>1255.9084</td>\n",
       "      <td>AFG, BGD, BTN, MMR, CHN, NPL, PAK, LKA</td>\n",
       "      <td>0.633</td>\n",
       "      <td>0.642</td>\n",
       "      <td>3.777</td>\n",
       "    </tr>\n",
       "    <tr>\n",
       "      <th>1</th>\n",
       "      <td>1425178782</td>\n",
       "      <td>-0.00035</td>\n",
       "      <td>9706961</td>\n",
       "      <td>China</td>\n",
       "      <td>Asia</td>\n",
       "      <td>True</td>\n",
       "      <td>151.2174</td>\n",
       "      <td>391.6530</td>\n",
       "      <td>AFG, BTN, MMR, HKG, IND, KAZ, PRK, KGZ, LAO, M...</td>\n",
       "      <td>0.768</td>\n",
       "      <td>0.764</td>\n",
       "      <td>5.585</td>\n",
       "    </tr>\n",
       "    <tr>\n",
       "      <th>2</th>\n",
       "      <td>341814420</td>\n",
       "      <td>0.00535</td>\n",
       "      <td>9372610</td>\n",
       "      <td>United States</td>\n",
       "      <td>North America</td>\n",
       "      <td>True</td>\n",
       "      <td>37.3673</td>\n",
       "      <td>96.7813</td>\n",
       "      <td>CAN, MEX</td>\n",
       "      <td>0.921</td>\n",
       "      <td>0.920</td>\n",
       "      <td>6.977</td>\n",
       "    </tr>\n",
       "    <tr>\n",
       "      <th>3</th>\n",
       "      <td>279798049</td>\n",
       "      <td>0.00816</td>\n",
       "      <td>1904569</td>\n",
       "      <td>Indonesia</td>\n",
       "      <td>Asia</td>\n",
       "      <td>True</td>\n",
       "      <td>149.0254</td>\n",
       "      <td>385.9758</td>\n",
       "      <td>TLS, MYS, PNG</td>\n",
       "      <td>0.705</td>\n",
       "      <td>0.709</td>\n",
       "      <td>5.240</td>\n",
       "    </tr>\n",
       "    <tr>\n",
       "      <th>4</th>\n",
       "      <td>245209815</td>\n",
       "      <td>0.01964</td>\n",
       "      <td>881912</td>\n",
       "      <td>Pakistan</td>\n",
       "      <td>Asia</td>\n",
       "      <td>True</td>\n",
       "      <td>318.0908</td>\n",
       "      <td>823.8551</td>\n",
       "      <td>AFG, CHN, IND, IRN</td>\n",
       "      <td>0.544</td>\n",
       "      <td>0.543</td>\n",
       "      <td>4.516</td>\n",
       "    </tr>\n",
       "    <tr>\n",
       "      <th>...</th>\n",
       "      <td>...</td>\n",
       "      <td>...</td>\n",
       "      <td>...</td>\n",
       "      <td>...</td>\n",
       "      <td>...</td>\n",
       "      <td>...</td>\n",
       "      <td>...</td>\n",
       "      <td>...</td>\n",
       "      <td>...</td>\n",
       "      <td>...</td>\n",
       "      <td>...</td>\n",
       "      <td>...</td>\n",
       "    </tr>\n",
       "    <tr>\n",
       "      <th>136</th>\n",
       "      <td>867605</td>\n",
       "      <td>0.01823</td>\n",
       "      <td>1862</td>\n",
       "      <td>Comoros</td>\n",
       "      <td>Africa</td>\n",
       "      <td>True</td>\n",
       "      <td>466.2037</td>\n",
       "      <td>1207.4675</td>\n",
       "      <td>NaN</td>\n",
       "      <td>0.558</td>\n",
       "      <td>0.562</td>\n",
       "      <td>4.609</td>\n",
       "    </tr>\n",
       "    <tr>\n",
       "      <th>137</th>\n",
       "      <td>661594</td>\n",
       "      <td>0.01043</td>\n",
       "      <td>2586</td>\n",
       "      <td>Luxembourg</td>\n",
       "      <td>Europe</td>\n",
       "      <td>True</td>\n",
       "      <td>256.9796</td>\n",
       "      <td>665.5772</td>\n",
       "      <td>BEL, FRA, DEU</td>\n",
       "      <td>0.930</td>\n",
       "      <td>0.924</td>\n",
       "      <td>7.404</td>\n",
       "    </tr>\n",
       "    <tr>\n",
       "      <th>138</th>\n",
       "      <td>626102</td>\n",
       "      <td>-0.00061</td>\n",
       "      <td>13812</td>\n",
       "      <td>Montenegro</td>\n",
       "      <td>Europe</td>\n",
       "      <td>True</td>\n",
       "      <td>46.5503</td>\n",
       "      <td>120.5654</td>\n",
       "      <td>ALB, BIH, HRV, KOS, SRB</td>\n",
       "      <td>0.832</td>\n",
       "      <td>0.826</td>\n",
       "      <td>5.547</td>\n",
       "    </tr>\n",
       "    <tr>\n",
       "      <th>139</th>\n",
       "      <td>536740</td>\n",
       "      <td>0.00313</td>\n",
       "      <td>316</td>\n",
       "      <td>Malta</td>\n",
       "      <td>Europe</td>\n",
       "      <td>True</td>\n",
       "      <td>1677.3125</td>\n",
       "      <td>4344.2394</td>\n",
       "      <td>NaN</td>\n",
       "      <td>0.918</td>\n",
       "      <td>0.911</td>\n",
       "      <td>6.447</td>\n",
       "    </tr>\n",
       "    <tr>\n",
       "      <th>140</th>\n",
       "      <td>377689</td>\n",
       "      <td>0.00632</td>\n",
       "      <td>103000</td>\n",
       "      <td>Iceland</td>\n",
       "      <td>Europe</td>\n",
       "      <td>True</td>\n",
       "      <td>3.7458</td>\n",
       "      <td>9.7016</td>\n",
       "      <td>NaN</td>\n",
       "      <td>0.959</td>\n",
       "      <td>0.957</td>\n",
       "      <td>7.557</td>\n",
       "    </tr>\n",
       "  </tbody>\n",
       "</table>\n",
       "<p>141 rows × 12 columns</p>\n",
       "</div>"
      ],
      "text/plain": [
       "     population_2024  population_growthRate  land_area        country  \\\n",
       "0         1441719852                0.00916    3287590          India   \n",
       "1         1425178782               -0.00035    9706961          China   \n",
       "2          341814420                0.00535    9372610  United States   \n",
       "3          279798049                0.00816    1904569      Indonesia   \n",
       "4          245209815                0.01964     881912       Pakistan   \n",
       "..               ...                    ...        ...            ...   \n",
       "136           867605                0.01823       1862        Comoros   \n",
       "137           661594                0.01043       2586     Luxembourg   \n",
       "138           626102               -0.00061      13812     Montenegro   \n",
       "139           536740                0.00313        316          Malta   \n",
       "140           377689                0.00632     103000        Iceland   \n",
       "\n",
       "            region  unMember  population_density  population_densityMi  \\\n",
       "0             Asia      True            484.9067             1255.9084   \n",
       "1             Asia      True            151.2174              391.6530   \n",
       "2    North America      True             37.3673               96.7813   \n",
       "3             Asia      True            149.0254              385.9758   \n",
       "4             Asia      True            318.0908              823.8551   \n",
       "..             ...       ...                 ...                   ...   \n",
       "136         Africa      True            466.2037             1207.4675   \n",
       "137         Europe      True            256.9796              665.5772   \n",
       "138         Europe      True             46.5503              120.5654   \n",
       "139         Europe      True           1677.3125             4344.2394   \n",
       "140         Europe      True              3.7458                9.7016   \n",
       "\n",
       "                                         share_borders  Hdi2021  Hdi2020  \\\n",
       "0               AFG, BGD, BTN, MMR, CHN, NPL, PAK, LKA    0.633    0.642   \n",
       "1    AFG, BTN, MMR, HKG, IND, KAZ, PRK, KGZ, LAO, M...    0.768    0.764   \n",
       "2                                             CAN, MEX    0.921    0.920   \n",
       "3                                        TLS, MYS, PNG    0.705    0.709   \n",
       "4                                   AFG, CHN, IND, IRN    0.544    0.543   \n",
       "..                                                 ...      ...      ...   \n",
       "136                                                NaN    0.558    0.562   \n",
       "137                                      BEL, FRA, DEU    0.930    0.924   \n",
       "138                            ALB, BIH, HRV, KOS, SRB    0.832    0.826   \n",
       "139                                                NaN    0.918    0.911   \n",
       "140                                                NaN    0.959    0.957   \n",
       "\n",
       "     WorldHappiness2022  \n",
       "0                 3.777  \n",
       "1                 5.585  \n",
       "2                 6.977  \n",
       "3                 5.240  \n",
       "4                 4.516  \n",
       "..                  ...  \n",
       "136               4.609  \n",
       "137               7.404  \n",
       "138               5.547  \n",
       "139               6.447  \n",
       "140               7.557  \n",
       "\n",
       "[141 rows x 12 columns]"
      ]
     },
     "execution_count": 5,
     "metadata": {},
     "output_type": "execute_result"
    }
   ],
   "source": [
    "df = pd.read_csv(\"best-countries-to-live-in-2024.csv\")\n",
    "df"
   ]
  },
  {
   "cell_type": "markdown",
   "metadata": {},
   "source": [
    "### 2. Give the link for the dataset that you downloaded. [0.5 pts]"
   ]
  },
  {
   "cell_type": "markdown",
   "metadata": {},
   "source": [
    "https://www.kaggle.com/datasets/rafsunahmad/best-country-to-live-in-2024?resource=download"
   ]
  },
  {
   "cell_type": "markdown",
   "metadata": {},
   "source": [
    "### 3. What does a row in this dataframe represent? [0.5 pt]"
   ]
  },
  {
   "cell_type": "markdown",
   "metadata": {},
   "source": [
    "A country"
   ]
  },
  {
   "cell_type": "markdown",
   "metadata": {},
   "source": [
    "### 4. Select a categorical variable from this dataset and create a barplot that shows the *counts* for each level of this categorical variable. [1 pt]"
   ]
  },
  {
   "cell_type": "code",
   "execution_count": 10,
   "metadata": {},
   "outputs": [
    {
     "data": {
      "text/plain": [
       "<Axes: xlabel='region', ylabel='count'>"
      ]
     },
     "execution_count": 10,
     "metadata": {},
     "output_type": "execute_result"
    },
    {
     "data": {
      "image/png": "[encoded data removed]",
      "text/plain": [
       "<Figure size 640x480 with 1 Axes>"
      ]
     },
     "metadata": {},
     "output_type": "display_data"
    }
   ],
   "source": [
    "region_counts = df[\"region\"].value_counts()\n",
    "region_counts\n",
    "sns.barplot(x=region_counts.index,y=region_counts)"
   ]
  },
  {
   "cell_type": "markdown",
   "metadata": {},
   "source": [
    "### 5. Show this plot to someone *not* on your team. Ask them if they find this plot clear and are able to quickly determine what this plot represents.\n",
    "\n",
    "### Below, write down at least one idea for how you could make this plot more clear or visually appealling. [1 pt]\n",
    "\n",
    "X-axis label spacing; it is hard to differentiate the first three columns"
   ]
  },
  {
   "cell_type": "markdown",
   "metadata": {},
   "source": [
    "One issue is that this plot does not clearly display the country names. Therefore, we are unable to see which country has the most amount of Ramen reviews in this dataset. It would be great if we could either: rotate the x-axis labels, or possibly shrink the text, or make the plot wider so we are able to clearly see the x-axis labels."
   ]
  },
  {
   "cell_type": "code",
   "execution_count": 9,
   "metadata": {},
   "outputs": [
    {
     "data": {
      "text/plain": [
       "([0, 1, 2, 3, 4, 5],\n",
       " [Text(0, 0, 'Africa'),\n",
       "  Text(1, 0, 'Europe'),\n",
       "  Text(2, 0, 'Asia'),\n",
       "  Text(3, 0, 'North America'),\n",
       "  Text(4, 0, 'South America'),\n",
       "  Text(5, 0, 'Oceania')])"
      ]
     },
     "execution_count": 9,
     "metadata": {},
     "output_type": "execute_result"
    },
    {
     "data": {
      "image/png": "[encoded data removed]",
      "text/plain": [
       "<Figure size 640x480 with 1 Axes>"
      ]
     },
     "metadata": {},
     "output_type": "display_data"
    }
   ],
   "source": [
    "sns.barplot(x=region_counts.index,y=region_counts)\n",
    "plt.xticks(rotation = 90)"
   ]
  },
  {
   "cell_type": "markdown",
   "metadata": {},
   "source": [
    "## Bonus\n",
    "\n",
    "1. **Wednesday Lab Selfie [+1/2 points]**: Find one thing that you have in common with your Wednesday lab TA (or CA) and then take a group selfie with them! Put this picture in your `lab_01` folder that you push to your netid repository."
   ]
  }
 ],
 "metadata": {
  "kernelspec": {
   "display_name": "Python 3 (ipykernel)",
   "language": "python",
   "name": "python3"
  },
  "language_info": {
   "codemirror_mode": {
    "name": "ipython",
    "version": 3
   },
   "file_extension": ".py",
   "mimetype": "text/x-python",
   "name": "python",
   "nbconvert_exporter": "python",
   "pygments_lexer": "ipython3",
   "version": "3.11.1"
  }
 },
 "nbformat": 4,
 "nbformat_minor": 2
}
