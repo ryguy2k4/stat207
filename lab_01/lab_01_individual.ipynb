{
 "cells": [
  {
   "cell_type": "markdown",
   "metadata": {},
   "source": [
    "# STAT 207 Lab Assignment 1 - Individual Part - [25 total points]\n",
    "\n",
    "## Python with Jupyter Notebooks "
   ]
  },
  {
   "cell_type": "markdown",
   "metadata": {},
   "source": [
    "Due: Tuesday, January 23, 11:59pm CST\n",
    "<hr>"
   ]
  },
  {
   "cell_type": "markdown",
   "metadata": {},
   "source": [
    "## <u>Purpose</u>:\n",
    "The purpose of this individual lab assignment is to verify that you have successfully installed and set up all of the necessary data science applications that we will be using in this class. We will also practice some basic dataframe summarization functions as well as visualize of a `single categorical variable`.\n",
    "\n",
    "## <u>Case Study</u>: Learning More about Billionaires\n",
    "\n",
    "In this case study we will explore the list of all the world's billionaires from 2021 https://www.forbes.com/real-time-billionaires/#49c85f6e3d78. We will use this dataset to answer the following research questions.\n",
    "\n",
    "### Research Questions\n",
    "\n",
    "1. How many billionaires inherited their wealth in 2021 vs. those that did not? \n",
    "2. What are the most common industries that 2021 billionaires derived their wealth from?\n",
    "\n",
    "\n",
    "\n",
    "<hr>"
   ]
  },
  {
   "cell_type": "markdown",
   "metadata": {},
   "source": [
    "## <u>Instructions</u>:\n",
    "\n",
    "### Part 0. [3 pts for completing the \"Getting to Know you Survey\" on Canvas]\n",
    "\n",
    "Complete it here.\n",
    "https://canvas.illinois.edu/courses/44397/quizzes/308128\n",
    "\n",
    "### Part 1. [5 pts for successfully submitting this notebook to Github]\n",
    "\n",
    "Make sure you have the following packages installed for Python on your computer: pandas, matplotlib.pyplot, seaborn.\n",
    "To install them, launch a **command line window** and issue commands of the form:\n",
    "\n",
    "    conda install *package_name_here*\n",
    "    \n",
    "To check if they are installed issue the command:\n",
    "\n",
    "    conda list\n",
    "    \n",
    "and look through the list to make sure the packages you need are there. When done, return to this notebook."
   ]
  },
  {
   "cell_type": "markdown",
   "metadata": {},
   "source": [
    "### Part 2. Imports [4 points for getting the code below to run]\n",
    "\n",
    "After ensuring that the packages listed above are installed on your computer import them here in the notebook by running the following commands. You should be able to do this by clicking anywhere inside the cell to select it and then hitting the 'Run' button in the menu at the top of this page."
   ]
  },
  {
   "cell_type": "code",
   "execution_count": 1,
   "metadata": {},
   "outputs": [],
   "source": [
    "import pandas as pd                    # imports pandas and calls the imported version 'pd'\n",
    "import matplotlib.pyplot as plt        # imports the package and calls it 'plt'\n",
    "import seaborn as sns                  # imports the seaborn package with the imported name 'sns'\n",
    "sns.set()                              # sets the default plotting style"
   ]
  },
  {
   "cell_type": "markdown",
   "metadata": {},
   "source": [
    "### Part 3. Basic Display of the Dataset\n",
    "\n",
    "**a)** [3 points] You should have a file `billionaire_2021_demographic.csv` in the same folder as this notebook. Read the file into a pandas data frame. You may call it `df` or whatever you like. As illustrated in the class notes, use the **.head()** function to display the first several lines of the data frame. "
   ]
  },
  {
   "cell_type": "code",
   "execution_count": null,
   "metadata": {},
   "outputs": [],
   "source": []
  },
  {
   "cell_type": "markdown",
   "metadata": {},
   "source": [
    "**b)** [1 point] Use **.shape** to determine how many observations (rows) there are."
   ]
  },
  {
   "cell_type": "code",
   "execution_count": null,
   "metadata": {},
   "outputs": [],
   "source": []
  },
  {
   "cell_type": "markdown",
   "metadata": {},
   "source": [
    "### Part 4. Inherited Wealth of Billionaires\n",
    "\n",
    "The data contains several variables describing each of the billionaires in the dataframe. The final column, `wealth_how_inherited`, indicates whether or not the billionaire's wealth was inherited. If the wealth was inherited, it indicates who the wealth was inherited from ('father', 'spouse/widow', etc).\n",
    "\n",
    "**a)** [3 points] Using python commands in the cell below, determine how many billionaires in this dataset correspond to each inheritence type (ie. 'not inherited', 'father', etc).\n",
    "\n",
    "**For full credit, you must do this in one line of code**."
   ]
  },
  {
   "cell_type": "code",
   "execution_count": null,
   "metadata": {},
   "outputs": [],
   "source": []
  },
  {
   "cell_type": "markdown",
   "metadata": {},
   "source": [
    "### Part 5. Industry of Billionaires\n",
    "\n",
    "The 7th column, `Industry` lists what industry the billionaire derives their income from.\n",
    "\n",
    "#### a) Counts [1 points]\n",
    "\n",
    " Using python commands in the cell below, determine how many billionaires are affiliated with each industry.\n",
    "\n",
    "**For full credit, you must do this in one line of code**."
   ]
  },
  {
   "cell_type": "code",
   "execution_count": null,
   "metadata": {},
   "outputs": [],
   "source": []
  },
  {
   "cell_type": "markdown",
   "metadata": {},
   "source": [
    "#### b.) Basic Barplot [3 points]\n",
    "Using python commands in the cell below, make a barplot that shows the `counts` of how many billionaires correspond to each `Industry`.\n",
    "\n",
    "Be sure to include:\n",
    "* a title\n",
    "* an appropriate label for your x-axis\n",
    "* an appropriate label for your y-axis."
   ]
  },
  {
   "cell_type": "code",
   "execution_count": null,
   "metadata": {},
   "outputs": [],
   "source": []
  },
  {
   "cell_type": "markdown",
   "metadata": {},
   "source": [
    "#### c.) Plot Labels Rotation [1 points]\n",
    "Most likely you were unable to to see the labels on the x-axis in your plot above. Run the same code that you have in 5b below, but add the following line of code just above the **plt.show()** line.\n",
    "\n",
    "```plt.xticks(rotation = 90)```\n",
    "\n",
    "This will rotate your x-axis labels by 90 degrees.\n"
   ]
  },
  {
   "cell_type": "code",
   "execution_count": null,
   "metadata": {},
   "outputs": [],
   "source": []
  },
  {
   "cell_type": "markdown",
   "metadata": {},
   "source": [
    "#### d) Figure Resizing [1 points]\n",
    "Let's try making our plot a little larger.\n",
    "\n",
    "Run the same code that you have in 5c below, but add the following line of code *right before you start using any plotting related functions*.\n",
    "\n",
    "```plt.figure(figsize=(15,10))```\n",
    "\n",
    "The **plt.figure()** function tells Matplotlib to create a \"blank canvas\" for a new figure that you can build upon and add things to in the subsequent lines of code below it (before the *plt.show()* is run). The **figsize=(15,10)** parameter that we set within this function will create a figure with a width of 15\" and a height of 10\".\n",
    "\n"
   ]
  },
  {
   "cell_type": "code",
   "execution_count": null,
   "metadata": {},
   "outputs": [],
   "source": []
  },
  {
   "cell_type": "markdown",
   "metadata": {},
   "source": [
    "### Important Tip when Coding in Jupyter Notebooks\n",
    "\n",
    "Remember to keep all your cells and hit the save icon above periodically to checkpoint (save) your results on your local computer. Once you are satisified with your results restart the kernel and run all. **Make sure nothing has changed**. Checkpoint and exit. Follow the git submit instructions to submit your notebook."
   ]
  },
  {
   "cell_type": "markdown",
   "metadata": {},
   "source": [
    "## Bonus\n",
    "\n",
    "1. **Open Lab Selfie [+1/2 points]**: Go to one of the Monday or Tuesday open labs this week. Find something in common that you have with one of the open lab CAs and take a selfie with them! Put this picture in your `lab_01` folder that you push to your netid repository.\n",
    "2. **Office Hours Selfie [+1/2 points]**: Go to one of the Dr. Ellison's office hours this week and take a \"selfie\" (ie. screen shot)! I might ask you one of the \"Getting to Know you Survey Questions\". Put this picture in your `lab_01` folder that you push to your netid repository."
   ]
  }
 ],
 "metadata": {
  "kernelspec": {
   "display_name": "Python 3 (ipykernel)",
   "language": "python",
   "name": "python3"
  },
  "language_info": {
   "codemirror_mode": {
    "name": "ipython",
    "version": 3
   },
   "file_extension": ".py",
   "mimetype": "text/x-python",
   "name": "python",
   "nbconvert_exporter": "python",
   "pygments_lexer": "ipython3",
   "version": "3.9.12"
  }
 },
 "nbformat": 4,
 "nbformat_minor": 2
}
