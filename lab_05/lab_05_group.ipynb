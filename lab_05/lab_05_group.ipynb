{
 "cells": [
  {
   "cell_type": "markdown",
   "metadata": {},
   "source": [
    "# STAT 207 Lab Assignment 5 - Group Part\n"
   ]
  },
  {
   "cell_type": "markdown",
   "metadata": {},
   "source": [
    "## <u>Case Study</u>: Exploring the Predictive Power of Explanatory Variables\n",
    "\n",
    "\n",
    "\n",
    "### Coffee Dataset Information\n",
    "\n",
    "In this individual assignment we will return to the `coffee_top_varieties.csv` dataset. Information about the variables in this dataset can be found here: https://corgis-edu.github.io/corgis/csv/coffee/ Just like in Lab 3, we have pre-filtered for just the most popular varieties of coffee found in the original dataset.\n",
    "\n",
    "\n",
    "### Linear Regression Model\n",
    "\n",
    "We intend to build linear regression models that will predict the `Aroma` of coffee brands *in this dataset* given the following explanatory variables.\n",
    "\n",
    "* `Aroma`\n",
    "* `Aftertaste`\n",
    "* `Acidity`\n",
    "* `Body`\n",
    "* `Balance`\n",
    "* `Uniformity`\n",
    "* `Sweetness`\n",
    "* `Moisture`\n",
    "* `Color`\n",
    "* `Variety`\n",
    "\n",
    "\n",
    "### Research Questions\n",
    "\n",
    "In this group assignment we would like to answer the following questions about the coffee brands in the *entire dataset*.\n",
    "\n",
    "1. Which explanatory variable in this list brings the most amount of predictive power to the model *by itself*?\n",
    "2. Which explanatory variable in this list brings the second most amount of predictive power to the model *in addition to the variable that brings the most power*?\n",
    "3. In the presence of ALL of the available explanatory variables, which explanatory variable brings the *least* amount of predictive power to the model?\n",
    "\n",
    "\n",
    "<p>&nbsp;</p>\n",
    "<table style=\"border: none;border-collapse: collapse;width:102pt;\">\n",
    "    <tbody>\n",
    "        <tr>\n",
    "            <td style=\"color:black;font-size:15px;font-weight:700;font-style:normal;text-decoration:none;font-family:Calibri, sans-serif;text-align:general;vertical-align:bottom;border:.5pt solid windowtext;height:14.25pt;width:51pt;\">Problem</td>\n",
    "            <td style=\"color:black;font-size:15px;font-weight:700;font-style:normal;text-decoration:none;font-family:Calibri, sans-serif;text-align:general;vertical-align:bottom;border:.5pt solid windowtext;border-left:none;width:51pt;\">Points</td>\n",
    "        </tr>\n",
    "        <tr>\n",
    "            <td style=\"color:black;font-size:15px;font-weight:400;font-style:normal;text-decoration:none;font-family:Calibri, sans-serif;text-align:right;vertical-align:bottom;border:.5pt solid windowtext;height:14.25pt;border-top:none;\">1.1</td>\n",
    "            <td style=\"color:black;font-size:15px;font-weight:400;font-style:normal;text-decoration:none;font-family:Calibri, sans-serif;text-align:right;vertical-align:bottom;border:.5pt solid windowtext;border-top:none;border-left:none;\">0.25</td>\n",
    "        </tr>\n",
    "        <tr>\n",
    "            <td style=\"color:black;font-size:15px;font-weight:400;font-style:normal;text-decoration:none;font-family:Calibri, sans-serif;text-align:right;vertical-align:bottom;border:.5pt solid windowtext;height:14.25pt;border-top:none;\">1.2</td>\n",
    "            <td style=\"color:black;font-size:15px;font-weight:400;font-style:normal;text-decoration:none;font-family:Calibri, sans-serif;text-align:right;vertical-align:bottom;border:.5pt solid windowtext;border-top:none;border-left:none;\">0.25</td>\n",
    "        </tr>\n",
    "        <tr>\n",
    "            <td style=\"color:black;font-size:15px;font-weight:400;font-style:normal;text-decoration:none;font-family:Calibri, sans-serif;text-align:right;vertical-align:bottom;border:.5pt solid windowtext;height:14.25pt;border-top:none;\">1.3</td>\n",
    "            <td style=\"color:black;font-size:15px;font-weight:400;font-style:normal;text-decoration:none;font-family:Calibri, sans-serif;text-align:right;vertical-align:bottom;border:.5pt solid windowtext;border-top:none;border-left:none;\">0.5</td>\n",
    "        </tr>\n",
    "        <tr>\n",
    "            <td style=\"color:black;font-size:15px;font-weight:400;font-style:normal;text-decoration:none;font-family:Calibri, sans-serif;text-align:right;vertical-align:bottom;border:.5pt solid windowtext;height:14.25pt;border-top:none;\">1.4</td>\n",
    "            <td style=\"color:black;font-size:15px;font-weight:400;font-style:normal;text-decoration:none;font-family:Calibri, sans-serif;text-align:right;vertical-align:bottom;border:.5pt solid windowtext;border-top:none;border-left:none;\">0.5</td>\n",
    "        </tr>\n",
    "        <tr>\n",
    "            <td style=\"color:black;font-size:15px;font-weight:400;font-style:normal;text-decoration:none;font-family:Calibri, sans-serif;text-align:right;vertical-align:bottom;border:.5pt solid windowtext;height:14.25pt;border-top:none;\">2.1</td>\n",
    "            <td style=\"color:black;font-size:15px;font-weight:400;font-style:normal;text-decoration:none;font-family:Calibri, sans-serif;text-align:right;vertical-align:bottom;border:.5pt solid windowtext;border-top:none;border-left:none;\">1</td>\n",
    "        </tr>\n",
    "        <tr>\n",
    "            <td style=\"color:black;font-size:15px;font-weight:400;font-style:normal;text-decoration:none;font-family:Calibri, sans-serif;text-align:right;vertical-align:bottom;border:.5pt solid windowtext;height:14.25pt;border-top:none;\">2.2</td>\n",
    "            <td style=\"color:black;font-size:15px;font-weight:400;font-style:normal;text-decoration:none;font-family:Calibri, sans-serif;text-align:right;vertical-align:bottom;border:.5pt solid windowtext;border-top:none;border-left:none;\">0.5</td>\n",
    "        </tr>\n",
    "        <tr>\n",
    "            <td style=\"color:black;font-size:15px;font-weight:400;font-style:normal;text-decoration:none;font-family:Calibri, sans-serif;text-align:right;vertical-align:bottom;border:.5pt solid windowtext;height:14.25pt;border-top:none;\">3.1</td>\n",
    "            <td style=\"color:black;font-size:15px;font-weight:400;font-style:normal;text-decoration:none;font-family:Calibri, sans-serif;text-align:right;vertical-align:bottom;border:.5pt solid windowtext;border-top:none;border-left:none;\">1</td>\n",
    "        </tr>\n",
    "        <tr>\n",
    "            <td style=\"color:black;font-size:15px;font-weight:400;font-style:normal;text-decoration:none;font-family:Calibri, sans-serif;text-align:right;vertical-align:bottom;border:.5pt solid windowtext;height:14.25pt;border-top:none;\">3.2</td>\n",
    "            <td style=\"color:black;font-size:15px;font-weight:400;font-style:normal;text-decoration:none;font-family:Calibri, sans-serif;text-align:right;vertical-align:bottom;border:.5pt solid windowtext;border-top:none;border-left:none;\">0.5</td>\n",
    "        </tr>\n",
    "        <tr>\n",
    "            <td style=\"color:black;font-size:15px;font-weight:400;font-style:normal;text-decoration:none;font-family:Calibri, sans-serif;text-align:right;vertical-align:bottom;border:.5pt solid windowtext;height:14.25pt;border-top:none;\">4.1</td>\n",
    "            <td style=\"color:black;font-size:15px;font-weight:400;font-style:normal;text-decoration:none;font-family:Calibri, sans-serif;text-align:right;vertical-align:bottom;border:.5pt solid windowtext;border-top:none;border-left:none;\">1</td>\n",
    "        </tr>\n",
    "        <tr>\n",
    "            <td style=\"color:black;font-size:15px;font-weight:400;font-style:normal;text-decoration:none;font-family:Calibri, sans-serif;text-align:right;vertical-align:bottom;border:.5pt solid windowtext;height:14.25pt;border-top:none;\">4.2</td>\n",
    "            <td style=\"color:black;font-size:15px;font-weight:400;font-style:normal;text-decoration:none;font-family:Calibri, sans-serif;text-align:right;vertical-align:bottom;border:.5pt solid windowtext;border-top:none;border-left:none;\">0.5</td>\n",
    "        </tr>\n",
    "        <tr>\n",
    "            <td style=\"color:black;font-size:15px;font-weight:400;font-style:normal;text-decoration:none;font-family:Calibri, sans-serif;text-align:general;vertical-align:bottom;border:.5pt solid windowtext;background:#E7E6E6;height:14.25pt;border-top:none;\">Total</td>\n",
    "            <td style=\"color:black;font-size:15px;font-weight:400;font-style:normal;text-decoration:none;font-family:Calibri, sans-serif;text-align:right;vertical-align:bottom;border:.5pt solid windowtext;background:#E7E6E6;border-top:none;border-left:none;\">6</td>\n",
    "        </tr>\n",
    "    </tbody>\n",
    "</table>\n"
   ]
  },
  {
   "cell_type": "code",
   "execution_count": null,
   "metadata": {},
   "outputs": [],
   "source": []
  },
  {
   "cell_type": "markdown",
   "metadata": {},
   "source": [
    "## 1. Coffee Dataset\n",
    "\n",
    "### 1.1. Reading the csv\n",
    "\n",
    "1. Read the `coffee_top_varieties.csv` into a dataframe. The strings that are used to represent missing values **in the intended numerical colums** in this csv file are represented with 'nan'. Luckily, 'nan' is one of the string values that the **pd.read_csv()** function is automatically programmed to detect as a missing value and thus convert into a NaN type object.\n",
    "2. Show the first 5 rows.\n",
    "3. Show how many rows this dataframe has."
   ]
  },
  {
   "cell_type": "code",
   "execution_count": null,
   "metadata": {},
   "outputs": [],
   "source": []
  },
  {
   "cell_type": "code",
   "execution_count": null,
   "metadata": {
    "scrolled": true
   },
   "outputs": [],
   "source": []
  },
  {
   "cell_type": "markdown",
   "metadata": {},
   "source": [
    "### 1.2. Dropping NaN Values\n",
    "\n",
    "We only intend to use the `Aroma`, `Flavor`, `Aftertaste`, `Acidity`, `Body`, `Balance`, `Uniformity`, `Sweetness`, `Moisture`, `Color`, and `Species` variables in this dataframe.\n",
    "\n",
    "1. Create a dataframe with just these variables.\n",
    "2. Then drop all rows from this dataframe that have a NaN value.\n",
    "3. How many rows did you drop?"
   ]
  },
  {
   "cell_type": "code",
   "execution_count": null,
   "metadata": {},
   "outputs": [],
   "source": []
  },
  {
   "cell_type": "code",
   "execution_count": null,
   "metadata": {},
   "outputs": [],
   "source": []
  },
  {
   "cell_type": "code",
   "execution_count": null,
   "metadata": {},
   "outputs": [],
   "source": []
  },
  {
   "cell_type": "code",
   "execution_count": null,
   "metadata": {},
   "outputs": [],
   "source": []
  },
  {
   "cell_type": "code",
   "execution_count": null,
   "metadata": {},
   "outputs": [],
   "source": []
  },
  {
   "cell_type": "code",
   "execution_count": null,
   "metadata": {},
   "outputs": [],
   "source": []
  },
  {
   "cell_type": "code",
   "execution_count": null,
   "metadata": {},
   "outputs": [],
   "source": []
  },
  {
   "cell_type": "markdown",
   "metadata": {},
   "source": [
    "### 1.3. Dropping Three Large Outliers\n",
    "\n",
    "This dataset has three prominent outliers.\n",
    "* Two of these outliers are characterized by having dramatically low `Aroma` values that are less than 5.5. \n",
    "* One of these outliers is characterized by having a dramatically low `Acidity` value that is less than 5.5. \n",
    "\n",
    "\n",
    "Drop these three outliers."
   ]
  },
  {
   "cell_type": "code",
   "execution_count": null,
   "metadata": {},
   "outputs": [],
   "source": []
  },
  {
   "cell_type": "markdown",
   "metadata": {},
   "source": [
    "### 1.4. Implicit Missing Values in the Categorical Variables\n",
    "\n",
    "1. Do you have any reason to believe that there are some implicit missing values in the categorical variables that we intend to use?\n",
    "2. If so, drop all rows that have these missing values."
   ]
  },
  {
   "cell_type": "code",
   "execution_count": null,
   "metadata": {},
   "outputs": [],
   "source": []
  },
  {
   "cell_type": "code",
   "execution_count": null,
   "metadata": {},
   "outputs": [],
   "source": []
  },
  {
   "cell_type": "code",
   "execution_count": null,
   "metadata": {},
   "outputs": [],
   "source": []
  },
  {
   "cell_type": "markdown",
   "metadata": {},
   "source": [
    "## 2. <u>Research Question</u>: Most Independent Predictive Power\n",
    "\n",
    "We would first like to answer the following research question using the *full dataset*.\n",
    "\n",
    "`Which explanatory variable in this list brings the most amount of predictive power to the model by itself?`\n",
    "\n",
    "### 2.1. 10 Candidate Models\n",
    "\n",
    "Create 10 simple linear regression candidate models.\n",
    "\n",
    "* One that predicts `Aroma` with `Flavor`\n",
    "* One that predicts `Aroma` with `Aftertaste`\n",
    "* One that predicts `Aroma` with `Acidity`\n",
    "* One that predicts `Aroma` with`Body`\n",
    "* One that predicts `Aroma` with `Balance`\n",
    "* One that predicts `Aroma` with `Uniformity`\n",
    "* One that predicts `Aroma` with `Sweetness`\n",
    "* One that predicts `Aroma` with `Moisture`\n",
    "* One that predicts `Aroma` with `Color`\n",
    "* One that predicts `Aroma` with `Variety`\n",
    "\n",
    "Calculate/show the R^2 for each of these models."
   ]
  },
  {
   "cell_type": "code",
   "execution_count": null,
   "metadata": {},
   "outputs": [],
   "source": []
  },
  {
   "cell_type": "code",
   "execution_count": null,
   "metadata": {},
   "outputs": [],
   "source": []
  },
  {
   "cell_type": "code",
   "execution_count": null,
   "metadata": {},
   "outputs": [],
   "source": []
  },
  {
   "cell_type": "code",
   "execution_count": null,
   "metadata": {},
   "outputs": [],
   "source": []
  },
  {
   "cell_type": "code",
   "execution_count": null,
   "metadata": {},
   "outputs": [],
   "source": []
  },
  {
   "cell_type": "code",
   "execution_count": null,
   "metadata": {},
   "outputs": [],
   "source": []
  },
  {
   "cell_type": "code",
   "execution_count": null,
   "metadata": {},
   "outputs": [],
   "source": []
  },
  {
   "cell_type": "code",
   "execution_count": null,
   "metadata": {},
   "outputs": [],
   "source": []
  },
  {
   "cell_type": "code",
   "execution_count": null,
   "metadata": {},
   "outputs": [],
   "source": []
  },
  {
   "cell_type": "code",
   "execution_count": null,
   "metadata": {},
   "outputs": [],
   "source": []
  },
  {
   "cell_type": "markdown",
   "metadata": {},
   "source": [
    "### 2.2. Answer\n",
    "\n",
    "Use your analyses from 2.1 to answer the research question."
   ]
  },
  {
   "cell_type": "markdown",
   "metadata": {},
   "source": []
  },
  {
   "cell_type": "markdown",
   "metadata": {},
   "source": [
    "## 3. Most Additional Predictive Power\n",
    "\n",
    "We would next like to answer the following research question using the *full dataset*.\n",
    "\n",
    "\n",
    "`Which explanatory variable in this list brings the second most amount of predictive power to the model in addition to the variable that brings the most power`?\n",
    "\n",
    "### 3.1. 9 Candidate Models\n",
    "\n",
    "Create 9 linear regression candidate models.\n",
    "\n",
    "* One that predicts `Aroma` with `Aftertaste` and the `variable you selected in 2.1`\n",
    "* ...\n",
    "* One that predicts `Aroma` with `Color` and the `variable you selected in 2.1`\n",
    "* One that predicts `Aroma` with `Variety` and the `variable you selected in 2.1`\n",
    "\n",
    "*(Or in other words each candidate model should include the explanatory variable that you selected in 2.1 and one other available explanatory variable in the list).*\n",
    "\n",
    "Calculate/show the R^2 for each of these models."
   ]
  },
  {
   "cell_type": "code",
   "execution_count": null,
   "metadata": {},
   "outputs": [],
   "source": []
  },
  {
   "cell_type": "code",
   "execution_count": null,
   "metadata": {},
   "outputs": [],
   "source": []
  },
  {
   "cell_type": "code",
   "execution_count": null,
   "metadata": {},
   "outputs": [],
   "source": []
  },
  {
   "cell_type": "code",
   "execution_count": null,
   "metadata": {},
   "outputs": [],
   "source": []
  },
  {
   "cell_type": "code",
   "execution_count": null,
   "metadata": {},
   "outputs": [],
   "source": []
  },
  {
   "cell_type": "code",
   "execution_count": null,
   "metadata": {},
   "outputs": [],
   "source": []
  },
  {
   "cell_type": "code",
   "execution_count": null,
   "metadata": {},
   "outputs": [],
   "source": []
  },
  {
   "cell_type": "code",
   "execution_count": null,
   "metadata": {},
   "outputs": [],
   "source": []
  },
  {
   "cell_type": "code",
   "execution_count": null,
   "metadata": {},
   "outputs": [],
   "source": []
  },
  {
   "cell_type": "markdown",
   "metadata": {},
   "source": [
    "### 3.2. Answer\n",
    "\n",
    "Use your analyses from 3.1 to answer the research question."
   ]
  },
  {
   "cell_type": "markdown",
   "metadata": {},
   "source": []
  },
  {
   "cell_type": "markdown",
   "metadata": {},
   "source": [
    "## 4. Least Amount of Predictive Power (Considering All other Variables)\n",
    "\n",
    "Finally, we'd like to answer the following research question using the *full dataset*.\n",
    "\n",
    "`In the presence of ALL of the available explanatory variables, which explanatory variable brings the *least* amount of predictive power to the model?`\n",
    "\n",
    "### 4.1. 10 Candidate Models\n",
    "\n",
    "Create 10 candidate models.\n",
    "\n",
    "* One that predicts `Aroma` with all explanatory variables except for `Flavor`\n",
    "* One that predicts `Aroma` with all explanatory variables except for `Aftertaste`\n",
    "* One that predicts `Aroma` with all explanatory variables except for `Acidity`\n",
    "* One that predicts `Aroma` with all explanatory variables except for`Body`\n",
    "* One that predicts `Aroma` with all explanatory variables except for `Balance`\n",
    "* One that predicts `Aroma` with all explanatory variables except for `Uniformity`\n",
    "* One that predicts `Aroma` with all explanatory variables except for `Sweetness`\n",
    "* One that predicts `Aroma` with all explanatory variables except for `Moisture`\n",
    "* One that predicts `Aroma` with all explanatory variables except for `Color`\n",
    "* One that predicts `Aroma` with all explanatory variables except for `Variety`\n",
    "\n",
    "Calculate the R^2 for each of these models."
   ]
  },
  {
   "cell_type": "code",
   "execution_count": null,
   "metadata": {},
   "outputs": [],
   "source": []
  },
  {
   "cell_type": "code",
   "execution_count": null,
   "metadata": {},
   "outputs": [],
   "source": []
  },
  {
   "cell_type": "code",
   "execution_count": null,
   "metadata": {},
   "outputs": [],
   "source": []
  },
  {
   "cell_type": "code",
   "execution_count": null,
   "metadata": {},
   "outputs": [],
   "source": []
  },
  {
   "cell_type": "code",
   "execution_count": null,
   "metadata": {},
   "outputs": [],
   "source": []
  },
  {
   "cell_type": "code",
   "execution_count": null,
   "metadata": {},
   "outputs": [],
   "source": []
  },
  {
   "cell_type": "code",
   "execution_count": null,
   "metadata": {},
   "outputs": [],
   "source": []
  },
  {
   "cell_type": "code",
   "execution_count": null,
   "metadata": {},
   "outputs": [],
   "source": []
  },
  {
   "cell_type": "code",
   "execution_count": null,
   "metadata": {},
   "outputs": [],
   "source": []
  },
  {
   "cell_type": "code",
   "execution_count": null,
   "metadata": {},
   "outputs": [],
   "source": []
  },
  {
   "cell_type": "markdown",
   "metadata": {},
   "source": [
    "### 4.2. Answer\n",
    "\n",
    "Use your analyses from 4.1 to answer the research question."
   ]
  },
  {
   "cell_type": "markdown",
   "metadata": {},
   "source": []
  }
 ],
 "metadata": {
  "kernelspec": {
   "display_name": "Python 3 (ipykernel)",
   "language": "python",
   "name": "python3"
  },
  "language_info": {
   "codemirror_mode": {
    "name": "ipython",
    "version": 3
   },
   "file_extension": ".py",
   "mimetype": "text/x-python",
   "name": "python",
   "nbconvert_exporter": "python",
   "pygments_lexer": "ipython3",
   "version": "3.9.12"
  }
 },
 "nbformat": 4,
 "nbformat_minor": 2
}
