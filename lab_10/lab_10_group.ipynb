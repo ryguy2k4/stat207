{
 "cells": [
  {
   "cell_type": "markdown",
   "metadata": {},
   "source": [
    "# STAT 207 Lab Assignment 10 - Group Part [9 Points]\n",
    "\n",
    "\n",
    "\n",
    "## <u>Case Study</u>: Predicting Airbnb Superhost Status\n",
    "\n",
    "Suppose that you have a spare room in your house (in Seattle) and you are considering advertising this room to guests on Airbnb. Airbnb superhosts are considered to be experienced hosts who provide a shining example for other hosts, and extraordinary experiences for their guests. Once a host reaches Superhost status, a superhost badge will automatically appear on their listing and profile to help guests identify them. You would like to assess your chances of being named a superhost with your property.\n",
    "\n",
    "The following dataset is a sample (assume random) of available Airbnb listings in Seattle, WA. These listings were collected in January 2016, and filtered to just contain listings from the five most popular Seattlbe neighborhoods (for Airbnb listings) and just contain listings that are either in a house or apartment property.\n",
    "\n",
    "This dataset contains the following variables.\n",
    "\n",
    "**Listing Information**\n",
    "The dataset contains the following information about the Airbnb *listing*:\n",
    "* <u>price</u>: price of the listing (per night)(in US dollars)\n",
    "* <u>review_scores_rating</u>: the average rating of the listing [0,100] (100 is the best)\n",
    "* <u>number_of_reviews</u>: the number of reviews for the listing\n",
    "* <u>security_deposit</u>: the security deposit required for the listing (in US dollars)\n",
    "* <u>cleaning_fee</u>: the cleaning fee required for the listing (in US dollars)\n",
    "* <u>neighborhood</u>: the neighborhood of Seattle the listing is located in\n",
    "* <u>property_type</u>: is the listing in a 'House' or 'Apartment'\n",
    "* <u>room_type</u>: is the listing a 'Entire home/apt', 'Private room', or 'Shared room'\n",
    "* <u>accommodates</u>: how many guests will the listing accommodate\n",
    "* <u>bathrooms</u>:how many bathrooms does the listing have\n",
    "* <u>beds</u>: how many beds does the listing have\n",
    "\n",
    "**Host Information**\n",
    "The dataset also contains the following information about the *host* of the given Airbnb listing:\n",
    "* <u>host_is_superhost</u>: is the host a \"superhost\": t=True, f=False\n",
    "* <u>host_has_profile_pic</u>: does the host have a profile pic in their bio: t=True, f=False\n",
    "* <u>host_response_time</u>: how fast will the host respond to requests (on average)\n",
    "\n",
    "## Research Goals\n",
    "\n",
    "The primary research goal that we will pursue in this lab will be to build a predictive model that effectively predicts the `probability a Seattle Airbnb host is a **superhost**` for *new Seattle Airbnb listings/hosts* given some combination of the `remaining explanatory variables`.\n",
    "\n",
    "\n",
    "\n",
    "## Points\n",
    "\n",
    "<p>&nbsp;</p>\n",
    "<table style=\"border: none;border-collapse: collapse;width:102pt;\">\n",
    "    <tbody>\n",
    "        <tr>\n",
    "            <td style=\"color:black;font-size:15px;font-weight:700;font-style:normal;text-decoration:none;font-family:Calibri, sans-serif;text-align:general;vertical-align:bottom;border:.5pt solid black;height:14.25pt;width:51pt;\">Problem</td>\n",
    "            <td style=\"color:black;font-size:15px;font-weight:700;font-style:normal;text-decoration:none;font-family:Calibri, sans-serif;text-align:general;vertical-align:bottom;border:.5pt solid black;border-left:none;width:51pt;\">Points</td>\n",
    "        </tr>\n",
    "        <tr>\n",
    "            <td style=\"color:black;font-size:15px;font-weight:400;font-style:normal;text-decoration:none;font-family:Calibri, sans-serif;text-align:right;vertical-align:bottom;border:.5pt solid black;height:14.25pt;border-top:none;\">1.1</td>\n",
    "            <td style=\"color:black;font-size:15px;font-weight:400;font-style:normal;text-decoration:none;font-family:Calibri, sans-serif;text-align:right;vertical-align:bottom;border:.5pt solid black;border-top:none;border-left:none;\">0.25</td>\n",
    "        </tr>\n",
    "        <tr>\n",
    "            <td style=\"color:black;font-size:15px;font-weight:400;font-style:normal;text-decoration:none;font-family:Calibri, sans-serif;text-align:right;vertical-align:bottom;border:.5pt solid black;height:14.25pt;border-top:none;\">1.2</td>\n",
    "            <td style=\"color:black;font-size:15px;font-weight:400;font-style:normal;text-decoration:none;font-family:Calibri, sans-serif;text-align:right;vertical-align:bottom;border:.5pt solid black;border-top:none;border-left:none;\">0.75</td>\n",
    "        </tr>\n",
    "        <tr>\n",
    "            <td style=\"color:black;font-size:15px;font-weight:400;font-style:normal;text-decoration:none;font-family:Calibri, sans-serif;text-align:right;vertical-align:bottom;border:.5pt solid black;height:14.25pt;border-top:none;\">1.3</td>\n",
    "            <td style=\"color:black;font-size:15px;font-weight:400;font-style:normal;text-decoration:none;font-family:Calibri, sans-serif;text-align:right;vertical-align:bottom;border:.5pt solid black;border-top:none;border-left:none;\">0.5</td>\n",
    "        </tr>\n",
    "        <tr>\n",
    "            <td style=\"color:black;font-size:15px;font-weight:400;font-style:normal;text-decoration:none;font-family:Calibri, sans-serif;text-align:right;vertical-align:bottom;border:.5pt solid black;height:14.25pt;border-top:none;\">2.1</td>\n",
    "            <td style=\"color:black;font-size:15px;font-weight:400;font-style:normal;text-decoration:none;font-family:Calibri, sans-serif;text-align:right;vertical-align:bottom;border:.5pt solid black;border-top:none;border-left:none;\">1</td>\n",
    "        </tr>\n",
    "        <tr>\n",
    "            <td style=\"color:black;font-size:15px;font-weight:400;font-style:normal;text-decoration:none;font-family:Calibri, sans-serif;text-align:right;vertical-align:bottom;border:.5pt solid black;height:14.25pt;border-top:none;\">2.2</td>\n",
    "            <td style=\"color:black;font-size:15px;font-weight:400;font-style:normal;text-decoration:none;font-family:Calibri, sans-serif;text-align:right;vertical-align:bottom;border:.5pt solid black;border-top:none;border-left:none;\">0.75</td>\n",
    "        </tr>\n",
    "        <tr>\n",
    "            <td style=\"color:black;font-size:15px;font-weight:400;font-style:normal;text-decoration:none;font-family:Calibri, sans-serif;text-align:right;vertical-align:bottom;border:.5pt solid black;height:14.25pt;border-top:none;\">2.3</td>\n",
    "            <td style=\"color:black;font-size:15px;font-weight:400;font-style:normal;text-decoration:none;font-family:Calibri, sans-serif;text-align:right;vertical-align:bottom;border:.5pt solid black;border-top:none;border-left:none;\">0.25</td>\n",
    "        </tr>\n",
    "        <tr>\n",
    "            <td style=\"color:black;font-size:15px;font-weight:400;font-style:normal;text-decoration:none;font-family:Calibri, sans-serif;text-align:right;vertical-align:bottom;border:.5pt solid black;height:14.25pt;border-top:none;\">2.4</td>\n",
    "            <td style=\"color:black;font-size:15px;font-weight:400;font-style:normal;text-decoration:none;font-family:Calibri, sans-serif;text-align:right;vertical-align:bottom;border:.5pt solid black;border-top:none;border-left:none;\">1</td>\n",
    "        </tr>\n",
    "        <tr>\n",
    "            <td style=\"color:black;font-size:15px;font-weight:400;font-style:normal;text-decoration:none;font-family:Calibri, sans-serif;text-align:right;vertical-align:bottom;border:.5pt solid black;height:14.25pt;border-top:none;\">3</td>\n",
    "            <td style=\"color:black;font-size:15px;font-weight:400;font-style:normal;text-decoration:none;font-family:Calibri, sans-serif;text-align:right;vertical-align:bottom;border:.5pt solid black;border-top:none;border-left:none;\">3</td>\n",
    "        </tr>\n",
    "        <tr>\n",
    "            <td style=\"color:black;font-size:15px;font-weight:400;font-style:normal;text-decoration:none;font-family:Calibri, sans-serif;text-align:right;vertical-align:bottom;border:.5pt solid black;height:14.25pt;border-top:none;\">4</td>\n",
    "            <td style=\"color:black;font-size:15px;font-weight:400;font-style:normal;text-decoration:none;font-family:Calibri, sans-serif;text-align:right;vertical-align:bottom;border:.5pt solid black;border-top:none;border-left:none;\">1.5</td>\n",
    "        </tr>\n",
    "    </tbody>\n",
    "</table>"
   ]
  },
  {
   "cell_type": "code",
   "execution_count": null,
   "metadata": {},
   "outputs": [],
   "source": []
  },
  {
   "cell_type": "markdown",
   "metadata": {},
   "source": [
    "## 1. Basic Data Examination and Manipulation\n",
    "\n",
    "### 1.1. Basics\n",
    "1. Read the `seattle_airbnb_listings.csv` file into a dataframe.\n",
    "\n",
    "2. Display your dataframe.\n",
    "\n",
    "3. Show how many rows your dataframe has.\n",
    "\n"
   ]
  },
  {
   "cell_type": "code",
   "execution_count": null,
   "metadata": {},
   "outputs": [],
   "source": []
  },
  {
   "cell_type": "code",
   "execution_count": null,
   "metadata": {},
   "outputs": [],
   "source": []
  },
  {
   "cell_type": "markdown",
   "metadata": {},
   "source": [
    "### 1.2. 0/1 Response Variable\n",
    "\n",
    "Create a new 0/1 variable in your dataset in which `superhosts=1` and `nonsuperhosts=0`. "
   ]
  },
  {
   "cell_type": "code",
   "execution_count": null,
   "metadata": {},
   "outputs": [],
   "source": []
  },
  {
   "cell_type": "markdown",
   "metadata": {},
   "source": [
    "### 1.3. Train-Test-Split\n",
    "\n",
    "Create a training dataset and a test dataset from your dataframe using a random state of `207` and a test dataset size that is a random sample of about 20% of the observations from the original dataset."
   ]
  },
  {
   "cell_type": "code",
   "execution_count": null,
   "metadata": {},
   "outputs": [],
   "source": []
  },
  {
   "cell_type": "markdown",
   "metadata": {},
   "source": [
    "## 2. Full Model and Test Log-Likelihood Function\n",
    "\n",
    "In the interest of time, let's only consider using 5 potential explanatory variables in our logistic regression model, which will predict the `probability that a host is a superhost`:\n",
    "\n",
    "* `review_scores_rating`\n",
    "* `number_of_reviews`\n",
    "* `neighborhood`\n",
    "* `room_type`\n",
    "* `property_type`\n",
    "\n",
    "### 2.1. Fit the Model\n",
    "\n",
    "Fit this \"full\" logistic regression model and show the summary output table. Use this summary output table to find the log-likelihood function value of this model and the training dataset."
   ]
  },
  {
   "cell_type": "code",
   "execution_count": null,
   "metadata": {},
   "outputs": [],
   "source": []
  },
  {
   "cell_type": "markdown",
   "metadata": {},
   "source": []
  },
  {
   "cell_type": "markdown",
   "metadata": {},
   "source": [
    "### 2.2. Training Data Predictive Probabilities\n",
    "\n",
    "Calculate the predictive probabilities for all observations in the **training** dataset with model. **Call the pandas series that contains each of these predictive probabilities `phat_train`**.\n",
    "\n",
    "*Note: In addition to using the **.predict()** function to predict the **predictive probability** of a single observation with a logistic regression model, we can use **.predict(YOUR_DATAFRAME)** to predict the predictive probabilities for all observations in a given dataframe with a logistic regression model.*"
   ]
  },
  {
   "cell_type": "code",
   "execution_count": null,
   "metadata": {},
   "outputs": [],
   "source": []
  },
  {
   "cell_type": "markdown",
   "metadata": {},
   "source": [
    "### 2.3. Training Log-Likelihood Function Value\n",
    "\n",
    "Assuming that your training dataframe was called `df_train`, the code below should calculate the the log-likelihood function value for your training dataset and this model. (If not, modify the code below to contain the actual name of your training dataframe).\n",
    "\n",
    "This **log_loss()** should take take the following values:\n",
    "* the actual 0/1 response variable values\n",
    "* the predictive probabilities of a given model\n",
    "\n",
    "Verify that this output here is the same as what you got in 2.1."
   ]
  },
  {
   "cell_type": "code",
   "execution_count": 1,
   "metadata": {},
   "outputs": [
    {
     "ename": "NameError",
     "evalue": "name 'df_train' is not defined",
     "output_type": "error",
     "traceback": [
      "\u001b[1;31m---------------------------------------------------------------------------\u001b[0m",
      "\u001b[1;31mNameError\u001b[0m                                 Traceback (most recent call last)",
      "Input \u001b[1;32mIn [1]\u001b[0m, in \u001b[0;36m<cell line: 3>\u001b[1;34m()\u001b[0m\n\u001b[0;32m      1\u001b[0m \u001b[38;5;28;01mfrom\u001b[39;00m \u001b[38;5;21;01msklearn\u001b[39;00m\u001b[38;5;21;01m.\u001b[39;00m\u001b[38;5;21;01mmetrics\u001b[39;00m \u001b[38;5;28;01mimport\u001b[39;00m log_loss\n\u001b[1;32m----> 3\u001b[0m \u001b[38;5;241m-\u001b[39mlog_loss(\u001b[43mdf_train\u001b[49m[\u001b[38;5;124m'\u001b[39m\u001b[38;5;124my\u001b[39m\u001b[38;5;124m'\u001b[39m], phat_train)\u001b[38;5;241m*\u001b[39m\u001b[38;5;28mlen\u001b[39m(df_train[\u001b[38;5;124m'\u001b[39m\u001b[38;5;124my\u001b[39m\u001b[38;5;124m'\u001b[39m])\n",
      "\u001b[1;31mNameError\u001b[0m: name 'df_train' is not defined"
     ]
    }
   ],
   "source": [
    "from sklearn.metrics import log_loss\n",
    "\n",
    "-log_loss(df_train['y'], phat_train)*len(df_train['y'])"
   ]
  },
  {
   "cell_type": "markdown",
   "metadata": {},
   "source": []
  },
  {
   "cell_type": "markdown",
   "metadata": {},
   "source": [
    "### 2.4. Test Log-Likelihood Function Value\n",
    "\n",
    "Use the code in 2.2 and 2.3 to now calculate the log-likelihood function value of the **test dataset** and this model."
   ]
  },
  {
   "cell_type": "code",
   "execution_count": null,
   "metadata": {},
   "outputs": [],
   "source": []
  },
  {
   "cell_type": "code",
   "execution_count": null,
   "metadata": {},
   "outputs": [],
   "source": []
  },
  {
   "cell_type": "markdown",
   "metadata": {},
   "source": [
    "## 3. Backwards Elimination Algorithm\n",
    "\n",
    "Ideally, we'd like to train (with our training dataset) and select the logistic regression model that will yield the HIGHEST **test log-likelihood function (LLF) value** (or more specifically will be the LLF that is the least negative). Let's use a backwards elimination algorithm to try to help us find this model with the highest test LLF value.\n",
    "\n",
    "*Note: Remember that the backwards elimination algorithm is just an algorithm \"template\". You can use this algorithm template to evaluate other types of models (like logistic regression) in attempt to find the model that has the highest metric value (like the highest test LLF value).*"
   ]
  },
  {
   "cell_type": "code",
   "execution_count": null,
   "metadata": {},
   "outputs": [],
   "source": []
  },
  {
   "cell_type": "code",
   "execution_count": null,
   "metadata": {},
   "outputs": [],
   "source": []
  },
  {
   "cell_type": "code",
   "execution_count": null,
   "metadata": {},
   "outputs": [],
   "source": []
  },
  {
   "cell_type": "code",
   "execution_count": null,
   "metadata": {},
   "outputs": [],
   "source": []
  },
  {
   "cell_type": "code",
   "execution_count": null,
   "metadata": {},
   "outputs": [],
   "source": []
  },
  {
   "cell_type": "code",
   "execution_count": null,
   "metadata": {},
   "outputs": [],
   "source": []
  },
  {
   "cell_type": "code",
   "execution_count": null,
   "metadata": {},
   "outputs": [],
   "source": []
  },
  {
   "cell_type": "code",
   "execution_count": null,
   "metadata": {},
   "outputs": [],
   "source": []
  },
  {
   "cell_type": "code",
   "execution_count": null,
   "metadata": {},
   "outputs": [],
   "source": []
  },
  {
   "cell_type": "code",
   "execution_count": null,
   "metadata": {},
   "outputs": [],
   "source": []
  },
  {
   "cell_type": "code",
   "execution_count": null,
   "metadata": {},
   "outputs": [],
   "source": []
  },
  {
   "cell_type": "code",
   "execution_count": null,
   "metadata": {},
   "outputs": [],
   "source": []
  },
  {
   "cell_type": "code",
   "execution_count": null,
   "metadata": {},
   "outputs": [],
   "source": []
  },
  {
   "cell_type": "code",
   "execution_count": null,
   "metadata": {},
   "outputs": [],
   "source": []
  },
  {
   "cell_type": "code",
   "execution_count": null,
   "metadata": {},
   "outputs": [],
   "source": []
  },
  {
   "cell_type": "code",
   "execution_count": null,
   "metadata": {},
   "outputs": [],
   "source": []
  },
  {
   "cell_type": "code",
   "execution_count": null,
   "metadata": {},
   "outputs": [],
   "source": []
  },
  {
   "cell_type": "markdown",
   "metadata": {},
   "source": [
    "## 4. Final Model\n",
    "\n",
    "Write out your final logistic regression model in equation form using the three different representations that we discussed in class.\n",
    "1. The one that predicts the **probability** the host is a superhost on the left hand side.\n",
    "2. The one that predicts the **odds** the host is a superhost on the left hand side.\n",
    "3. The one that predicts the **log-odds** the host is a superhost on the left hand side.\n",
    "\n",
    "Make sure that you use the appropriate notation that we discussed in class."
   ]
  },
  {
   "cell_type": "code",
   "execution_count": null,
   "metadata": {},
   "outputs": [],
   "source": []
  },
  {
   "cell_type": "code",
   "execution_count": null,
   "metadata": {},
   "outputs": [],
   "source": []
  },
  {
   "cell_type": "markdown",
   "metadata": {},
   "source": []
  }
 ],
 "metadata": {
  "kernelspec": {
   "display_name": "Python 3 (ipykernel)",
   "language": "python",
   "name": "python3"
  },
  "language_info": {
   "codemirror_mode": {
    "name": "ipython",
    "version": 3
   },
   "file_extension": ".py",
   "mimetype": "text/x-python",
   "name": "python",
   "nbconvert_exporter": "python",
   "pygments_lexer": "ipython3",
   "version": "3.9.12"
  }
 },
 "nbformat": 4,
 "nbformat_minor": 2
}
