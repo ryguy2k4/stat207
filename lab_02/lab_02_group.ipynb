{
 "cells": [
  {
   "cell_type": "markdown",
   "metadata": {},
   "source": [
    "# STAT 207 Lab Assignment 2 - Group Part - [5 total points]\n"
   ]
  },
  {
   "cell_type": "markdown",
   "metadata": {},
   "source": [
    "Due: Tuesday, January 30, 11:59pm CST\n",
    "\n",
    "<hr>\n"
   ]
  },
  {
   "cell_type": "markdown",
   "metadata": {},
   "source": [
    "## <u>Case Study</u>: Learning More about Billionaires Continued\n",
    "\n",
    "In this case study we will explore a dataset comprised of all the world's billionaires from 2021 https://www.forbes.com/real-time-billionaires/#49c85f6e3d78, this dataset is contained in the attached **billionaire_2021_demographic.csv** file. This file contains the following variables.\n",
    "\n",
    "* **name** of the billionaire\n",
    "* **NetWorth_billions**: their networth in billions USD\n",
    "* **Country**: country that they reside in\n",
    "* **Source**: the source of their income\n",
    "* **Rank**: their ranking in the 2021 billionaire list\n",
    "* **Age**: their age in 2021\n",
    "* **Industry**: the industry that they derive their wealth from\n",
    "* **company_founded**: year their company was founded\n",
    "* **company_relationship**: their relationship to the company\n",
    "* **company_type**: the type of business this company is\n",
    "* **demographics_gender**: the gender of the billionaire\n",
    "* **location_region**: the region of the world this billionaire lives in\n",
    "* **wealth_type**: the type of billionaire they are\n",
    "* **wealth_how_category**: A category representing where their money came from.\n",
    "* **wealth_how_industry**: The specific industry this billionaire profitted from.\n",
    "* **wealth_how_inherited**: The way that this money was inherited (or not inherited). Inheritance can come from a spouse, the father, or from multiple generations within a family (either 3, 4, or 5+).\n",
    "\n",
    "*More Info if Interested: Building off the Forbes World’s Billionaires lists from 1996-2014, scholars at Peterson Institute for International Economics have added more variables about each billionaire - including whether they were self-made or inherited their wealth.*\n",
    "\n",
    "http://www.iie.com/publications/interstitial.cfm?ResearchID=2917\n",
    "\n",
    "\n",
    "<hr>\n",
    "\n",
    "## <u>Research Questions</u>:\n",
    "\n",
    "You should *thoroughly* seek to answer two types of research questions based on this dataset.\n",
    "\n",
    "**Question 1**: In this analysis you will choose **two categorical variables** that you are interested in (not the names or company names) and determine if there is an association between these two variables for the 2021 billionaires.\n",
    "\n",
    "**Question 2**: In this analysis you will also choose **a categorical and a numerical variable** that you are interested in (not the names or company names) and determine if there is an association between these two variables for the 2021 billionaires."
   ]
  },
  {
   "cell_type": "markdown",
   "metadata": {},
   "source": [
    "### Imports"
   ]
  },
  {
   "cell_type": "code",
   "execution_count": null,
   "metadata": {},
   "outputs": [],
   "source": []
  },
  {
   "cell_type": "markdown",
   "metadata": {},
   "source": [
    "### Contribution Report [0.25 pt]\n",
    "These contribution reports should be included in all group lab assignments. In this contribution report below you should list of the following:\n",
    "1. Names of each team member.\n",
    "2. Contributions of each team member to report.\n",
    "\n",
    "*For example:*\n",
    "\n",
    "*<u>Teammates:</u>*\n",
    "\n",
    "*1. John Smith: did number 1,2 and 3*\n",
    "\n",
    "*2. Jane Doe: did number 4, and 5*"
   ]
  },
  {
   "cell_type": "markdown",
   "metadata": {},
   "source": [
    "**insert here**\n"
   ]
  },
  {
   "cell_type": "markdown",
   "metadata": {},
   "source": [
    "## 1. Read the csv file [0.25 pt]\n",
    "\n",
    "Read the `billionaire_2021_demographic.csv` into a dataframe. You can assume that this dataframe has no missing values."
   ]
  },
  {
   "cell_type": "code",
   "execution_count": null,
   "metadata": {},
   "outputs": [],
   "source": []
  },
  {
   "cell_type": "markdown",
   "metadata": {},
   "source": [
    "## 2. First Research Question [2.25 pt]\n",
    "\n",
    "Select **two categorical variables** that you are interested in and answer the following questions.\n",
    "\n",
    "1. `Is there an association between these two categorical variables in this dataset? Explain why or why not.`\n",
    "2. `Describe the nature of the relationship between these categorical variables in this dataset.`\n",
    "\n",
    "*Note: Make sure that you thoroughly show the appropriate visualization and calculate the appropriate summary statistics to help you answer these questions. Make sure that you give your plots appropriate titles and axis labels as well!*\n",
    "\n",
    "*Note: You may choose to only focus on a few types of observations for each of these categorical variables if you'd like.*\n",
    "\n"
   ]
  },
  {
   "cell_type": "markdown",
   "metadata": {},
   "source": []
  },
  {
   "cell_type": "code",
   "execution_count": null,
   "metadata": {},
   "outputs": [],
   "source": []
  },
  {
   "cell_type": "code",
   "execution_count": null,
   "metadata": {},
   "outputs": [],
   "source": []
  },
  {
   "cell_type": "code",
   "execution_count": null,
   "metadata": {},
   "outputs": [],
   "source": []
  },
  {
   "cell_type": "markdown",
   "metadata": {},
   "source": []
  },
  {
   "cell_type": "markdown",
   "metadata": {},
   "source": [
    "## 2. Second Research Question [2.25 pt]\n",
    "\n",
    "Select **a categorical variable and a numerical variable** that you are interested in and answer the following question\n",
    "\n",
    "`Is there an association between these two variables in this dataset? Explain why or why not.`\n",
    "\n",
    "*Note: Make sure that you give your plots appropriate titles and axis labels as well!*\n",
    "\n",
    "*Note: You may choose to only focus on a few types of observations for each of these categorical variables if you'd like.*\n",
    "\n"
   ]
  },
  {
   "cell_type": "markdown",
   "metadata": {},
   "source": []
  },
  {
   "cell_type": "code",
   "execution_count": null,
   "metadata": {},
   "outputs": [],
   "source": []
  },
  {
   "cell_type": "markdown",
   "metadata": {},
   "source": []
  }
 ],
 "metadata": {
  "kernelspec": {
   "display_name": "Python 3 (ipykernel)",
   "language": "python",
   "name": "python3"
  },
  "language_info": {
   "codemirror_mode": {
    "name": "ipython",
    "version": 3
   },
   "file_extension": ".py",
   "mimetype": "text/x-python",
   "name": "python",
   "nbconvert_exporter": "python",
   "pygments_lexer": "ipython3",
   "version": "3.9.12"
  }
 },
 "nbformat": 4,
 "nbformat_minor": 2
}
